{
 "cells": [
  {
   "cell_type": "code",
   "execution_count": 1,
   "id": "fb5a4cb6-09fc-4672-9f63-f5d3146df018",
   "metadata": {},
   "outputs": [],
   "source": [
    "cpu_count = 100\n",
    "import os\n",
    "os.environ['XLA_FLAGS'] = f'--xla_force_host_platform_device_count={cpu_count}'\n",
    "import pandas as pd\n",
    "import numpy as np\n",
    "from sklearn.model_selection import train_test_split\n",
    "import matplotlib.pyplot as plt\n",
    "seed = 42\n",
    "import dmeq"
   ]
  },
  {
   "cell_type": "code",
   "execution_count": 2,
   "id": "2f8677f8-9829-4c74-9057-643105a94d24",
   "metadata": {},
   "outputs": [],
   "source": [
    "from typing import Sequence"
   ]
  },
  {
   "cell_type": "code",
   "execution_count": 3,
   "id": "4c8b8692-7f02-4137-b4a2-f3b50807a6c7",
   "metadata": {},
   "outputs": [],
   "source": [
    "import jax.numpy as jnp\n",
    "from jax import pmap, vmap, jit, random, value_and_grad"
   ]
  },
  {
   "cell_type": "code",
   "execution_count": 4,
   "id": "89776a47-7f6b-40fb-83f7-a44a77adfb75",
   "metadata": {},
   "outputs": [
    {
     "name": "stderr",
     "output_type": "stream",
     "text": [
      "No GPU/TPU found, falling back to CPU. (Set TF_CPP_MIN_LOG_LEVEL=0 and rerun for more info.)\n"
     ]
    }
   ],
   "source": [
    "key = random.PRNGKey(seed)"
   ]
  },
  {
   "cell_type": "code",
   "execution_count": 5,
   "id": "45075c51-456a-4dfb-a351-4fbc7b646163",
   "metadata": {},
   "outputs": [],
   "source": [
    "from flax import linen as nn\n",
    "import optax"
   ]
  },
  {
   "cell_type": "code",
   "execution_count": 6,
   "id": "c83782b0-c26c-45db-82f5-c11079901f50",
   "metadata": {},
   "outputs": [],
   "source": [
    "from scipy.stats.qmc import LatinHypercube"
   ]
  },
  {
   "cell_type": "code",
   "execution_count": 7,
   "id": "6c49b4f3-5601-4e3a-b28b-354d08842cba",
   "metadata": {},
   "outputs": [],
   "source": [
    "n_samples = int(1e5)\n",
    "\n",
    "bounds = pd.DataFrame.from_records([\n",
    "    ('EIR', 0, 100),\n",
    "    ('eta', 1/(40 * 365), 1/(20 * 365)),\n",
    "    ('Q0', 0, 1),\n",
    "    ('s2', 1, 3),\n",
    "    ('rU', 1/1000, 1/30),\n",
    "    ('cD', 0, 1),\n",
    "    ('g_inf', 0.01, 10),\n",
    "    ('cU', 0, 1),\n",
    "    ('kb', 0.01, 10),\n",
    "    ('ub', 1, 10),\n",
    "    ('uc', 1, 10),\n",
    "    ('ud', 1, 10),\n",
    "    ('kc', .01, 10),\n",
    "    ('b0', .01, .99),\n",
    "    ('b1', .01, .99),\n",
    "    ('IB0', 1, 100),\n",
    "    ('IC0', 1, 100),\n",
    "    ('ID0', 1, 100),\n",
    "    ('tau', 1, 20),\n",
    "    ('phi0', 0, 1),\n",
    "    ('phi1', 0, 1),\n",
    "    ('mu', 0, 1),\n",
    "    ('f', 0, 1),\n",
    "    ('fd0', 0, 1),\n",
    "    ('ad0', 20 * 365, 40 * 365),\n",
    "    ('gd', 1, 10),\n",
    "    ('PM', 0, 1),\n",
    "    ('dm', 0, 1000)\n",
    "], columns=['name', 'lower', 'upper'])\n",
    "\n",
    "sampler = LatinHypercube(d=len(bounds), seed=42)\n",
    "\n",
    "samples = sampler.random(n_samples)\n",
    "\n",
    "samples = samples * (bounds.upper - bounds.lower).to_numpy() + bounds.lower.to_numpy()"
   ]
  },
  {
   "cell_type": "code",
   "execution_count": 8,
   "id": "4ddc916f-fda3-40e8-9cbc-e9da83698655",
   "metadata": {},
   "outputs": [],
   "source": [
    "jsamples = jnp.array(samples)\n",
    "batched_samples = jnp.reshape(\n",
    "    jsamples,\n",
    "    (cpu_count, int(jsamples.shape[0] / cpu_count)) + jsamples.shape[1:]\n",
    ")"
   ]
  },
  {
   "cell_type": "code",
   "execution_count": 9,
   "id": "d19aa0b1-e3e3-406e-a585-d6acef913e4f",
   "metadata": {},
   "outputs": [],
   "source": [
    "param_keys = list(bounds['name'])\n",
    "p = dmeq.default_parameters()\n",
    "\n",
    "@jit\n",
    "def run_eq(params):\n",
    "    local_p = p.copy()\n",
    "    for i in range(len(param_keys)):\n",
    "        local_p[param_keys[i]] = params[i]\n",
    "    return dmeq.solve(local_p, dtype=jnp.float64)\n",
    "\n",
    "runner = pmap(vmap(run_eq, in_axes=0), in_axes=0)\n",
    "\n",
    "results = runner(batched_samples)\n",
    "results = jnp.reshape(results, (jsamples.shape[0], -1))"
   ]
  },
  {
   "cell_type": "code",
   "execution_count": 10,
   "id": "2e5053b3-18b2-4510-b4d2-89806ebed628",
   "metadata": {},
   "outputs": [],
   "source": [
    "rand_index = random.permutation(key, n_samples, independent=True)\n",
    "cut = int(n_samples * 0.8)\n",
    "idx_train, idx_test = rand_index[:cut], rand_index[cut:] "
   ]
  },
  {
   "cell_type": "code",
   "execution_count": 11,
   "id": "7c8b636e-b706-4ec0-ae8d-32f0fd1d6efe",
   "metadata": {},
   "outputs": [],
   "source": [
    "result_ranges = [\n",
    "    (0, 100), # prev\n",
    "    (100, 200), # inc\n",
    "    (200, 300) # prop\n",
    "]\n",
    "\n",
    "result_stats = [\n",
    "    (\n",
    "        jnp.mean(results[idx_train,lower:upper], axis=None),\n",
    "        jnp.std(results[idx_train,lower:upper], axis=None)\n",
    "    )\n",
    "    for lower, upper in result_ranges\n",
    "]\n",
    "\n",
    "standard_results = jnp.concatenate([\n",
    "    (results[:,result_ranges[i][0]:result_ranges[i][1]] - result_stats[i][0]) / result_stats[i][1]\n",
    "    for i in range(len(result_ranges))\n",
    "], axis=1)"
   ]
  },
  {
   "cell_type": "code",
   "execution_count": 12,
   "id": "1362cdd3-72e9-4b21-971c-a7b21994b80f",
   "metadata": {},
   "outputs": [],
   "source": [
    "sample_mean, sample_std = jnp.mean(samples[idx_train], axis=0), jnp.std(samples[idx_train], axis=0)\n",
    "standard_samples = (samples - sample_mean) / sample_std"
   ]
  },
  {
   "cell_type": "code",
   "execution_count": 13,
   "id": "c5d27010-531a-4df5-9c0f-9c39b8b54b84",
   "metadata": {},
   "outputs": [],
   "source": [
    "X_train = standard_samples[idx_train]\n",
    "y_train = standard_results[idx_train]\n",
    "X_test = standard_samples[idx_test]\n",
    "y_test = standard_results[idx_test]"
   ]
  },
  {
   "cell_type": "code",
   "execution_count": 14,
   "id": "f8ed45e2-079d-4252-a494-faabe793a91a",
   "metadata": {},
   "outputs": [],
   "source": [
    "class MLP(nn.Module):\n",
    "    units: int\n",
    "    n_hidden: int\n",
    "    n_output: int\n",
    "\n",
    "    def setup(self):\n",
    "        self.layers = [nn.Dense(self.units) for _ in range(self.n_hidden)]\n",
    "        self.output_layer = nn.Dense(self.n_output)\n",
    "\n",
    "    def __call__(self, inputs):\n",
    "        x = inputs\n",
    "        for i, lyr in enumerate(self.layers):\n",
    "            x = lyr(x)\n",
    "            x = nn.relu(x)\n",
    "        return self.output_layer(x)"
   ]
  },
  {
   "cell_type": "code",
   "execution_count": 15,
   "id": "01a0c184-d28b-41e3-be24-591923e496b6",
   "metadata": {},
   "outputs": [],
   "source": [
    "model = MLP(units=288, n_hidden=3, n_output=y_train.shape[1])\n",
    "params = model.init(key, X_train)"
   ]
  },
  {
   "cell_type": "code",
   "execution_count": 16,
   "id": "980eae61-1af9-463a-8fdb-05f764e797eb",
   "metadata": {},
   "outputs": [],
   "source": [
    "from jax.nn import softplus"
   ]
  },
  {
   "cell_type": "code",
   "execution_count": 17,
   "id": "73f380f4-017c-497e-ac74-de0fe0947eb3",
   "metadata": {},
   "outputs": [],
   "source": [
    "@jit\n",
    "def log_cosh(params, x_batched, y_batched):\n",
    "    # Define a numerically stable log cosh for a single pair (x,y)\n",
    "    def error(x, y):\n",
    "        pred = model.apply(params, x)\n",
    "        diff = y - pred\n",
    "        return jnp.mean(diff + softplus(-2 * diff) - jnp.log(2.))\n",
    "    # Vectorize the previous to compute the average of the loss on all samples.\n",
    "    return jnp.mean(vmap(error)(x_batched, y_batched), axis=0)"
   ]
  },
  {
   "cell_type": "code",
   "execution_count": 18,
   "id": "98c99df1-fe14-4a92-a331-a59b6c6b3b5c",
   "metadata": {},
   "outputs": [],
   "source": [
    "tx = optax.adam(learning_rate=.001)\n",
    "opt_state = tx.init(params)\n",
    "loss_grad_fn = value_and_grad(log_cosh)"
   ]
  },
  {
   "cell_type": "code",
   "execution_count": 19,
   "id": "c6b64d39-41a0-4223-bd34-2afa6b528744",
   "metadata": {},
   "outputs": [],
   "source": [
    "batch_size = 100\n",
    "n_batches = X_train.shape[0] // batch_size\n",
    "X_train_batched = jnp.reshape(\n",
    "    X_train,\n",
    "    (n_batches, batch_size) + X_train.shape[1:]\n",
    ")\n",
    "y_train_batched = jnp.reshape(\n",
    "    y_train,\n",
    "    (n_batches, batch_size) + y_train.shape[1:]\n",
    ")"
   ]
  },
  {
   "cell_type": "code",
   "execution_count": 20,
   "id": "87175d90-5392-4d51-a826-160d7961c8fb",
   "metadata": {},
   "outputs": [
    {
     "name": "stdout",
     "output_type": "stream",
     "text": [
      "Loss step 0:  0.006683290516293164\n",
      "Loss step 10:  0.0010370930545408757\n",
      "Loss step 20:  0.0007939111179867014\n",
      "Loss step 30:  0.0005661009614488054\n",
      "Loss step 40:  0.00045738088346625357\n",
      "Loss step 50:  0.00041179391878277624\n",
      "Loss step 60:  0.0003672221108659905\n",
      "Loss step 70:  0.00038902278186166015\n",
      "Loss step 80:  0.00027200865324040157\n",
      "Loss step 90:  0.0003069472198868716\n",
      "CPU times: user 1h 23min 37s, sys: 11min 36s, total: 1h 35min 14s\n",
      "Wall time: 29min 8s\n"
     ]
    }
   ],
   "source": [
    "%%time\n",
    "epochs = 100\n",
    "\n",
    "for i in range(epochs):\n",
    "    key, key_i = random.split(key)\n",
    "    for b in random.permutation(key_i, n_batches, independent=True):\n",
    "        loss_val, grads = loss_grad_fn(params, X_train_batched[b], y_train_batched[b])\n",
    "        updates, opt_state = tx.update(grads, opt_state)\n",
    "        params = optax.apply_updates(params, updates)\n",
    "    if i % 10 == 0:\n",
    "        print('Loss step {}: '.format(i), log_cosh(params, X_train, y_train))"
   ]
  },
  {
   "cell_type": "code",
   "execution_count": 21,
   "id": "092e447d-b61d-45e8-9272-b83ccb084007",
   "metadata": {},
   "outputs": [],
   "source": [
    "batch_predict = vmap(jit(lambda y: model.apply(params, y)))\n",
    "y_hat = batch_predict(X_test)"
   ]
  },
  {
   "cell_type": "code",
   "execution_count": 22,
   "id": "d1537255-9e39-43c1-828f-5692a4ee130c",
   "metadata": {},
   "outputs": [],
   "source": [
    "def inverse_standardise(x):\n",
    "    return jnp.concatenate([\n",
    "        x[:,result_ranges[i][0]:result_ranges[i][1]] * result_stats[i][1] + result_stats[i][0]\n",
    "        for i in range(len(result_ranges))\n",
    "    ], axis=1)"
   ]
  },
  {
   "cell_type": "code",
   "execution_count": 23,
   "id": "76a0bcd8-e491-42f3-852b-57c834dc9df3",
   "metadata": {},
   "outputs": [],
   "source": [
    "def prev_2_10(y):\n",
    "    return jnp.sum(y[:,2:10], axis=1) / jnp.sum(y[:,202:210], axis=1)\n",
    "\n",
    "def inc_0_5(y):\n",
    "    return jnp.sum(y[:,100:105], axis=1) / jnp.sum(y[:,200:205], axis=1)"
   ]
  },
  {
   "cell_type": "code",
   "execution_count": 24,
   "id": "8675b600-b552-4557-931a-a4c55fb543b6",
   "metadata": {},
   "outputs": [
    {
     "data": {
      "text/plain": [
       "Text(0, 0.5, 'true prev_2_10')"
      ]
     },
     "execution_count": 24,
     "metadata": {},
     "output_type": "execute_result"
    },
    {
     "data": {
      "image/png": "[encoded data removed]",
      "text/plain": [
       "<Figure size 640x480 with 1 Axes>"
      ]
     },
     "metadata": {},
     "output_type": "display_data"
    }
   ],
   "source": [
    "plt.scatter(prev_2_10(inverse_standardise(y_hat)), prev_2_10(inverse_standardise(y_test)), s=0.1)\n",
    "plt.plot(np.linspace(0, 0.8), np.linspace(0, 0.8), linestyle=':', color='orange')\n",
    "plt.xlabel('pred prev_2_10')\n",
    "plt.ylabel('true prev_2_10')"
   ]
  },
  {
   "cell_type": "code",
   "execution_count": 25,
   "id": "535926bf-c6e8-4712-a94a-998f297b4be0",
   "metadata": {},
   "outputs": [
    {
     "data": {
      "text/plain": [
       "Text(0, 0.5, 'true inc_0_5')"
      ]
     },
     "execution_count": 25,
     "metadata": {},
     "output_type": "execute_result"
    },
    {
     "data": {
      "image/png": "[encoded data removed]",
      "text/plain": [
       "<Figure size 640x480 with 1 Axes>"
      ]
     },
     "metadata": {},
     "output_type": "display_data"
    }
   ],
   "source": [
    "plt.scatter(inc_0_5(inverse_standardise(y_hat)), inc_0_5(inverse_standardise(y_test)), s=0.1)\n",
    "plt.plot(np.linspace(0, 0.05), np.linspace(0, 0.05), linestyle=':', color='orange')\n",
    "plt.xlabel('pred inc_0_5')\n",
    "plt.ylabel('true inc_0_5')"
   ]
  },
  {
   "cell_type": "code",
   "execution_count": 26,
   "id": "d6b6c3ce-20d5-404e-9d65-148837cca896",
   "metadata": {},
   "outputs": [],
   "source": [
    "import pickle\n",
    "from dataclasses import dataclass\n",
    "from typing import Any, Sequence\n",
    "from jaxtyping import PyTree, Float, Array"
   ]
  },
  {
   "cell_type": "code",
   "execution_count": 27,
   "id": "2aec5de9-4fdc-4472-8f06-5a2f4674a302",
   "metadata": {},
   "outputs": [],
   "source": [
    "@dataclass\n",
    "class Surrogate():\n",
    "    model: Any\n",
    "    params: PyTree\n",
    "    param_keys: Sequence[str]\n",
    "    param_stats: Sequence[Float[Array, 'input_dim']]\n",
    "    output_ranges: Sequence[Sequence[int]]\n",
    "    output_stats: Sequence[Sequence[Float[Array, 'output_dim']]]\n",
    "    \n",
    "    def run(self, p):\n",
    "        input_array = jnp.array([p[k] for k in self.param_keys])\n",
    "        standardised_input = (input_array - self.param_stats[0]) / self.param_stats[1]\n",
    "        output = self.model.apply(self.params, standardised_input)\n",
    "        standardised_result = jnp.concatenate([\n",
    "            output[self.output_ranges[i][0]:self.output_ranges[i][1]] *\n",
    "                self.output_stats[i][1] + self.output_stats[i][0]\n",
    "            for i in range(len(self.output_ranges))\n",
    "        ])\n",
    "        return jnp.reshape(\n",
    "            standardised_result,\n",
    "            (\n",
    "                len(self.output_ranges),\n",
    "                (self.output_ranges[0][1] - self.output_ranges[0][0])\n",
    "            )\n",
    "        )"
   ]
  },
  {
   "cell_type": "code",
   "execution_count": 28,
   "id": "181d935e-99da-4a09-b00e-30c2b7f13eb4",
   "metadata": {},
   "outputs": [],
   "source": [
    "s = Surrogate(\n",
    "    model=model,\n",
    "    params=params,\n",
    "    param_keys=bounds['name'],\n",
    "    param_stats=(sample_mean, sample_std),\n",
    "    output_ranges=result_ranges,\n",
    "    output_stats=result_stats\n",
    ")"
   ]
  },
  {
   "cell_type": "code",
   "execution_count": 29,
   "id": "693a7ceb-1147-41b9-9939-119f921c4210",
   "metadata": {},
   "outputs": [],
   "source": [
    "with open('eq_surrogate', 'wb') as f:\n",
    "    pickle.dump(s, f)"
   ]
  },
  {
   "cell_type": "code",
   "execution_count": null,
   "id": "06dc5297-7148-40a6-9265-026d27ad3a6c",
   "metadata": {},
   "outputs": [],
   "source": []
  }
 ],
 "metadata": {
  "kernelspec": {
   "display_name": "Python 3 (ipykernel)",
   "language": "python",
   "name": "python3"
  },
  "language_info": {
   "codemirror_mode": {
    "name": "ipython",
    "version": 3
   },
   "file_extension": ".py",
   "mimetype": "text/x-python",
   "name": "python",
   "nbconvert_exporter": "python",
   "pygments_lexer": "ipython3",
   "version": "3.10.7"
  }
 },
 "nbformat": 4,
 "nbformat_minor": 5
}
