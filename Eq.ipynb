{
 "cells": [
  {
   "cell_type": "code",
   "execution_count": 1,
   "id": "fb5a4cb6-09fc-4672-9f63-f5d3146df018",
   "metadata": {},
   "outputs": [],
   "source": [
    "import pandas as pd\n",
    "import numpy as np\n",
    "from sklearn.model_selection import train_test_split\n",
    "import matplotlib.pyplot as plt\n",
    "seed = 42"
   ]
  },
  {
   "cell_type": "code",
   "execution_count": 2,
   "id": "53e391da-9aa3-41e0-950c-2691e3a5be95",
   "metadata": {},
   "outputs": [],
   "source": [
    "samples = pd.concat([\n",
    "    pd.read_csv(f'./outputs/eq/realisations_{i+1}.csv')\n",
    "    for i in range(100)\n",
    "])"
   ]
  },
  {
   "cell_type": "code",
   "execution_count": 3,
   "id": "b2ebf578-51da-4e0b-9cb0-0e1da19499b4",
   "metadata": {},
   "outputs": [
    {
     "name": "stderr",
     "output_type": "stream",
     "text": [
      "/tmp/ipykernel_78604/3695174085.py:3: FutureWarning: In a future version of pandas all arguments of DataFrame.drop except for the argument 'labels' will be keyword-only.\n",
      "  features = samples.drop(output_columns, 1)\n"
     ]
    }
   ],
   "source": [
    "output_columns = ['pfpr2_10']\n",
    "outputs = samples[output_columns]\n",
    "features = samples.drop(output_columns, 1)\n",
    "n_features = len(features.columns)\n",
    "n_outputs = len(outputs.columns)"
   ]
  },
  {
   "cell_type": "code",
   "execution_count": 4,
   "id": "e828151e-6204-4012-9066-0688331202bb",
   "metadata": {},
   "outputs": [
    {
     "data": {
      "text/plain": [
       "Index(['EIR', 'eta', 'Q0', 's2', 'rU', 'cD', 'g_inf', 'cU', 'kb', 'ub', 'uc',\n",
       "       'ud', 'kc', 'b0', 'b1', 'IB0', 'IC0', 'tau', 'phi0', 'phi1', 'mu', 'f',\n",
       "       'fd0', 'ad0', 'gd'],\n",
       "      dtype='object')"
      ]
     },
     "execution_count": 4,
     "metadata": {},
     "output_type": "execute_result"
    }
   ],
   "source": [
    "features.columns"
   ]
  },
  {
   "cell_type": "code",
   "execution_count": 5,
   "id": "2e5053b3-18b2-4510-b4d2-89806ebed628",
   "metadata": {},
   "outputs": [],
   "source": [
    "idx_train, idx_test = train_test_split(\n",
    "    np.arange(100000),#np.arange(len(outputs)),\n",
    "    test_size=0.2,\n",
    "    random_state=seed\n",
    ")"
   ]
  },
  {
   "cell_type": "code",
   "execution_count": 6,
   "id": "a51f421c-7618-4b47-8479-a28d00af0d5d",
   "metadata": {},
   "outputs": [
    {
     "name": "stderr",
     "output_type": "stream",
     "text": [
      "2022-10-31 10:18:27.078041: I tensorflow/core/platform/cpu_feature_guard.cc:193] This TensorFlow binary is optimized with oneAPI Deep Neural Network Library (oneDNN) to use the following CPU instructions in performance-critical operations:  AVX2 FMA\n",
      "To enable them in other operations, rebuild TensorFlow with the appropriate compiler flags.\n",
      "2022-10-31 10:18:27.246863: E tensorflow/stream_executor/cuda/cuda_blas.cc:2981] Unable to register cuBLAS factory: Attempting to register factory for plugin cuBLAS when one has already been registered\n"
     ]
    }
   ],
   "source": [
    "import tensorflow as tf\n",
    "from tensorflow.keras import Sequential, layers"
   ]
  },
  {
   "cell_type": "code",
   "execution_count": 7,
   "id": "c5d27010-531a-4df5-9c0f-9c39b8b54b84",
   "metadata": {},
   "outputs": [
    {
     "name": "stderr",
     "output_type": "stream",
     "text": [
      "2022-10-31 10:18:30.465920: I tensorflow/core/platform/cpu_feature_guard.cc:193] This TensorFlow binary is optimized with oneAPI Deep Neural Network Library (oneDNN) to use the following CPU instructions in performance-critical operations:  AVX2 FMA\n",
      "To enable them in other operations, rebuild TensorFlow with the appropriate compiler flags.\n",
      "2022-10-31 10:18:31.389750: I tensorflow/core/common_runtime/gpu/gpu_device.cc:1616] Created device /job:localhost/replica:0/task:0/device:GPU:0 with 38406 MB memory:  -> device: 0, name: NVIDIA A100-PCIE-40GB, pci bus id: 0000:27:00.0, compute capability: 8.0\n",
      "2022-10-31 10:18:31.391607: I tensorflow/core/common_runtime/gpu/gpu_device.cc:1616] Created device /job:localhost/replica:0/task:0/device:GPU:1 with 38406 MB memory:  -> device: 1, name: NVIDIA A100-PCIE-40GB, pci bus id: 0000:28:00.0, compute capability: 8.0\n"
     ]
    }
   ],
   "source": [
    "X_train = features.iloc[idx_train]\n",
    "y_train = outputs.iloc[idx_train]\n",
    "X_test = features.iloc[idx_test]\n",
    "y_test = outputs.iloc[idx_test]\n",
    "\n",
    "scaler = layers.Normalization()\n",
    "scaler.adapt(X_train.to_numpy())"
   ]
  },
  {
   "cell_type": "code",
   "execution_count": 8,
   "id": "80b65f08-2ed2-4996-879c-96d13b497510",
   "metadata": {},
   "outputs": [],
   "source": [
    "def create_model(\n",
    "    optimiser='adam',\n",
    "    n_hidden=3,\n",
    "    units=288,\n",
    "    dropout=.1,\n",
    "    loss='log_cosh',\n",
    "    hidden_activation='relu',\n",
    "    hidden_initialiser='he_normal',\n",
    "    output_activation='linear',\n",
    "    output_initialiser='glorot_normal'\n",
    "):\n",
    "    model = Sequential()\n",
    "    model.add(layers.Input(shape=(n_features,), dtype='float32'))\n",
    "    model.add(scaler)\n",
    "    for i in range(n_hidden):\n",
    "        model.add(layers.Dense(\n",
    "            units,\n",
    "            activation=hidden_activation,\n",
    "            kernel_initializer=hidden_initialiser)\n",
    "        )\n",
    "        model.add(layers.Dropout(dropout))\n",
    "    model.add(layers.Dense(n_outputs, activation=output_activation, kernel_initializer=output_initialiser))\n",
    "    model.compile(loss=loss, optimizer=optimiser, metrics='mse')\n",
    "    return model"
   ]
  },
  {
   "cell_type": "code",
   "execution_count": 9,
   "id": "dbd51a5f-8295-42a9-af25-4e647f7be908",
   "metadata": {},
   "outputs": [
    {
     "name": "stdout",
     "output_type": "stream",
     "text": [
      "Epoch 1/100\n",
      " 52/800 [>.............................] - ETA: 2s - loss: 0.1982 - mse: 0.5128 "
     ]
    },
    {
     "name": "stderr",
     "output_type": "stream",
     "text": [
      "2022-10-31 10:18:55.412091: I tensorflow/stream_executor/cuda/cuda_blas.cc:1614] TensorFloat-32 will be used for the matrix multiplication. This will only be logged once.\n"
     ]
    },
    {
     "name": "stdout",
     "output_type": "stream",
     "text": [
      "800/800 [==============================] - 3s 3ms/step - loss: 0.0223 - mse: 0.0525\n",
      "Epoch 2/100\n",
      "800/800 [==============================] - 2s 3ms/step - loss: 0.0027 - mse: 0.0053\n",
      "Epoch 3/100\n",
      "800/800 [==============================] - 2s 3ms/step - loss: 0.0017 - mse: 0.0034\n",
      "Epoch 4/100\n",
      "800/800 [==============================] - 2s 3ms/step - loss: 0.0013 - mse: 0.0026\n",
      "Epoch 5/100\n",
      "800/800 [==============================] - 2s 3ms/step - loss: 0.0011 - mse: 0.0021\n",
      "Epoch 6/100\n",
      "800/800 [==============================] - 2s 3ms/step - loss: 9.0456e-04 - mse: 0.0018\n",
      "Epoch 7/100\n",
      "800/800 [==============================] - 2s 3ms/step - loss: 7.8613e-04 - mse: 0.0016\n",
      "Epoch 8/100\n",
      "800/800 [==============================] - 2s 3ms/step - loss: 7.1458e-04 - mse: 0.0014\n",
      "Epoch 9/100\n",
      "800/800 [==============================] - 2s 3ms/step - loss: 6.3113e-04 - mse: 0.0013\n",
      "Epoch 10/100\n",
      "800/800 [==============================] - 2s 3ms/step - loss: 5.8600e-04 - mse: 0.0012\n",
      "Epoch 11/100\n",
      "800/800 [==============================] - 2s 3ms/step - loss: 5.2310e-04 - mse: 0.0010\n",
      "Epoch 12/100\n",
      "800/800 [==============================] - 2s 3ms/step - loss: 4.8556e-04 - mse: 9.7245e-04\n",
      "Epoch 13/100\n",
      "800/800 [==============================] - 2s 3ms/step - loss: 4.3691e-04 - mse: 8.7493e-04\n",
      "Epoch 14/100\n",
      "800/800 [==============================] - 2s 3ms/step - loss: 3.9895e-04 - mse: 7.9880e-04\n",
      "Epoch 15/100\n",
      "800/800 [==============================] - 2s 3ms/step - loss: 3.6800e-04 - mse: 7.3681e-04\n",
      "Epoch 16/100\n",
      "800/800 [==============================] - 2s 3ms/step - loss: 3.4239e-04 - mse: 6.8552e-04\n",
      "Epoch 17/100\n",
      "800/800 [==============================] - 2s 3ms/step - loss: 3.2053e-04 - mse: 6.4164e-04\n",
      "Epoch 18/100\n",
      "800/800 [==============================] - 2s 3ms/step - loss: 2.9058e-04 - mse: 5.8163e-04\n",
      "Epoch 19/100\n",
      "800/800 [==============================] - 2s 3ms/step - loss: 2.7897e-04 - mse: 5.5836e-04\n",
      "Epoch 20/100\n",
      "800/800 [==============================] - 2s 3ms/step - loss: 2.5065e-04 - mse: 5.0166e-04\n",
      "Epoch 21/100\n",
      "800/800 [==============================] - 2s 3ms/step - loss: 2.3811e-04 - mse: 4.7654e-04\n",
      "Epoch 22/100\n",
      "800/800 [==============================] - 2s 3ms/step - loss: 2.1831e-04 - mse: 4.3686e-04\n",
      "Epoch 23/100\n",
      "800/800 [==============================] - 2s 3ms/step - loss: 2.0542e-04 - mse: 4.1105e-04\n",
      "Epoch 24/100\n",
      "800/800 [==============================] - 2s 3ms/step - loss: 1.9980e-04 - mse: 3.9982e-04\n",
      "Epoch 25/100\n",
      "800/800 [==============================] - 2s 3ms/step - loss: 1.8966e-04 - mse: 3.7953e-04\n",
      "Epoch 26/100\n",
      "800/800 [==============================] - 2s 3ms/step - loss: 1.7637e-04 - mse: 3.5290e-04\n",
      "Epoch 27/100\n",
      "800/800 [==============================] - 2s 3ms/step - loss: 1.7062e-04 - mse: 3.4140e-04\n",
      "Epoch 28/100\n",
      "800/800 [==============================] - 2s 3ms/step - loss: 1.6029e-04 - mse: 3.2072e-04\n",
      "Epoch 29/100\n",
      "800/800 [==============================] - 2s 3ms/step - loss: 1.5645e-04 - mse: 3.1303e-04\n",
      "Epoch 30/100\n",
      "800/800 [==============================] - 2s 3ms/step - loss: 1.5051e-04 - mse: 3.0114e-04\n",
      "Epoch 31/100\n",
      "800/800 [==============================] - 2s 3ms/step - loss: 1.4582e-04 - mse: 2.9175e-04\n",
      "Epoch 32/100\n",
      "800/800 [==============================] - 2s 3ms/step - loss: 1.4006e-04 - mse: 2.8024e-04\n",
      "Epoch 33/100\n",
      "800/800 [==============================] - 2s 3ms/step - loss: 1.3513e-04 - mse: 2.7038e-04\n",
      "Epoch 34/100\n",
      "800/800 [==============================] - 2s 3ms/step - loss: 1.3321e-04 - mse: 2.6650e-04\n",
      "Epoch 35/100\n",
      "800/800 [==============================] - 2s 3ms/step - loss: 1.3056e-04 - mse: 2.6121e-04\n",
      "Epoch 36/100\n",
      "800/800 [==============================] - 2s 3ms/step - loss: 1.2478e-04 - mse: 2.4964e-04\n",
      "Epoch 37/100\n",
      "800/800 [==============================] - 2s 3ms/step - loss: 1.2226e-04 - mse: 2.4460e-04\n",
      "Epoch 38/100\n",
      "800/800 [==============================] - 2s 3ms/step - loss: 1.1996e-04 - mse: 2.4000e-04\n",
      "Epoch 39/100\n",
      "800/800 [==============================] - 2s 3ms/step - loss: 1.1727e-04 - mse: 2.3461e-04\n",
      "Epoch 40/100\n",
      "800/800 [==============================] - 2s 3ms/step - loss: 1.1375e-04 - mse: 2.2757e-04\n",
      "Epoch 41/100\n",
      "800/800 [==============================] - 2s 3ms/step - loss: 1.1001e-04 - mse: 2.2009e-04\n",
      "Epoch 42/100\n",
      "800/800 [==============================] - 2s 3ms/step - loss: 1.1216e-04 - mse: 2.2439e-04\n",
      "Epoch 43/100\n",
      "800/800 [==============================] - 2s 3ms/step - loss: 1.0802e-04 - mse: 2.1610e-04\n",
      "Epoch 44/100\n",
      "800/800 [==============================] - 2s 3ms/step - loss: 1.0660e-04 - mse: 2.1326e-04\n",
      "Epoch 45/100\n",
      "800/800 [==============================] - 2s 3ms/step - loss: 1.0461e-04 - mse: 2.0927e-04\n",
      "Epoch 46/100\n",
      "800/800 [==============================] - 2s 3ms/step - loss: 1.0510e-04 - mse: 2.1027e-04\n",
      "Epoch 47/100\n",
      "800/800 [==============================] - 2s 3ms/step - loss: 1.0182e-04 - mse: 2.0369e-04\n",
      "Epoch 48/100\n",
      "800/800 [==============================] - 2s 3ms/step - loss: 1.0112e-04 - mse: 2.0230e-04\n",
      "Epoch 49/100\n",
      "800/800 [==============================] - 2s 3ms/step - loss: 1.0184e-04 - mse: 2.0373e-04\n",
      "Epoch 50/100\n",
      "800/800 [==============================] - 2s 3ms/step - loss: 9.8174e-05 - mse: 1.9640e-04\n",
      "Epoch 51/100\n",
      "800/800 [==============================] - 2s 3ms/step - loss: 9.8515e-05 - mse: 1.9709e-04\n",
      "Epoch 52/100\n",
      "800/800 [==============================] - 2s 3ms/step - loss: 9.9859e-05 - mse: 1.9978e-04\n",
      "Epoch 53/100\n",
      "800/800 [==============================] - 2s 3ms/step - loss: 9.7426e-05 - mse: 1.9490e-04\n",
      "Epoch 54/100\n",
      "800/800 [==============================] - 2s 3ms/step - loss: 9.3530e-05 - mse: 1.8711e-04\n",
      "Epoch 55/100\n",
      "800/800 [==============================] - 2s 3ms/step - loss: 9.8649e-05 - mse: 1.9735e-04\n",
      "Epoch 56/100\n",
      "800/800 [==============================] - 2s 3ms/step - loss: 9.4676e-05 - mse: 1.8940e-04\n",
      "Epoch 57/100\n",
      "800/800 [==============================] - 2s 3ms/step - loss: 9.4174e-05 - mse: 1.8840e-04\n",
      "Epoch 58/100\n",
      "800/800 [==============================] - 2s 3ms/step - loss: 9.4738e-05 - mse: 1.8952e-04\n",
      "Epoch 59/100\n",
      "800/800 [==============================] - 2s 3ms/step - loss: 9.1407e-05 - mse: 1.8286e-04\n",
      "Epoch 60/100\n",
      "800/800 [==============================] - 2s 3ms/step - loss: 9.1957e-05 - mse: 1.8396e-04\n",
      "Epoch 61/100\n",
      "800/800 [==============================] - 2s 3ms/step - loss: 9.1618e-05 - mse: 1.8328e-04\n",
      "Epoch 62/100\n",
      "800/800 [==============================] - 2s 3ms/step - loss: 9.0671e-05 - mse: 1.8139e-04\n",
      "Epoch 63/100\n",
      "800/800 [==============================] - 2s 3ms/step - loss: 9.4136e-05 - mse: 1.8832e-04\n",
      "Epoch 64/100\n",
      "800/800 [==============================] - 2s 3ms/step - loss: 9.3307e-05 - mse: 1.8666e-04\n",
      "Epoch 65/100\n",
      "800/800 [==============================] - 2s 3ms/step - loss: 8.7954e-05 - mse: 1.7596e-04\n",
      "Epoch 66/100\n",
      "800/800 [==============================] - 2s 3ms/step - loss: 8.8858e-05 - mse: 1.7776e-04\n",
      "Epoch 67/100\n",
      "800/800 [==============================] - 2s 3ms/step - loss: 8.6801e-05 - mse: 1.7364e-04\n",
      "Epoch 68/100\n",
      "800/800 [==============================] - 2s 3ms/step - loss: 8.9696e-05 - mse: 1.7944e-04\n",
      "Epoch 69/100\n",
      "800/800 [==============================] - 2s 3ms/step - loss: 8.7641e-05 - mse: 1.7532e-04\n",
      "Epoch 70/100\n",
      "800/800 [==============================] - 2s 3ms/step - loss: 8.8175e-05 - mse: 1.7639e-04\n",
      "Epoch 71/100\n",
      "800/800 [==============================] - 2s 3ms/step - loss: 8.7682e-05 - mse: 1.7541e-04\n",
      "Epoch 72/100\n",
      "800/800 [==============================] - 2s 3ms/step - loss: 8.7689e-05 - mse: 1.7542e-04\n",
      "Epoch 73/100\n",
      "800/800 [==============================] - 2s 3ms/step - loss: 8.9755e-05 - mse: 1.7955e-04\n",
      "Epoch 74/100\n",
      "800/800 [==============================] - 2s 3ms/step - loss: 8.5676e-05 - mse: 1.7139e-04\n",
      "Epoch 75/100\n",
      "800/800 [==============================] - 2s 3ms/step - loss: 8.7968e-05 - mse: 1.7598e-04\n",
      "Epoch 76/100\n",
      "800/800 [==============================] - 2s 3ms/step - loss: 8.4242e-05 - mse: 1.6852e-04\n",
      "Epoch 77/100\n",
      "800/800 [==============================] - 2s 3ms/step - loss: 8.4759e-05 - mse: 1.6956e-04\n",
      "Epoch 78/100\n",
      "800/800 [==============================] - 2s 3ms/step - loss: 8.6696e-05 - mse: 1.7344e-04\n",
      "Epoch 79/100\n",
      "800/800 [==============================] - 2s 3ms/step - loss: 8.4847e-05 - mse: 1.6973e-04\n",
      "Epoch 80/100\n",
      "800/800 [==============================] - 2s 3ms/step - loss: 8.5646e-05 - mse: 1.7133e-04\n",
      "Epoch 81/100\n",
      "800/800 [==============================] - 2s 3ms/step - loss: 8.5567e-05 - mse: 1.7118e-04\n",
      "Epoch 82/100\n",
      "800/800 [==============================] - 2s 3ms/step - loss: 8.6290e-05 - mse: 1.7262e-04\n",
      "Epoch 83/100\n",
      "800/800 [==============================] - 2s 3ms/step - loss: 8.6749e-05 - mse: 1.7354e-04\n",
      "Epoch 84/100\n",
      "800/800 [==============================] - 2s 3ms/step - loss: 8.5449e-05 - mse: 1.7093e-04\n",
      "Epoch 85/100\n",
      "800/800 [==============================] - 2s 3ms/step - loss: 8.4038e-05 - mse: 1.6812e-04\n",
      "Epoch 86/100\n",
      "800/800 [==============================] - 2s 3ms/step - loss: 8.1875e-05 - mse: 1.6378e-04\n",
      "Epoch 87/100\n",
      "800/800 [==============================] - 2s 3ms/step - loss: 8.4172e-05 - mse: 1.6838e-04\n",
      "Epoch 88/100\n",
      "800/800 [==============================] - 2s 3ms/step - loss: 8.2384e-05 - mse: 1.6481e-04\n",
      "Epoch 89/100\n",
      "800/800 [==============================] - 2s 3ms/step - loss: 8.3515e-05 - mse: 1.6706e-04\n",
      "Epoch 90/100\n",
      "800/800 [==============================] - 2s 3ms/step - loss: 8.3139e-05 - mse: 1.6631e-04\n",
      "Epoch 91/100\n",
      "800/800 [==============================] - 2s 3ms/step - loss: 8.4018e-05 - mse: 1.6807e-04\n",
      "Epoch 92/100\n",
      "800/800 [==============================] - 2s 3ms/step - loss: 8.2731e-05 - mse: 1.6550e-04\n",
      "Epoch 93/100\n",
      "800/800 [==============================] - 2s 3ms/step - loss: 8.2931e-05 - mse: 1.6590e-04\n",
      "Epoch 94/100\n",
      "800/800 [==============================] - 2s 3ms/step - loss: 8.2262e-05 - mse: 1.6456e-04\n",
      "Epoch 95/100\n",
      "800/800 [==============================] - 2s 3ms/step - loss: 8.2509e-05 - mse: 1.6506e-04\n",
      "Epoch 96/100\n",
      "800/800 [==============================] - 2s 3ms/step - loss: 8.2439e-05 - mse: 1.6491e-04\n",
      "Epoch 97/100\n",
      "800/800 [==============================] - 2s 3ms/step - loss: 8.1963e-05 - mse: 1.6396e-04\n",
      "Epoch 98/100\n",
      "800/800 [==============================] - 2s 3ms/step - loss: 8.0791e-05 - mse: 1.6161e-04\n",
      "Epoch 99/100\n",
      "800/800 [==============================] - 2s 3ms/step - loss: 8.3254e-05 - mse: 1.6655e-04\n",
      "Epoch 100/100\n",
      "800/800 [==============================] - 2s 3ms/step - loss: 8.1094e-05 - mse: 1.6222e-04\n"
     ]
    },
    {
     "data": {
      "text/plain": [
       "<keras.callbacks.History at 0x7fd1307aaa40>"
      ]
     },
     "execution_count": 9,
     "metadata": {},
     "output_type": "execute_result"
    }
   ],
   "source": [
    "model = create_model()\n",
    "model.fit(X_train, y_train, batch_size=100, epochs=100)"
   ]
  },
  {
   "cell_type": "code",
   "execution_count": 10,
   "id": "092e447d-b61d-45e8-9272-b83ccb084007",
   "metadata": {},
   "outputs": [
    {
     "name": "stdout",
     "output_type": "stream",
     "text": [
      "625/625 [==============================] - 1s 1ms/step\n"
     ]
    }
   ],
   "source": [
    "y_hat = model.predict(X_test)"
   ]
  },
  {
   "cell_type": "code",
   "execution_count": 11,
   "id": "8675b600-b552-4557-931a-a4c55fb543b6",
   "metadata": {},
   "outputs": [
    {
     "data": {
      "text/plain": [
       "Text(0, 0.5, 'true')"
      ]
     },
     "execution_count": 11,
     "metadata": {},
     "output_type": "execute_result"
    },
    {
     "data": {
      "image/png": "[encoded data removed]",
      "text/plain": [
       "<Figure size 640x480 with 1 Axes>"
      ]
     },
     "metadata": {},
     "output_type": "display_data"
    }
   ],
   "source": [
    "plt.scatter(y_hat.flatten(), y_test.to_numpy().flatten(), s=0.1)\n",
    "plt.plot(np.linspace(0, 0.8), np.linspace(0, 0.8), linestyle=':', color='orange')\n",
    "plt.xlabel('pred')\n",
    "plt.ylabel('true')"
   ]
  },
  {
   "cell_type": "code",
   "execution_count": null,
   "id": "1b23a901-d010-4dd0-a964-2b7790f7b58d",
   "metadata": {},
   "outputs": [],
   "source": [
    "import keras_tuner as kt"
   ]
  },
  {
   "cell_type": "code",
   "execution_count": null,
   "id": "017ff8dd-4971-4c9d-b5c5-a8f8b58b68dc",
   "metadata": {},
   "outputs": [],
   "source": [
    "def bulid_hypermodel(hp):\n",
    "    return create_model(\n",
    "        n_hidden = hp.Int(\"n_hidden\", min_value=1, max_value=5, step=1),\n",
    "        units = hp.Int(\"units\", min_value=32, max_value=512, step=32),\n",
    "        dropout = hp.Float(\"dropout\", min_value=0., max_value=.2, step=.01),\n",
    "        loss = hp.Choice(\"loss\", ['mse', 'log_cosh']),\n",
    "        hidden_activation = hp.Choice(\"hidden_activation\", ['relu', 'elu']),\n",
    "        output_activation = hp.Choice(\"output_activation\", ['linear', 'softmax'])\n",
    "    )"
   ]
  },
  {
   "cell_type": "code",
   "execution_count": 16,
   "id": "7ac52825-43b2-40af-9ef2-2ed00078b76c",
   "metadata": {},
   "outputs": [],
   "source": [
    "tuner = kt.Hyperband(\n",
    "    hypermodel=bulid_hypermodel,\n",
    "    objective=\"val_mse\",\n",
    "    max_epochs=100,\n",
    "    seed=42,\n",
    "    overwrite=True,\n",
    "    directory=\"hyperparameters\",\n",
    "    project_name=\"eq\",\n",
    ")"
   ]
  },
  {
   "cell_type": "code",
   "execution_count": 17,
   "id": "e5d365a8-63a6-474c-a901-c8a74f91a203",
   "metadata": {},
   "outputs": [
    {
     "name": "stdout",
     "output_type": "stream",
     "text": [
      "Search space summary\n",
      "Default search space size: 6\n",
      "n_hidden (Int)\n",
      "{'default': None, 'conditions': [], 'min_value': 1, 'max_value': 5, 'step': 1, 'sampling': None}\n",
      "units (Int)\n",
      "{'default': None, 'conditions': [], 'min_value': 32, 'max_value': 512, 'step': 32, 'sampling': None}\n",
      "dropout (Float)\n",
      "{'default': 0.0, 'conditions': [], 'min_value': 0.0, 'max_value': 0.2, 'step': 0.01, 'sampling': None}\n",
      "loss (Choice)\n",
      "{'default': 'mse', 'conditions': [], 'values': ['mse', 'log_cosh'], 'ordered': False}\n",
      "hidden_activation (Choice)\n",
      "{'default': 'relu', 'conditions': [], 'values': ['relu', 'elu'], 'ordered': False}\n",
      "output_activation (Choice)\n",
      "{'default': 'linear', 'conditions': [], 'values': ['linear', 'softmax'], 'ordered': False}\n"
     ]
    }
   ],
   "source": [
    "tuner.search_space_summary()"
   ]
  },
  {
   "cell_type": "code",
   "execution_count": 18,
   "id": "7efa3bcd-d445-4776-b7a2-c96468dfe68a",
   "metadata": {},
   "outputs": [],
   "source": [
    "X_hyp_train, X_hyp_val, y_hyp_train, y_hyp_val = train_test_split(\n",
    "    X_train,\n",
    "    y_train,\n",
    "    test_size=0.2,\n",
    "    random_state=seed\n",
    ")"
   ]
  },
  {
   "cell_type": "code",
   "execution_count": 19,
   "id": "71cda15b-e5c2-41d3-aa42-884242cda15b",
   "metadata": {},
   "outputs": [
    {
     "name": "stdout",
     "output_type": "stream",
     "text": [
      "Trial 254 Complete [00h 01m 33s]\n",
      "val_mse: 0.5066097974777222\n",
      "\n",
      "Best val_mse So Far: 3.450794247328304e-05\n",
      "Total elapsed time: 03h 35m 36s\n",
      "INFO:tensorflow:Oracle triggered exit\n"
     ]
    }
   ],
   "source": [
    "tuner.search(\n",
    "    X_hyp_train,\n",
    "    y_hyp_train,\n",
    "    validation_data=(X_hyp_val, y_hyp_val),\n",
    "    callbacks=[tf.keras.callbacks.EarlyStopping(\"mse\", min_delta=1e-10, patience=5)]\n",
    ")"
   ]
  },
  {
   "cell_type": "code",
   "execution_count": 23,
   "id": "024e48bf-cec9-4f33-86e7-fa1545abf11d",
   "metadata": {},
   "outputs": [
    {
     "name": "stdout",
     "output_type": "stream",
     "text": [
      "WARNING:tensorflow:Detecting that an object or model or tf.train.Checkpoint is being deleted with unrestored values. See the following logs for the specific values in question. To silence these warnings, use `status.expect_partial()`. See https://www.tensorflow.org/api_docs/python/tf/train/Checkpoint#restorefor details about the status object returned by the restore function.\n",
      "WARNING:tensorflow:Value in checkpoint could not be found in the restored object: (root).optimizer.iter\n",
      "WARNING:tensorflow:Value in checkpoint could not be found in the restored object: (root).optimizer.beta_1\n",
      "WARNING:tensorflow:Value in checkpoint could not be found in the restored object: (root).optimizer.beta_2\n",
      "WARNING:tensorflow:Value in checkpoint could not be found in the restored object: (root).optimizer.decay\n",
      "WARNING:tensorflow:Value in checkpoint could not be found in the restored object: (root).optimizer.learning_rate\n",
      "625/625 [==============================] - 1s 1ms/step\n"
     ]
    },
    {
     "data": {
      "text/plain": [
       "Text(0, 0.5, 'true')"
      ]
     },
     "execution_count": 24,
     "metadata": {},
     "output_type": "execute_result"
    },
    {
     "data": {
      "image/png": "[encoded data removed]",
      "text/plain": [
       "<Figure size 640x480 with 1 Axes>"
      ]
     },
     "metadata": {},
     "output_type": "display_data"
    }
   ],
   "source": [
    "bm = tuner.get_best_models(num_models=1)[0]\n",
    "y_hat = model.predict(X_test)\n",
    "plt.scatter(y_hat.flatten(), y_test.to_numpy().flatten(), s=0.1)\n",
    "plt.plot(np.linspace(0, 0.7), np.linspace(0, 0.7), linestyle=':', color='orange')\n",
    "plt.xlabel('pred')\n",
    "plt.ylabel('true')"
   ]
  },
  {
   "cell_type": "code",
   "execution_count": 21,
   "id": "6acfb97d-2d77-44b7-9f58-612ce966f49e",
   "metadata": {},
   "outputs": [
    {
     "name": "stdout",
     "output_type": "stream",
     "text": [
      "Results summary\n",
      "Results in hyperparameters/eq\n",
      "Showing 10 best trials\n",
      "<keras_tuner.engine.objective.Objective object at 0x7f76040d2620>\n",
      "Trial summary\n",
      "Hyperparameters:\n",
      "n_hidden: 5\n",
      "units: 288\n",
      "dropout: 0.0\n",
      "loss: log_cosh\n",
      "hidden_activation: relu\n",
      "output_activation: linear\n",
      "tuner/epochs: 100\n",
      "tuner/initial_epoch: 34\n",
      "tuner/bracket: 2\n",
      "tuner/round: 2\n",
      "tuner/trial_id: 0229\n",
      "Score: 3.450794247328304e-05\n",
      "Trial summary\n",
      "Hyperparameters:\n",
      "n_hidden: 4\n",
      "units: 256\n",
      "dropout: 0.01\n",
      "loss: mse\n",
      "hidden_activation: relu\n",
      "output_activation: linear\n",
      "tuner/epochs: 100\n",
      "tuner/initial_epoch: 34\n",
      "tuner/bracket: 4\n",
      "tuner/round: 4\n",
      "tuner/trial_id: 0142\n",
      "Score: 3.650778307928704e-05\n",
      "Trial summary\n",
      "Hyperparameters:\n",
      "n_hidden: 3\n",
      "units: 64\n",
      "dropout: 0.01\n",
      "loss: mse\n",
      "hidden_activation: relu\n",
      "output_activation: linear\n",
      "tuner/epochs: 100\n",
      "tuner/initial_epoch: 34\n",
      "tuner/bracket: 2\n",
      "tuner/round: 2\n",
      "tuner/trial_id: 0228\n",
      "Score: 3.801256025326438e-05\n",
      "Trial summary\n",
      "Hyperparameters:\n",
      "n_hidden: 4\n",
      "units: 64\n",
      "dropout: 0.01\n",
      "loss: mse\n",
      "hidden_activation: relu\n",
      "output_activation: linear\n",
      "tuner/epochs: 100\n",
      "tuner/initial_epoch: 34\n",
      "tuner/bracket: 3\n",
      "tuner/round: 3\n",
      "tuner/trial_id: 0203\n",
      "Score: 5.239270467427559e-05\n",
      "Trial summary\n",
      "Hyperparameters:\n",
      "n_hidden: 3\n",
      "units: 64\n",
      "dropout: 0.01\n",
      "loss: mse\n",
      "hidden_activation: relu\n",
      "output_activation: linear\n",
      "tuner/epochs: 34\n",
      "tuner/initial_epoch: 12\n",
      "tuner/bracket: 2\n",
      "tuner/round: 1\n",
      "tuner/trial_id: 0213\n",
      "Score: 6.874940299894661e-05\n",
      "Trial summary\n",
      "Hyperparameters:\n",
      "n_hidden: 5\n",
      "units: 288\n",
      "dropout: 0.0\n",
      "loss: log_cosh\n",
      "hidden_activation: relu\n",
      "output_activation: linear\n",
      "tuner/epochs: 34\n",
      "tuner/initial_epoch: 12\n",
      "tuner/bracket: 2\n",
      "tuner/round: 1\n",
      "tuner/trial_id: 0218\n",
      "Score: 7.029174594208598e-05\n",
      "Trial summary\n",
      "Hyperparameters:\n",
      "n_hidden: 3\n",
      "units: 96\n",
      "dropout: 0.07\n",
      "loss: log_cosh\n",
      "hidden_activation: elu\n",
      "output_activation: linear\n",
      "tuner/epochs: 100\n",
      "tuner/initial_epoch: 34\n",
      "tuner/bracket: 1\n",
      "tuner/round: 1\n",
      "tuner/trial_id: 0238\n",
      "Score: 7.142622052924708e-05\n",
      "Trial summary\n",
      "Hyperparameters:\n",
      "n_hidden: 4\n",
      "units: 64\n",
      "dropout: 0.01\n",
      "loss: mse\n",
      "hidden_activation: relu\n",
      "output_activation: linear\n",
      "tuner/epochs: 34\n",
      "tuner/initial_epoch: 12\n",
      "tuner/bracket: 3\n",
      "tuner/round: 2\n",
      "tuner/trial_id: 0189\n",
      "Score: 7.387138612102717e-05\n",
      "Trial summary\n",
      "Hyperparameters:\n",
      "n_hidden: 2\n",
      "units: 256\n",
      "dropout: 0.09\n",
      "loss: mse\n",
      "hidden_activation: relu\n",
      "output_activation: linear\n",
      "tuner/epochs: 100\n",
      "tuner/initial_epoch: 34\n",
      "tuner/bracket: 3\n",
      "tuner/round: 3\n",
      "tuner/trial_id: 0206\n",
      "Score: 7.62225899961777e-05\n",
      "Trial summary\n",
      "Hyperparameters:\n",
      "n_hidden: 3\n",
      "units: 256\n",
      "dropout: 0.08\n",
      "loss: log_cosh\n",
      "hidden_activation: elu\n",
      "output_activation: linear\n",
      "tuner/epochs: 100\n",
      "tuner/initial_epoch: 34\n",
      "tuner/bracket: 1\n",
      "tuner/round: 1\n",
      "tuner/trial_id: 0236\n",
      "Score: 8.472126501146704e-05\n"
     ]
    }
   ],
   "source": [
    "tuner.results_summary()"
   ]
  },
  {
   "cell_type": "code",
   "execution_count": 12,
   "id": "5ba8aed4-0393-434b-a292-634af67fd2a7",
   "metadata": {},
   "outputs": [
    {
     "name": "stdout",
     "output_type": "stream",
     "text": [
      "INFO:tensorflow:Assets written to: models/eq/assets\n"
     ]
    }
   ],
   "source": [
    "model.save('models/eq')"
   ]
  },
  {
   "cell_type": "code",
   "execution_count": null,
   "id": "a89a5219-2b62-441e-9227-d501fbac6c05",
   "metadata": {},
   "outputs": [],
   "source": []
  }
 ],
 "metadata": {
  "kernelspec": {
   "display_name": "Python 3 (ipykernel)",
   "language": "python",
   "name": "python3"
  },
  "language_info": {
   "codemirror_mode": {
    "name": "ipython",
    "version": 3
   },
   "file_extension": ".py",
   "mimetype": "text/x-python",
   "name": "python",
   "nbconvert_exporter": "python",
   "pygments_lexer": "ipython3",
   "version": "3.10.7"
  }
 },
 "nbformat": 4,
 "nbformat_minor": 5
}
