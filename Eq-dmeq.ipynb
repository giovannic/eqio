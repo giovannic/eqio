{
 "cells": [
  {
   "cell_type": "code",
   "execution_count": 1,
   "id": "fb5a4cb6-09fc-4672-9f63-f5d3146df018",
   "metadata": {},
   "outputs": [],
   "source": [
    "cpu_count = 100\n",
    "import os\n",
    "os.environ['XLA_FLAGS'] = f'--xla_force_host_platform_device_count={cpu_count}'\n",
    "import pandas as pd\n",
    "import numpy as np\n",
    "import matplotlib.pyplot as plt\n",
    "seed = 42\n",
    "import dmeq\n",
    "import jax.numpy as jnp\n",
    "from jax import pmap, vmap, jit, random\n",
    "from scipy.stats.qmc import LatinHypercube"
   ]
  },
  {
   "cell_type": "code",
   "execution_count": 2,
   "id": "9c80ed93-762a-43cf-ab10-2e415d831c97",
   "metadata": {},
   "outputs": [
    {
     "name": "stderr",
     "output_type": "stream",
     "text": [
      "No GPU/TPU found, falling back to CPU. (Set TF_CPP_MIN_LOG_LEVEL=0 and rerun for more info.)\n"
     ]
    }
   ],
   "source": [
    "key = random.PRNGKey(seed)"
   ]
  },
  {
   "cell_type": "code",
   "execution_count": 3,
   "id": "6c49b4f3-5601-4e3a-b28b-354d08842cba",
   "metadata": {},
   "outputs": [],
   "source": [
    "n_samples = int(1e5)\n",
    "\n",
    "bounds = pd.DataFrame.from_records([\n",
    "    ('EIR', 0, 100),\n",
    "    ('eta', 1/(40 * 365), 1/(20 * 365)),\n",
    "    ('Q0', 0, 1),\n",
    "    ('s2', 1, 3),\n",
    "    ('rU', 1/1000, 1/30),\n",
    "    ('cD', 0, 1),\n",
    "    ('g_inf', 0.01, 10),\n",
    "    ('cU', 0, 1),\n",
    "    ('kb', 0.01, 10),\n",
    "    ('ub', 1, 10),\n",
    "    ('uc', 1, 10),\n",
    "    ('ud', 1, 10),\n",
    "    ('kc', .01, 10),\n",
    "    ('b0', .01, .99),\n",
    "    ('b1', .01, .99),\n",
    "    ('IB0', 1, 100),\n",
    "    ('IC0', 1, 100),\n",
    "    ('tau', 1, 20),\n",
    "    ('phi0', 0, 1),\n",
    "    ('phi1', 0, 1),\n",
    "    ('mu', 0, 1),\n",
    "    ('f', 0, 1),\n",
    "    ('fd0', 0, 1),\n",
    "    ('ad0', 20 * 365, 40 * 365),\n",
    "    ('gd', 1, 10)\n",
    "], columns=['name', 'lower', 'upper'])\n",
    "\n",
    "sampler = LatinHypercube(d=len(bounds), seed=42)\n",
    "\n",
    "samples = sampler.random(n_samples)\n",
    "\n",
    "samples = samples * (bounds.upper - bounds.lower).to_numpy() + bounds.lower.to_numpy()"
   ]
  },
  {
   "cell_type": "code",
   "execution_count": 4,
   "id": "4ddc916f-fda3-40e8-9cbc-e9da83698655",
   "metadata": {},
   "outputs": [],
   "source": [
    "jsamples = jnp.array(samples)\n",
    "batched_samples = jnp.reshape(\n",
    "    jsamples,\n",
    "    (cpu_count, int(jsamples.shape[0] / cpu_count)) + jsamples.shape[1:]\n",
    ")"
   ]
  },
  {
   "cell_type": "code",
   "execution_count": 5,
   "id": "d19aa0b1-e3e3-406e-a585-d6acef913e4f",
   "metadata": {},
   "outputs": [],
   "source": [
    "param_keys = list(bounds['name'])\n",
    "p = dmeq.default_parameters()\n",
    "\n",
    "@jit\n",
    "def run_eq(params):\n",
    "    local_p = p.copy()\n",
    "    for i in range(len(param_keys)):\n",
    "        local_p[param_keys[i]] = params[i]\n",
    "    return dmeq.solve(local_p, dtype=jnp.float64)\n",
    "\n",
    "runner = pmap(vmap(run_eq, in_axes=0), in_axes=0)\n",
    "\n",
    "results = runner(batched_samples)\n",
    "results = jnp.reshape(results, (jsamples.shape[0], -1))"
   ]
  },
  {
   "cell_type": "code",
   "execution_count": 6,
   "id": "2e5053b3-18b2-4510-b4d2-89806ebed628",
   "metadata": {},
   "outputs": [],
   "source": [
    "rand_index = random.permutation(key, n_samples, independent=True)\n",
    "cut = int(n_samples * 0.8)\n",
    "idx_train, idx_test = rand_index[:cut], rand_index[cut:] "
   ]
  },
  {
   "cell_type": "code",
   "execution_count": 7,
   "id": "7c8b636e-b706-4ec0-ae8d-32f0fd1d6efe",
   "metadata": {},
   "outputs": [],
   "source": [
    "result_ranges = [\n",
    "    (0, 100), # prev\n",
    "    (100, 200), # inc\n",
    "    (200, 300) # prop\n",
    "]\n",
    "\n",
    "result_stats = [\n",
    "    (\n",
    "        jnp.mean(results[idx_train,lower:upper], axis=None),\n",
    "        jnp.std(results[idx_train,lower:upper], axis=None)\n",
    "    )\n",
    "    for lower, upper in result_ranges\n",
    "]\n",
    "\n",
    "standard_results = jnp.concatenate([\n",
    "    (results[:,result_ranges[i][0]:result_ranges[i][1]] - result_stats[i][0]) / result_stats[i][1]\n",
    "    for i in range(len(result_ranges))\n",
    "], axis=1)"
   ]
  },
  {
   "cell_type": "code",
   "execution_count": 33,
   "id": "1362cdd3-72e9-4b21-971c-a7b21994b80f",
   "metadata": {},
   "outputs": [],
   "source": [
    "sample_mean, sample_std = jnp.mean(samples[idx_train], axis=0), jnp.std(samples[idx_train], axis=0)\n",
    "standard_samples = (samples - sample_mean) / sample_std"
   ]
  },
  {
   "cell_type": "code",
   "execution_count": 9,
   "id": "e34b0c7b-fd9d-4f27-b295-de10d4d4ef36",
   "metadata": {},
   "outputs": [
    {
     "name": "stderr",
     "output_type": "stream",
     "text": [
      "2023-01-18 16:53:49.143480: E tensorflow/stream_executor/cuda/cuda_blas.cc:2981] Unable to register cuBLAS factory: Attempting to register factory for plugin cuBLAS when one has already been registered\n"
     ]
    }
   ],
   "source": [
    "import tensorflow as tf\n",
    "from tensorflow.keras import Sequential, layers"
   ]
  },
  {
   "cell_type": "code",
   "execution_count": 34,
   "id": "c5d27010-531a-4df5-9c0f-9c39b8b54b84",
   "metadata": {},
   "outputs": [],
   "source": [
    "X_train = standard_samples[idx_train]\n",
    "y_train = standard_results[idx_train]\n",
    "X_test = standard_samples[idx_test]\n",
    "y_test = standard_results[idx_test]"
   ]
  },
  {
   "cell_type": "code",
   "execution_count": 35,
   "id": "80b65f08-2ed2-4996-879c-96d13b497510",
   "metadata": {},
   "outputs": [],
   "source": [
    "def create_model(\n",
    "    optimiser='adam',\n",
    "    n_hidden=3,\n",
    "    units=288,\n",
    "    dropout=.1,\n",
    "    loss='log_cosh',\n",
    "    hidden_activation='relu',\n",
    "    hidden_initialiser='he_normal',\n",
    "    output_activation='linear',\n",
    "    output_initialiser='glorot_normal'\n",
    "):\n",
    "    model = Sequential()\n",
    "    model.add(layers.Input(shape=(X_train.shape[1],), dtype='float32'))\n",
    "    # model.add(scaler)\n",
    "    for i in range(n_hidden):\n",
    "        model.add(layers.Dense(\n",
    "            units,\n",
    "            activation=hidden_activation,\n",
    "            kernel_initializer=hidden_initialiser)\n",
    "        )\n",
    "        model.add(layers.Dropout(dropout))\n",
    "    model.add(layers.Dense(y_train.shape[1], activation=output_activation, kernel_initializer=output_initialiser))\n",
    "    model.compile(loss=loss, optimizer=optimiser, metrics='mse')\n",
    "    return model"
   ]
  },
  {
   "cell_type": "code",
   "execution_count": null,
   "id": "dbd51a5f-8295-42a9-af25-4e647f7be908",
   "metadata": {},
   "outputs": [],
   "source": [
    "model = create_model()\n",
    "model.fit(tf.constant(X_train), tf.constant(y_train), batch_size=100, epochs=100)"
   ]
  },
  {
   "cell_type": "code",
   "execution_count": 13,
   "id": "092e447d-b61d-45e8-9272-b83ccb084007",
   "metadata": {},
   "outputs": [
    {
     "name": "stdout",
     "output_type": "stream",
     "text": [
      "625/625 [==============================] - 1s 1ms/step\n"
     ]
    }
   ],
   "source": [
    "y_hat = model.predict(tf.constant(X_test))"
   ]
  },
  {
   "cell_type": "code",
   "execution_count": 28,
   "id": "d1537255-9e39-43c1-828f-5692a4ee130c",
   "metadata": {},
   "outputs": [],
   "source": [
    "def inverse_standardise(x):\n",
    "    return jnp.concatenate([\n",
    "        x[:,result_ranges[i][0]:result_ranges[i][1]] * result_stats[i][1] + result_stats[i][0]\n",
    "        for i in range(len(result_ranges))\n",
    "    ], axis=1)"
   ]
  },
  {
   "cell_type": "code",
   "execution_count": 29,
   "id": "76a0bcd8-e491-42f3-852b-57c834dc9df3",
   "metadata": {},
   "outputs": [],
   "source": [
    "def prev_2_10(y):\n",
    "    return tf.reduce_sum(y[:,2:10], axis=1) / tf.reduce_sum(y[:,202:210], axis=1)"
   ]
  },
  {
   "cell_type": "code",
   "execution_count": 30,
   "id": "2739ae3f",
   "metadata": {},
   "outputs": [],
   "source": [
    "def inc_0_5(y):\n",
    "    return tf.reduce_sum(y[:,100:105], axis=1) / tf.reduce_sum(y[:,200:205], axis=1)"
   ]
  },
  {
   "cell_type": "code",
   "execution_count": 31,
   "id": "8675b600-b552-4557-931a-a4c55fb543b6",
   "metadata": {},
   "outputs": [
    {
     "data": {
      "text/plain": [
       "Text(0, 0.5, 'true')"
      ]
     },
     "execution_count": 31,
     "metadata": {},
     "output_type": "execute_result"
    },
    {
     "data": {
      "image/png": "[encoded data removed]",
      "text/plain": [
       "<Figure size 640x480 with 1 Axes>"
      ]
     },
     "metadata": {},
     "output_type": "display_data"
    }
   ],
   "source": [
    "plt.scatter(prev_2_10(inverse_standardise(y_hat)), prev_2_10(inverse_standardise(y_test)), s=0.1)\n",
    "plt.plot(np.linspace(0, 0.8), np.linspace(0, 0.8), linestyle=':', color='orange')\n",
    "plt.xlabel('pred')\n",
    "plt.ylabel('true')"
   ]
  },
  {
   "cell_type": "code",
   "execution_count": 32,
   "id": "535926bf-c6e8-4712-a94a-998f297b4be0",
   "metadata": {},
   "outputs": [
    {
     "data": {
      "text/plain": [
       "Text(0, 0.5, 'true')"
      ]
     },
     "execution_count": 32,
     "metadata": {},
     "output_type": "execute_result"
    },
    {
     "data": {
      "image/png": "[encoded data removed]",
      "text/plain": [
       "<Figure size 640x480 with 1 Axes>"
      ]
     },
     "metadata": {},
     "output_type": "display_data"
    }
   ],
   "source": [
    "plt.scatter(inc_0_5(inverse_standardise(y_hat)), inc_0_5(inverse_standardise(y_test)), s=0.1)\n",
    "plt.plot(np.linspace(0, 0.05), np.linspace(0, 0.05), linestyle=':', color='orange')\n",
    "plt.xlabel('pred')\n",
    "plt.ylabel('true')"
   ]
  },
  {
   "cell_type": "code",
   "execution_count": 23,
   "id": "21226200-0bbd-4ea5-8182-70ceb6d574a4",
   "metadata": {},
   "outputs": [
    {
     "data": {
      "text/plain": [
       "Array([[2.72176944, 3.03938014, 2.70606991, ..., 0.19855711, 0.19323181,\n",
       "        7.74602802],\n",
       "       [3.11811373, 4.11417367, 3.32655966, ..., 0.04002274, 0.03774838,\n",
       "        0.9924361 ],\n",
       "       [2.42152183, 2.81072845, 2.45634104, ..., 0.15103015, 0.1462617 ,\n",
       "        5.11068955],\n",
       "       ...,\n",
       "       [5.89590528, 6.76057206, 5.98096797, ..., 0.03362417, 0.0315662 ,\n",
       "        0.82954197],\n",
       "       [3.52478014, 4.59128724, 4.34757319, ..., 0.0795151 , 0.07612015,\n",
       "        2.17462063],\n",
       "       [3.80895238, 4.31661346, 3.71377844, ..., 0.11551371, 0.11133909,\n",
       "        3.51683004]], dtype=float64)"
      ]
     },
     "execution_count": 23,
     "metadata": {},
     "output_type": "execute_result"
    }
   ],
   "source": [
    "y_train"
   ]
  },
  {
   "cell_type": "code",
   "execution_count": 24,
   "id": "ecb3f7ce-6ba1-4c93-9dc1-934265b00864",
   "metadata": {},
   "outputs": [
    {
     "name": "stdout",
     "output_type": "stream",
     "text": [
      "2500/2500 [==============================] - 4s 2ms/step\n"
     ]
    },
    {
     "data": {
      "text/plain": [
       "array([[2.797764  , 3.2323132 , 2.817651  , ..., 0.10378533, 0.10005315,\n",
       "        2.7707784 ],\n",
       "       [2.797764  , 3.2323132 , 2.817651  , ..., 0.10378533, 0.10005315,\n",
       "        2.7707784 ],\n",
       "       [2.797764  , 3.2323132 , 2.817651  , ..., 0.10378533, 0.10005315,\n",
       "        2.7707784 ],\n",
       "       ...,\n",
       "       [2.797764  , 3.2323132 , 2.817651  , ..., 0.10378533, 0.10005315,\n",
       "        2.7707784 ],\n",
       "       [2.797764  , 3.2323132 , 2.817651  , ..., 0.10378533, 0.10005315,\n",
       "        2.7707784 ],\n",
       "       [2.797764  , 3.2323132 , 2.817651  , ..., 0.10378533, 0.10005315,\n",
       "        2.7707784 ]], dtype=float32)"
      ]
     },
     "execution_count": 24,
     "metadata": {},
     "output_type": "execute_result"
    }
   ],
   "source": [
    "model.predict(tf.constant(X_train))"
   ]
  },
  {
   "cell_type": "code",
   "execution_count": 57,
   "id": "1b23a901-d010-4dd0-a964-2b7790f7b58d",
   "metadata": {},
   "outputs": [],
   "source": [
    "import keras_tuner as kt"
   ]
  },
  {
   "cell_type": "code",
   "execution_count": 64,
   "id": "017ff8dd-4971-4c9d-b5c5-a8f8b58b68dc",
   "metadata": {},
   "outputs": [],
   "source": [
    "def bulid_hypermodel(hp):\n",
    "    return create_model(\n",
    "        n_hidden = hp.Int(\"n_hidden\", min_value=1, max_value=5, step=1),\n",
    "        units = hp.Int(\"units\", min_value=32, max_value=1024, step=32),\n",
    "        dropout = hp.Float(\"dropout\", min_value=0., max_value=.2, step=.01),\n",
    "        loss = hp.Choice(\"loss\", ['mse', 'log_cosh']),\n",
    "        #hidden_activation = hp.Choice(\"hidden_activation\", ['relu', 'elu']),\n",
    "        #output_activation = hp.Choice(\"output_activation\", ['linear', 'softmax'])\n",
    "    )"
   ]
  },
  {
   "cell_type": "code",
   "execution_count": 65,
   "id": "7ac52825-43b2-40af-9ef2-2ed00078b76c",
   "metadata": {},
   "outputs": [],
   "source": [
    "tuner = kt.Hyperband(\n",
    "    hypermodel=bulid_hypermodel,\n",
    "    objective=\"val_mse\",\n",
    "    max_epochs=100,\n",
    "    seed=42,\n",
    "    overwrite=True,\n",
    "    directory=\"hyperparameters\",\n",
    "    project_name=\"eq\",\n",
    ")"
   ]
  },
  {
   "cell_type": "code",
   "execution_count": 66,
   "id": "e5d365a8-63a6-474c-a901-c8a74f91a203",
   "metadata": {},
   "outputs": [
    {
     "name": "stdout",
     "output_type": "stream",
     "text": [
      "Search space summary\n",
      "Default search space size: 4\n",
      "n_hidden (Int)\n",
      "{'default': None, 'conditions': [], 'min_value': 1, 'max_value': 5, 'step': 1, 'sampling': None}\n",
      "units (Int)\n",
      "{'default': None, 'conditions': [], 'min_value': 32, 'max_value': 1024, 'step': 32, 'sampling': None}\n",
      "dropout (Float)\n",
      "{'default': 0.0, 'conditions': [], 'min_value': 0.0, 'max_value': 0.2, 'step': 0.01, 'sampling': None}\n",
      "loss (Choice)\n",
      "{'default': 'mse', 'conditions': [], 'values': ['mse', 'log_cosh'], 'ordered': False}\n"
     ]
    }
   ],
   "source": [
    "tuner.search_space_summary()"
   ]
  },
  {
   "cell_type": "code",
   "execution_count": 67,
   "id": "7efa3bcd-d445-4776-b7a2-c96468dfe68a",
   "metadata": {},
   "outputs": [],
   "source": [
    "from sklearn.model_selection import train_test_split\n",
    "\n",
    "X_hyp_train, X_hyp_val, y_hyp_train, y_hyp_val = train_test_split(\n",
    "    X_train,\n",
    "    y_train,\n",
    "    test_size=0.2,\n",
    "    random_state=seed\n",
    ")"
   ]
  },
  {
   "cell_type": "code",
   "execution_count": 68,
   "id": "71cda15b-e5c2-41d3-aa42-884242cda15b",
   "metadata": {},
   "outputs": [
    {
     "name": "stdout",
     "output_type": "stream",
     "text": [
      "Trial 69 Complete [00h 00m 18s]\n",
      "val_mse: 0.405358225107193\n",
      "\n",
      "Best val_mse So Far: 0.4034186899662018\n",
      "Total elapsed time: 00h 22m 16s\n",
      "\n",
      "Search: Running Trial #70\n",
      "\n",
      "Value             |Best Value So Far |Hyperparameter\n",
      "4                 |5                 |n_hidden\n",
      "224               |480               |units\n",
      "0.09              |0.17              |dropout\n",
      "log_cosh          |log_cosh          |loss\n",
      "2                 |2                 |tuner/epochs\n",
      "0                 |0                 |tuner/initial_epoch\n",
      "4                 |4                 |tuner/bracket\n",
      "0                 |0                 |tuner/round\n",
      "\n",
      "Epoch 1/2\n",
      "  89/2000 [>.............................] - ETA: 7s - loss: 128.3964 - mse: 199129.0312"
     ]
    },
    {
     "ename": "KeyboardInterrupt",
     "evalue": "",
     "output_type": "error",
     "traceback": [
      "\u001b[0;31m---------------------------------------------------------------------------\u001b[0m",
      "\u001b[0;31mKeyboardInterrupt\u001b[0m                         Traceback (most recent call last)",
      "Cell \u001b[0;32mIn [68], line 1\u001b[0m\n\u001b[0;32m----> 1\u001b[0m tuner\u001b[38;5;241m.\u001b[39msearch(\n\u001b[1;32m      2\u001b[0m     tf\u001b[38;5;241m.\u001b[39mconstant(X_hyp_train),\n\u001b[1;32m      3\u001b[0m     tf\u001b[38;5;241m.\u001b[39mconstant(y_hyp_train),\n\u001b[1;32m      4\u001b[0m     validation_data\u001b[38;5;241m=\u001b[39m(tf\u001b[38;5;241m.\u001b[39mconstant(X_hyp_val), tf\u001b[38;5;241m.\u001b[39mconstant(y_hyp_val)),\n\u001b[1;32m      5\u001b[0m     callbacks\u001b[38;5;241m=\u001b[39m[tf\u001b[38;5;241m.\u001b[39mkeras\u001b[38;5;241m.\u001b[39mcallbacks\u001b[38;5;241m.\u001b[39mEarlyStopping(\u001b[38;5;124m\"\u001b[39m\u001b[38;5;124mmse\u001b[39m\u001b[38;5;124m\"\u001b[39m, min_delta\u001b[38;5;241m=\u001b[39m\u001b[38;5;241m1e-10\u001b[39m, patience\u001b[38;5;241m=\u001b[39m\u001b[38;5;241m5\u001b[39m)]\n\u001b[1;32m      6\u001b[0m )\n",
      "File \u001b[0;32m~/projects/eqio/env/lib/python3.10/site-packages/keras_tuner/engine/base_tuner.py:183\u001b[0m, in \u001b[0;36mBaseTuner.search\u001b[0;34m(self, *fit_args, **fit_kwargs)\u001b[0m\n\u001b[1;32m    180\u001b[0m     \u001b[38;5;28;01mcontinue\u001b[39;00m\n\u001b[1;32m    182\u001b[0m \u001b[38;5;28mself\u001b[39m\u001b[38;5;241m.\u001b[39mon_trial_begin(trial)\n\u001b[0;32m--> 183\u001b[0m results \u001b[38;5;241m=\u001b[39m \u001b[38;5;28;43mself\u001b[39;49m\u001b[38;5;241;43m.\u001b[39;49m\u001b[43mrun_trial\u001b[49m\u001b[43m(\u001b[49m\u001b[43mtrial\u001b[49m\u001b[43m,\u001b[49m\u001b[43m \u001b[49m\u001b[38;5;241;43m*\u001b[39;49m\u001b[43mfit_args\u001b[49m\u001b[43m,\u001b[49m\u001b[43m \u001b[49m\u001b[38;5;241;43m*\u001b[39;49m\u001b[38;5;241;43m*\u001b[39;49m\u001b[43mfit_kwargs\u001b[49m\u001b[43m)\u001b[49m\n\u001b[1;32m    184\u001b[0m \u001b[38;5;66;03m# `results` is None indicates user updated oracle in `run_trial()`.\u001b[39;00m\n\u001b[1;32m    185\u001b[0m \u001b[38;5;28;01mif\u001b[39;00m results \u001b[38;5;129;01mis\u001b[39;00m \u001b[38;5;28;01mNone\u001b[39;00m:\n",
      "File \u001b[0;32m~/projects/eqio/env/lib/python3.10/site-packages/keras_tuner/tuners/hyperband.py:384\u001b[0m, in \u001b[0;36mHyperband.run_trial\u001b[0;34m(self, trial, *fit_args, **fit_kwargs)\u001b[0m\n\u001b[1;32m    382\u001b[0m     fit_kwargs[\u001b[38;5;124m\"\u001b[39m\u001b[38;5;124mepochs\u001b[39m\u001b[38;5;124m\"\u001b[39m] \u001b[38;5;241m=\u001b[39m hp\u001b[38;5;241m.\u001b[39mvalues[\u001b[38;5;124m\"\u001b[39m\u001b[38;5;124mtuner/epochs\u001b[39m\u001b[38;5;124m\"\u001b[39m]\n\u001b[1;32m    383\u001b[0m     fit_kwargs[\u001b[38;5;124m\"\u001b[39m\u001b[38;5;124minitial_epoch\u001b[39m\u001b[38;5;124m\"\u001b[39m] \u001b[38;5;241m=\u001b[39m hp\u001b[38;5;241m.\u001b[39mvalues[\u001b[38;5;124m\"\u001b[39m\u001b[38;5;124mtuner/initial_epoch\u001b[39m\u001b[38;5;124m\"\u001b[39m]\n\u001b[0;32m--> 384\u001b[0m \u001b[38;5;28;01mreturn\u001b[39;00m \u001b[38;5;28;43msuper\u001b[39;49m\u001b[43m(\u001b[49m\u001b[43mHyperband\u001b[49m\u001b[43m,\u001b[49m\u001b[43m \u001b[49m\u001b[38;5;28;43mself\u001b[39;49m\u001b[43m)\u001b[49m\u001b[38;5;241;43m.\u001b[39;49m\u001b[43mrun_trial\u001b[49m\u001b[43m(\u001b[49m\u001b[43mtrial\u001b[49m\u001b[43m,\u001b[49m\u001b[43m \u001b[49m\u001b[38;5;241;43m*\u001b[39;49m\u001b[43mfit_args\u001b[49m\u001b[43m,\u001b[49m\u001b[43m \u001b[49m\u001b[38;5;241;43m*\u001b[39;49m\u001b[38;5;241;43m*\u001b[39;49m\u001b[43mfit_kwargs\u001b[49m\u001b[43m)\u001b[49m\n",
      "File \u001b[0;32m~/projects/eqio/env/lib/python3.10/site-packages/keras_tuner/engine/tuner.py:295\u001b[0m, in \u001b[0;36mTuner.run_trial\u001b[0;34m(self, trial, *args, **kwargs)\u001b[0m\n\u001b[1;32m    293\u001b[0m     callbacks\u001b[38;5;241m.\u001b[39mappend(model_checkpoint)\n\u001b[1;32m    294\u001b[0m     copied_kwargs[\u001b[38;5;124m\"\u001b[39m\u001b[38;5;124mcallbacks\u001b[39m\u001b[38;5;124m\"\u001b[39m] \u001b[38;5;241m=\u001b[39m callbacks\n\u001b[0;32m--> 295\u001b[0m     obj_value \u001b[38;5;241m=\u001b[39m \u001b[38;5;28;43mself\u001b[39;49m\u001b[38;5;241;43m.\u001b[39;49m\u001b[43m_build_and_fit_model\u001b[49m\u001b[43m(\u001b[49m\u001b[43mtrial\u001b[49m\u001b[43m,\u001b[49m\u001b[43m \u001b[49m\u001b[38;5;241;43m*\u001b[39;49m\u001b[43margs\u001b[49m\u001b[43m,\u001b[49m\u001b[43m \u001b[49m\u001b[38;5;241;43m*\u001b[39;49m\u001b[38;5;241;43m*\u001b[39;49m\u001b[43mcopied_kwargs\u001b[49m\u001b[43m)\u001b[49m\n\u001b[1;32m    297\u001b[0m     histories\u001b[38;5;241m.\u001b[39mappend(obj_value)\n\u001b[1;32m    298\u001b[0m \u001b[38;5;28;01mreturn\u001b[39;00m histories\n",
      "File \u001b[0;32m~/projects/eqio/env/lib/python3.10/site-packages/keras_tuner/engine/tuner.py:222\u001b[0m, in \u001b[0;36mTuner._build_and_fit_model\u001b[0;34m(self, trial, *args, **kwargs)\u001b[0m\n\u001b[1;32m    220\u001b[0m hp \u001b[38;5;241m=\u001b[39m trial\u001b[38;5;241m.\u001b[39mhyperparameters\n\u001b[1;32m    221\u001b[0m model \u001b[38;5;241m=\u001b[39m \u001b[38;5;28mself\u001b[39m\u001b[38;5;241m.\u001b[39m_try_build(hp)\n\u001b[0;32m--> 222\u001b[0m results \u001b[38;5;241m=\u001b[39m \u001b[38;5;28;43mself\u001b[39;49m\u001b[38;5;241;43m.\u001b[39;49m\u001b[43mhypermodel\u001b[49m\u001b[38;5;241;43m.\u001b[39;49m\u001b[43mfit\u001b[49m\u001b[43m(\u001b[49m\u001b[43mhp\u001b[49m\u001b[43m,\u001b[49m\u001b[43m \u001b[49m\u001b[43mmodel\u001b[49m\u001b[43m,\u001b[49m\u001b[43m \u001b[49m\u001b[38;5;241;43m*\u001b[39;49m\u001b[43margs\u001b[49m\u001b[43m,\u001b[49m\u001b[43m \u001b[49m\u001b[38;5;241;43m*\u001b[39;49m\u001b[38;5;241;43m*\u001b[39;49m\u001b[43mkwargs\u001b[49m\u001b[43m)\u001b[49m\n\u001b[1;32m    223\u001b[0m tuner_utils\u001b[38;5;241m.\u001b[39mvalidate_trial_results(\n\u001b[1;32m    224\u001b[0m     results, \u001b[38;5;28mself\u001b[39m\u001b[38;5;241m.\u001b[39moracle\u001b[38;5;241m.\u001b[39mobjective, \u001b[38;5;124m\"\u001b[39m\u001b[38;5;124mHyperModel.fit()\u001b[39m\u001b[38;5;124m\"\u001b[39m\n\u001b[1;32m    225\u001b[0m )\n\u001b[1;32m    226\u001b[0m \u001b[38;5;28;01mreturn\u001b[39;00m results\n",
      "File \u001b[0;32m~/projects/eqio/env/lib/python3.10/site-packages/keras_tuner/engine/hypermodel.py:140\u001b[0m, in \u001b[0;36mHyperModel.fit\u001b[0;34m(self, hp, model, *args, **kwargs)\u001b[0m\n\u001b[1;32m    116\u001b[0m \u001b[38;5;28;01mdef\u001b[39;00m \u001b[38;5;21mfit\u001b[39m(\u001b[38;5;28mself\u001b[39m, hp, model, \u001b[38;5;241m*\u001b[39margs, \u001b[38;5;241m*\u001b[39m\u001b[38;5;241m*\u001b[39mkwargs):\n\u001b[1;32m    117\u001b[0m     \u001b[38;5;124;03m\"\"\"Train the model.\u001b[39;00m\n\u001b[1;32m    118\u001b[0m \n\u001b[1;32m    119\u001b[0m \u001b[38;5;124;03m    Args:\u001b[39;00m\n\u001b[0;32m   (...)\u001b[0m\n\u001b[1;32m    138\u001b[0m \u001b[38;5;124;03m        If return a float, it should be the `objective` value.\u001b[39;00m\n\u001b[1;32m    139\u001b[0m \u001b[38;5;124;03m    \"\"\"\u001b[39;00m\n\u001b[0;32m--> 140\u001b[0m     \u001b[38;5;28;01mreturn\u001b[39;00m \u001b[43mmodel\u001b[49m\u001b[38;5;241;43m.\u001b[39;49m\u001b[43mfit\u001b[49m\u001b[43m(\u001b[49m\u001b[38;5;241;43m*\u001b[39;49m\u001b[43margs\u001b[49m\u001b[43m,\u001b[49m\u001b[43m \u001b[49m\u001b[38;5;241;43m*\u001b[39;49m\u001b[38;5;241;43m*\u001b[39;49m\u001b[43mkwargs\u001b[49m\u001b[43m)\u001b[49m\n",
      "File \u001b[0;32m~/projects/eqio/env/lib/python3.10/site-packages/keras/utils/traceback_utils.py:65\u001b[0m, in \u001b[0;36mfilter_traceback.<locals>.error_handler\u001b[0;34m(*args, **kwargs)\u001b[0m\n\u001b[1;32m     63\u001b[0m filtered_tb \u001b[38;5;241m=\u001b[39m \u001b[38;5;28;01mNone\u001b[39;00m\n\u001b[1;32m     64\u001b[0m \u001b[38;5;28;01mtry\u001b[39;00m:\n\u001b[0;32m---> 65\u001b[0m     \u001b[38;5;28;01mreturn\u001b[39;00m \u001b[43mfn\u001b[49m\u001b[43m(\u001b[49m\u001b[38;5;241;43m*\u001b[39;49m\u001b[43margs\u001b[49m\u001b[43m,\u001b[49m\u001b[43m \u001b[49m\u001b[38;5;241;43m*\u001b[39;49m\u001b[38;5;241;43m*\u001b[39;49m\u001b[43mkwargs\u001b[49m\u001b[43m)\u001b[49m\n\u001b[1;32m     66\u001b[0m \u001b[38;5;28;01mexcept\u001b[39;00m \u001b[38;5;167;01mException\u001b[39;00m \u001b[38;5;28;01mas\u001b[39;00m e:\n\u001b[1;32m     67\u001b[0m     filtered_tb \u001b[38;5;241m=\u001b[39m _process_traceback_frames(e\u001b[38;5;241m.\u001b[39m__traceback__)\n",
      "File \u001b[0;32m~/projects/eqio/env/lib/python3.10/site-packages/keras/engine/training.py:1563\u001b[0m, in \u001b[0;36mModel.fit\u001b[0;34m(self, x, y, batch_size, epochs, verbose, callbacks, validation_split, validation_data, shuffle, class_weight, sample_weight, initial_epoch, steps_per_epoch, validation_steps, validation_batch_size, validation_freq, max_queue_size, workers, use_multiprocessing)\u001b[0m\n\u001b[1;32m   1555\u001b[0m \u001b[38;5;28;01mfor\u001b[39;00m step \u001b[38;5;129;01min\u001b[39;00m data_handler\u001b[38;5;241m.\u001b[39msteps():\n\u001b[1;32m   1556\u001b[0m     \u001b[38;5;28;01mwith\u001b[39;00m tf\u001b[38;5;241m.\u001b[39mprofiler\u001b[38;5;241m.\u001b[39mexperimental\u001b[38;5;241m.\u001b[39mTrace(\n\u001b[1;32m   1557\u001b[0m         \u001b[38;5;124m\"\u001b[39m\u001b[38;5;124mtrain\u001b[39m\u001b[38;5;124m\"\u001b[39m,\n\u001b[1;32m   1558\u001b[0m         epoch_num\u001b[38;5;241m=\u001b[39mepoch,\n\u001b[0;32m   (...)\u001b[0m\n\u001b[1;32m   1561\u001b[0m         _r\u001b[38;5;241m=\u001b[39m\u001b[38;5;241m1\u001b[39m,\n\u001b[1;32m   1562\u001b[0m     ):\n\u001b[0;32m-> 1563\u001b[0m         \u001b[43mcallbacks\u001b[49m\u001b[38;5;241;43m.\u001b[39;49m\u001b[43mon_train_batch_begin\u001b[49m\u001b[43m(\u001b[49m\u001b[43mstep\u001b[49m\u001b[43m)\u001b[49m\n\u001b[1;32m   1564\u001b[0m         tmp_logs \u001b[38;5;241m=\u001b[39m \u001b[38;5;28mself\u001b[39m\u001b[38;5;241m.\u001b[39mtrain_function(iterator)\n\u001b[1;32m   1565\u001b[0m         \u001b[38;5;28;01mif\u001b[39;00m data_handler\u001b[38;5;241m.\u001b[39mshould_sync:\n",
      "File \u001b[0;32m~/projects/eqio/env/lib/python3.10/site-packages/keras/callbacks.py:460\u001b[0m, in \u001b[0;36mCallbackList.on_train_batch_begin\u001b[0;34m(self, batch, logs)\u001b[0m\n\u001b[1;32m    451\u001b[0m \u001b[38;5;124;03m\"\"\"Calls the `on_train_batch_begin` methods of its callbacks.\u001b[39;00m\n\u001b[1;32m    452\u001b[0m \n\u001b[1;32m    453\u001b[0m \u001b[38;5;124;03mArgs:\u001b[39;00m\n\u001b[0;32m   (...)\u001b[0m\n\u001b[1;32m    457\u001b[0m \u001b[38;5;124;03m      Example: `{'loss': 0.2, 'accuracy': 0.7}`.\u001b[39;00m\n\u001b[1;32m    458\u001b[0m \u001b[38;5;124;03m\"\"\"\u001b[39;00m\n\u001b[1;32m    459\u001b[0m \u001b[38;5;28;01mif\u001b[39;00m \u001b[38;5;28mself\u001b[39m\u001b[38;5;241m.\u001b[39m_should_call_train_batch_hooks:\n\u001b[0;32m--> 460\u001b[0m     \u001b[38;5;28;43mself\u001b[39;49m\u001b[38;5;241;43m.\u001b[39;49m\u001b[43m_call_batch_hook\u001b[49m\u001b[43m(\u001b[49m\u001b[43mModeKeys\u001b[49m\u001b[38;5;241;43m.\u001b[39;49m\u001b[43mTRAIN\u001b[49m\u001b[43m,\u001b[49m\u001b[43m \u001b[49m\u001b[38;5;124;43m\"\u001b[39;49m\u001b[38;5;124;43mbegin\u001b[39;49m\u001b[38;5;124;43m\"\u001b[39;49m\u001b[43m,\u001b[49m\u001b[43m \u001b[49m\u001b[43mbatch\u001b[49m\u001b[43m,\u001b[49m\u001b[43m \u001b[49m\u001b[43mlogs\u001b[49m\u001b[38;5;241;43m=\u001b[39;49m\u001b[43mlogs\u001b[49m\u001b[43m)\u001b[49m\n",
      "File \u001b[0;32m~/projects/eqio/env/lib/python3.10/site-packages/keras/callbacks.py:309\u001b[0m, in \u001b[0;36mCallbackList._call_batch_hook\u001b[0;34m(self, mode, hook, batch, logs)\u001b[0m\n\u001b[1;32m    306\u001b[0m     \u001b[38;5;28;01mfor\u001b[39;00m callback \u001b[38;5;129;01min\u001b[39;00m \u001b[38;5;28mself\u001b[39m\u001b[38;5;241m.\u001b[39mcallbacks:\n\u001b[1;32m    307\u001b[0m         callback\u001b[38;5;241m.\u001b[39mset_model(model)\n\u001b[0;32m--> 309\u001b[0m \u001b[38;5;28;01mdef\u001b[39;00m \u001b[38;5;21m_call_batch_hook\u001b[39m(\u001b[38;5;28mself\u001b[39m, mode, hook, batch, logs\u001b[38;5;241m=\u001b[39m\u001b[38;5;28;01mNone\u001b[39;00m):\n\u001b[1;32m    310\u001b[0m     \u001b[38;5;124;03m\"\"\"Helper function for all batch_{begin | end} methods.\"\"\"\u001b[39;00m\n\u001b[1;32m    311\u001b[0m     \u001b[38;5;28;01mif\u001b[39;00m \u001b[38;5;129;01mnot\u001b[39;00m \u001b[38;5;28mself\u001b[39m\u001b[38;5;241m.\u001b[39mcallbacks:\n",
      "\u001b[0;31mKeyboardInterrupt\u001b[0m: "
     ]
    }
   ],
   "source": [
    "tuner.search(\n",
    "    tf.constant(X_hyp_train),\n",
    "    tf.constant(y_hyp_train),\n",
    "    validation_data=(tf.constant(X_hyp_val), tf.constant(y_hyp_val)),\n",
    "    callbacks=[tf.keras.callbacks.EarlyStopping(\"mse\", min_delta=1e-10, patience=5)]\n",
    ")"
   ]
  },
  {
   "cell_type": "code",
   "execution_count": 23,
   "id": "024e48bf-cec9-4f33-86e7-fa1545abf11d",
   "metadata": {},
   "outputs": [
    {
     "name": "stdout",
     "output_type": "stream",
     "text": [
      "WARNING:tensorflow:Detecting that an object or model or tf.train.Checkpoint is being deleted with unrestored values. See the following logs for the specific values in question. To silence these warnings, use `status.expect_partial()`. See https://www.tensorflow.org/api_docs/python/tf/train/Checkpoint#restorefor details about the status object returned by the restore function.\n",
      "WARNING:tensorflow:Value in checkpoint could not be found in the restored object: (root).optimizer.iter\n",
      "WARNING:tensorflow:Value in checkpoint could not be found in the restored object: (root).optimizer.beta_1\n",
      "WARNING:tensorflow:Value in checkpoint could not be found in the restored object: (root).optimizer.beta_2\n",
      "WARNING:tensorflow:Value in checkpoint could not be found in the restored object: (root).optimizer.decay\n",
      "WARNING:tensorflow:Value in checkpoint could not be found in the restored object: (root).optimizer.learning_rate\n",
      "625/625 [==============================] - 1s 1ms/step\n"
     ]
    },
    {
     "data": {
      "text/plain": [
       "Text(0, 0.5, 'true')"
      ]
     },
     "execution_count": 24,
     "metadata": {},
     "output_type": "execute_result"
    },
    {
     "data": {
      "image/png": "[encoded data removed]",
      "text/plain": [
       "<Figure size 640x480 with 1 Axes>"
      ]
     },
     "metadata": {},
     "output_type": "display_data"
    }
   ],
   "source": [
    "bm = tuner.get_best_models(num_models=1)[0]\n",
    "y_hat = model.predict(X_test)\n",
    "plt.scatter(y_hat.flatten(), y_test.to_numpy().flatten(), s=0.1)\n",
    "plt.plot(np.linspace(0, 0.7), np.linspace(0, 0.7), linestyle=':', color='orange')\n",
    "plt.xlabel('pred')\n",
    "plt.ylabel('true')"
   ]
  },
  {
   "cell_type": "code",
   "execution_count": 21,
   "id": "6acfb97d-2d77-44b7-9f58-612ce966f49e",
   "metadata": {},
   "outputs": [
    {
     "name": "stdout",
     "output_type": "stream",
     "text": [
      "Results summary\n",
      "Results in hyperparameters/eq\n",
      "Showing 10 best trials\n",
      "<keras_tuner.engine.objective.Objective object at 0x7f76040d2620>\n",
      "Trial summary\n",
      "Hyperparameters:\n",
      "n_hidden: 5\n",
      "units: 288\n",
      "dropout: 0.0\n",
      "loss: log_cosh\n",
      "hidden_activation: relu\n",
      "output_activation: linear\n",
      "tuner/epochs: 100\n",
      "tuner/initial_epoch: 34\n",
      "tuner/bracket: 2\n",
      "tuner/round: 2\n",
      "tuner/trial_id: 0229\n",
      "Score: 3.450794247328304e-05\n",
      "Trial summary\n",
      "Hyperparameters:\n",
      "n_hidden: 4\n",
      "units: 256\n",
      "dropout: 0.01\n",
      "loss: mse\n",
      "hidden_activation: relu\n",
      "output_activation: linear\n",
      "tuner/epochs: 100\n",
      "tuner/initial_epoch: 34\n",
      "tuner/bracket: 4\n",
      "tuner/round: 4\n",
      "tuner/trial_id: 0142\n",
      "Score: 3.650778307928704e-05\n",
      "Trial summary\n",
      "Hyperparameters:\n",
      "n_hidden: 3\n",
      "units: 64\n",
      "dropout: 0.01\n",
      "loss: mse\n",
      "hidden_activation: relu\n",
      "output_activation: linear\n",
      "tuner/epochs: 100\n",
      "tuner/initial_epoch: 34\n",
      "tuner/bracket: 2\n",
      "tuner/round: 2\n",
      "tuner/trial_id: 0228\n",
      "Score: 3.801256025326438e-05\n",
      "Trial summary\n",
      "Hyperparameters:\n",
      "n_hidden: 4\n",
      "units: 64\n",
      "dropout: 0.01\n",
      "loss: mse\n",
      "hidden_activation: relu\n",
      "output_activation: linear\n",
      "tuner/epochs: 100\n",
      "tuner/initial_epoch: 34\n",
      "tuner/bracket: 3\n",
      "tuner/round: 3\n",
      "tuner/trial_id: 0203\n",
      "Score: 5.239270467427559e-05\n",
      "Trial summary\n",
      "Hyperparameters:\n",
      "n_hidden: 3\n",
      "units: 64\n",
      "dropout: 0.01\n",
      "loss: mse\n",
      "hidden_activation: relu\n",
      "output_activation: linear\n",
      "tuner/epochs: 34\n",
      "tuner/initial_epoch: 12\n",
      "tuner/bracket: 2\n",
      "tuner/round: 1\n",
      "tuner/trial_id: 0213\n",
      "Score: 6.874940299894661e-05\n",
      "Trial summary\n",
      "Hyperparameters:\n",
      "n_hidden: 5\n",
      "units: 288\n",
      "dropout: 0.0\n",
      "loss: log_cosh\n",
      "hidden_activation: relu\n",
      "output_activation: linear\n",
      "tuner/epochs: 34\n",
      "tuner/initial_epoch: 12\n",
      "tuner/bracket: 2\n",
      "tuner/round: 1\n",
      "tuner/trial_id: 0218\n",
      "Score: 7.029174594208598e-05\n",
      "Trial summary\n",
      "Hyperparameters:\n",
      "n_hidden: 3\n",
      "units: 96\n",
      "dropout: 0.07\n",
      "loss: log_cosh\n",
      "hidden_activation: elu\n",
      "output_activation: linear\n",
      "tuner/epochs: 100\n",
      "tuner/initial_epoch: 34\n",
      "tuner/bracket: 1\n",
      "tuner/round: 1\n",
      "tuner/trial_id: 0238\n",
      "Score: 7.142622052924708e-05\n",
      "Trial summary\n",
      "Hyperparameters:\n",
      "n_hidden: 4\n",
      "units: 64\n",
      "dropout: 0.01\n",
      "loss: mse\n",
      "hidden_activation: relu\n",
      "output_activation: linear\n",
      "tuner/epochs: 34\n",
      "tuner/initial_epoch: 12\n",
      "tuner/bracket: 3\n",
      "tuner/round: 2\n",
      "tuner/trial_id: 0189\n",
      "Score: 7.387138612102717e-05\n",
      "Trial summary\n",
      "Hyperparameters:\n",
      "n_hidden: 2\n",
      "units: 256\n",
      "dropout: 0.09\n",
      "loss: mse\n",
      "hidden_activation: relu\n",
      "output_activation: linear\n",
      "tuner/epochs: 100\n",
      "tuner/initial_epoch: 34\n",
      "tuner/bracket: 3\n",
      "tuner/round: 3\n",
      "tuner/trial_id: 0206\n",
      "Score: 7.62225899961777e-05\n",
      "Trial summary\n",
      "Hyperparameters:\n",
      "n_hidden: 3\n",
      "units: 256\n",
      "dropout: 0.08\n",
      "loss: log_cosh\n",
      "hidden_activation: elu\n",
      "output_activation: linear\n",
      "tuner/epochs: 100\n",
      "tuner/initial_epoch: 34\n",
      "tuner/bracket: 1\n",
      "tuner/round: 1\n",
      "tuner/trial_id: 0236\n",
      "Score: 8.472126501146704e-05\n"
     ]
    }
   ],
   "source": [
    "tuner.results_summary()"
   ]
  },
  {
   "cell_type": "code",
   "execution_count": 12,
   "id": "5ba8aed4-0393-434b-a292-634af67fd2a7",
   "metadata": {},
   "outputs": [
    {
     "name": "stdout",
     "output_type": "stream",
     "text": [
      "INFO:tensorflow:Assets written to: models/eq/assets\n"
     ]
    }
   ],
   "source": [
    "model.save('models/eq')"
   ]
  },
  {
   "cell_type": "code",
   "execution_count": null,
   "id": "a89a5219-2b62-441e-9227-d501fbac6c05",
   "metadata": {},
   "outputs": [],
   "source": []
  }
 ],
 "metadata": {
  "kernelspec": {
   "display_name": "Python 3 (ipykernel)",
   "language": "python",
   "name": "python3"
  },
  "language_info": {
   "codemirror_mode": {
    "name": "ipython",
    "version": 3
   },
   "file_extension": ".py",
   "mimetype": "text/x-python",
   "name": "python",
   "nbconvert_exporter": "python",
   "pygments_lexer": "ipython3",
   "version": "3.10.7"
  }
 },
 "nbformat": 4,
 "nbformat_minor": 5
}
