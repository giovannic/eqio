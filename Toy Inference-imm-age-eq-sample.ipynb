{
 "cells": [
  {
   "cell_type": "code",
   "execution_count": 1,
   "id": "83abb758-95b6-4f1d-b727-a0029c2ef15b",
   "metadata": {},
   "outputs": [],
   "source": [
    "import matplotlib.pyplot as plt\n",
    "import numpy as np\n",
    "import pandas as pd"
   ]
  },
  {
   "cell_type": "code",
   "execution_count": 2,
   "id": "b0e549be-024d-4321-b3af-327c3d04a0a2",
   "metadata": {},
   "outputs": [],
   "source": [
    "from rpy2.robjects.packages import importr\n",
    "import rpy2.robjects as ro\n",
    "import copy\n",
    "eq = importr('malariaEquilibrium')\n",
    "r_default_params = eq.load_parameter_set()\n",
    "ages = ro.FloatVector(range(100))"
   ]
  },
  {
   "cell_type": "code",
   "execution_count": 3,
   "id": "4611d750-aa66-498e-a7bf-5375ad2abfee",
   "metadata": {},
   "outputs": [
    {
     "name": "stderr",
     "output_type": "stream",
     "text": [
      "2022-12-14 11:49:35.131962: I tensorflow/core/platform/cpu_feature_guard.cc:193] This TensorFlow binary is optimized with oneAPI Deep Neural Network Library (oneDNN) to use the following CPU instructions in performance-critical operations:  AVX2 FMA\n",
      "To enable them in other operations, rebuild TensorFlow with the appropriate compiler flags.\n",
      "2022-12-14 11:49:35.569516: E tensorflow/stream_executor/cuda/cuda_blas.cc:2981] Unable to register cuBLAS factory: Attempting to register factory for plugin cuBLAS when one has already been registered\n"
     ]
    }
   ],
   "source": [
    "import tensorflow_probability as tfp\n",
    "tfd = tfp.distributions\n",
    "from tensorflow.keras.models import load_model\n",
    "import tensorflow as tf\n",
    "import arviz as az\n",
    "import matplotlib.pyplot as plt"
   ]
  },
  {
   "cell_type": "code",
   "execution_count": 4,
   "id": "7b0d615f-77a4-42f8-96d8-1d75391ddc99",
   "metadata": {},
   "outputs": [],
   "source": [
    "def single_prev(params, eir):\n",
    "    r_params = copy.deepcopy(r_default_params)\n",
    "    for n, p in zip(['kb', 'ub', 'b0', 'b1', 'IB0'], params):\n",
    "        r_params.rx2[n] = ro.FloatVector([p.numpy()])\n",
    "    states = eq.human_equilibrium(eir, ft = 0., p=r_params, age=ages)\n",
    "    return sum(states.rx2['states'].rx(ro.IntVector(range(4,11)),'pos_M')) / sum(states.rx2['states'].rx(ro.IntVector(range(4,11)),'prop'))"
   ]
  },
  {
   "cell_type": "code",
   "execution_count": 5,
   "id": "71e11ed6-67a9-4df5-8827-b31f201fcab2",
   "metadata": {},
   "outputs": [
    {
     "name": "stderr",
     "output_type": "stream",
     "text": [
      "2022-12-14 11:49:41.857884: I tensorflow/core/platform/cpu_feature_guard.cc:193] This TensorFlow binary is optimized with oneAPI Deep Neural Network Library (oneDNN) to use the following CPU instructions in performance-critical operations:  AVX2 FMA\n",
      "To enable them in other operations, rebuild TensorFlow with the appropriate compiler flags.\n",
      "2022-12-14 11:49:43.624526: I tensorflow/core/common_runtime/gpu/gpu_device.cc:1616] Created device /job:localhost/replica:0/task:0/device:GPU:0 with 38406 MB memory:  -> device: 0, name: NVIDIA A100-PCIE-40GB, pci bus id: 0000:27:00.0, compute capability: 8.0\n",
      "2022-12-14 11:49:43.639007: I tensorflow/core/common_runtime/gpu/gpu_device.cc:1616] Created device /job:localhost/replica:0/task:0/device:GPU:1 with 38406 MB memory:  -> device: 1, name: NVIDIA A100-PCIE-40GB, pci bus id: 0000:28:00.0, compute capability: 8.0\n"
     ]
    }
   ],
   "source": [
    "experiments = 10\n",
    "kb = tfd.Gamma(4., 1.).sample(experiments)\n",
    "ub = tfd.LogNormal(1., 1.).sample(experiments)\n",
    "b0 = tfd.Beta(7., 1.).sample(experiments)\n",
    "b1 = tfd.Beta(1., 7.).sample(experiments)\n",
    "IB0 = tfd.Gamma(5., .1).sample(experiments)"
   ]
  },
  {
   "cell_type": "code",
   "execution_count": 6,
   "id": "959ed86c-a0de-4206-8f18-14ddeb420298",
   "metadata": {},
   "outputs": [],
   "source": [
    "n_sites = 5\n",
    "pop_sample = np.maximum(np.random.normal(size=n_sites, loc=10000, scale=1000), 0.).astype(np.float32)\n",
    "EIR_sample = np.random.lognormal(1., 1., n_sites).astype(np.float32)"
   ]
  },
  {
   "cell_type": "code",
   "execution_count": 7,
   "id": "9dc2892b-3c3d-400f-96fd-d2ccc941564c",
   "metadata": {},
   "outputs": [],
   "source": [
    "observations = np.stack([\n",
    "    np.array([(single_prev([p[i] for p in [kb, ub, b0, b1, IB0]], float(EIR))) for EIR in EIR_sample])\n",
    "    for i in range(experiments)\n",
    "]) * pop_sample"
   ]
  },
  {
   "cell_type": "code",
   "execution_count": 8,
   "id": "ea528f04-c0ae-4096-aefe-3ee91ebb97f6",
   "metadata": {},
   "outputs": [],
   "source": [
    "model = load_model('./models/eq/')"
   ]
  },
  {
   "cell_type": "code",
   "execution_count": 9,
   "id": "976bcfd7-dc3e-4a1b-a033-1b4f28cec3fd",
   "metadata": {},
   "outputs": [],
   "source": [
    "default_params = pd.read_csv('default_params.csv')\n",
    "bounds = pd.read_csv('./outputs/eq/bounds.csv',dtype={'name': str, 'min': np.float32, 'max': np.float32})\n",
    "bounds_dict = { n: (l, u) for n, l, u in bounds.itertuples(index=False) }\n",
    "default_dict = dict(default_params.itertuples(index=False))"
   ]
  },
  {
   "cell_type": "code",
   "execution_count": 10,
   "id": "86e2b7b6-4a6b-468b-8fb5-83d36e8704c7",
   "metadata": {},
   "outputs": [],
   "source": [
    "clipper = tfp.bijectors.SoftClip(bounds['min'], bounds['max'], hinge_softness=1e-10)\n",
    "pop_sample_tf = tf.constant(pop_sample)\n",
    "\n",
    "@tf.function\n",
    "def model_prev(kb, ub, b0, b1, IB0, eir):\n",
    "    param_shape = kb.shape\n",
    "    X_ = tf.stack([\n",
    "        tf.fill(param_shape, default_dict['eta']), # default age\n",
    "        tf.fill(param_shape, default_dict['Q0']),\n",
    "        tf.fill(param_shape, default_dict['s2']),\n",
    "        tf.fill(param_shape, default_dict['rU']),\n",
    "        tf.fill(param_shape, default_dict['cD']),\n",
    "        tf.fill(param_shape, default_dict['g_inf']),\n",
    "        tf.fill(param_shape, default_dict['cU']),\n",
    "        kb,\n",
    "        ub,\n",
    "        tf.fill(param_shape, default_dict['uc']),\n",
    "        tf.fill(param_shape, default_dict['ud']),\n",
    "        tf.fill(param_shape, default_dict['kc']),\n",
    "        b0,\n",
    "        b1,\n",
    "        IB0,\n",
    "        tf.fill(param_shape, default_dict['IC0']),\n",
    "        tf.fill(param_shape, default_dict['tau']),\n",
    "        tf.fill(param_shape, default_dict['phi0']),\n",
    "        tf.fill(param_shape, default_dict['phi1']),\n",
    "        tf.fill(param_shape, default_dict['mu']),\n",
    "        tf.fill(param_shape, default_dict['f']),\n",
    "        tf.fill(param_shape, default_dict['fd0']),\n",
    "        tf.fill(param_shape, default_dict['ad0']),\n",
    "        tf.fill(param_shape, default_dict['gd'])\n",
    "    ], axis=len(param_shape))\n",
    "    if len(X_.shape) == 1:\n",
    "        X_ = tf.expand_dims(X_, axis=0)\n",
    "        eir = tf.expand_dims(eir, axis=0)\n",
    "    batch_size = X_.shape[0]\n",
    "    X_ = tf.repeat(X_, n_sites, axis=0)\n",
    "    eir_rep = tf.reshape(eir, (batch_size * n_sites, 1))\n",
    "    X = tf.concat([eir_rep, X_], axis=1)\n",
    "    prev_pred = model(clipper(X))\n",
    "    return tf.reshape(prev_pred, (batch_size, n_sites))\n",
    "\n",
    "@tf.function\n",
    "def prob_prev(kb, ub, b0, b1, IB0, eir):\n",
    "    prev_pred = model_prev(kb, ub, b0, b1, IB0, eir)\n",
    "    return tfd.Independent(\n",
    "        tfd.Binomial(total_count=pop_sample_tf[tf.newaxis, :], probs=prev_pred),\n",
    "        reinterpreted_batch_ndims=1,\n",
    "        name='prev'\n",
    "    )"
   ]
  },
  {
   "cell_type": "code",
   "execution_count": 13,
   "id": "b3d68528-2d27-4018-9b6f-e687ac5ab204",
   "metadata": {},
   "outputs": [],
   "source": [
    "from collections import OrderedDict\n",
    "EIR_sigma = 1\n",
    "sample_size = len(EIR_sample)\n",
    "def bounded(x, l, u):\n",
    "    return np.minimum(np.maximum(x, l), u)\n",
    "EIR_guesses = bounded(EIR_sample + np.random.normal(size=len(EIR_sample), scale=EIR_sigma).astype(np.float32), 1., 100.)\n",
    "\n",
    "joint_dist = tfp.distributions.JointDistributionNamed(\n",
    "    OrderedDict(\n",
    "        kb = tfd.Gamma(4., 1., validate_args=True),\n",
    "        ub = tfd.LogNormal(1., 1., validate_args=True),\n",
    "        b0 = tfd.Beta(7., 1., validate_args=True),\n",
    "        b1 = tfd.Beta(1., 7., validate_args=True),\n",
    "        IB0 = tfd.Gamma(5., .1, validate_args=True),\n",
    "        EIR = tfd.Independent(tfd.TruncatedNormal(loc=EIR_guesses, scale=np.full(sample_size, EIR_sigma, dtype=np.float32), low=0, high=100), reinterpreted_batch_ndims=1),\n",
    "        prev = lambda kb, ub, b0, b1, IB0, EIR : prob_prev(kb, ub, b0, b1, IB0, EIR)\n",
    "    )\n",
    ")"
   ]
  },
  {
   "cell_type": "code",
   "execution_count": 14,
   "id": "4aea04fc-1584-416d-9942-364df7da0e3b",
   "metadata": {},
   "outputs": [
    {
     "name": "stderr",
     "output_type": "stream",
     "text": [
      "2022-12-14 14:15:13.157008: I tensorflow/stream_executor/cuda/cuda_blas.cc:1614] TensorFloat-32 will be used for the matrix multiplication. This will only be logged once.\n"
     ]
    }
   ],
   "source": [
    "*prior_samples, prior_predictive = joint_dist.sample(1000).values()"
   ]
  },
  {
   "cell_type": "code",
   "execution_count": 15,
   "id": "145858ab-a155-4980-ab91-7fa7f949c04a",
   "metadata": {},
   "outputs": [
    {
     "ename": "ValueError",
     "evalue": "conflicting sizes for dimension 'observation': length 5 on the data but length 1 on coordinate 'observation'",
     "output_type": "error",
     "traceback": [
      "\u001b[0;31m---------------------------------------------------------------------------\u001b[0m",
      "\u001b[0;31mValueError\u001b[0m                                Traceback (most recent call last)",
      "Cell \u001b[0;32mIn [15], line 1\u001b[0m\n\u001b[0;32m----> 1\u001b[0m prior_trace \u001b[38;5;241m=\u001b[39m az\u001b[38;5;241m.\u001b[39mfrom_dict(\n\u001b[1;32m      2\u001b[0m     observed_data\u001b[38;5;241m=\u001b[39m{\u001b[38;5;124m\"\u001b[39m\u001b[38;5;124mobservations\u001b[39m\u001b[38;5;124m\"\u001b[39m: observations[\u001b[38;5;241m0\u001b[39m]},\n\u001b[1;32m      3\u001b[0m     prior_predictive\u001b[38;5;241m=\u001b[39m{\u001b[38;5;124m\"\u001b[39m\u001b[38;5;124mobservations\u001b[39m\u001b[38;5;124m\"\u001b[39m: prior_predictive[tf\u001b[38;5;241m.\u001b[39mnewaxis, \u001b[38;5;241m.\u001b[39m\u001b[38;5;241m.\u001b[39m\u001b[38;5;241m.\u001b[39m]},\n\u001b[1;32m      4\u001b[0m     coords\u001b[38;5;241m=\u001b[39m{\u001b[38;5;124m\"\u001b[39m\u001b[38;5;124mobservation\u001b[39m\u001b[38;5;124m\"\u001b[39m: np\u001b[38;5;241m.\u001b[39marange(\u001b[38;5;241m1\u001b[39m)},\n\u001b[1;32m      5\u001b[0m     dims\u001b[38;5;241m=\u001b[39m{\u001b[38;5;124m\"\u001b[39m\u001b[38;5;124mobservations\u001b[39m\u001b[38;5;124m\"\u001b[39m: [\u001b[38;5;124m\"\u001b[39m\u001b[38;5;124mobservation\u001b[39m\u001b[38;5;124m\"\u001b[39m]},\n\u001b[1;32m      6\u001b[0m )\n\u001b[1;32m      7\u001b[0m \u001b[38;5;28mprint\u001b[39m(prior_trace\u001b[38;5;241m.\u001b[39mprior_predictive)\n",
      "File \u001b[0;32m~/projects/eqio/env/lib/python3.10/site-packages/arviz/data/io_dict.py:460\u001b[0m, in \u001b[0;36mfrom_dict\u001b[0;34m(posterior, posterior_predictive, predictions, sample_stats, log_likelihood, prior, prior_predictive, sample_stats_prior, observed_data, constant_data, predictions_constant_data, warmup_posterior, warmup_posterior_predictive, warmup_predictions, warmup_log_likelihood, warmup_sample_stats, save_warmup, index_origin, coords, dims, pred_dims, pred_coords, attrs, **kwargs)\u001b[0m\n\u001b[1;32m    353\u001b[0m \u001b[38;5;28;01mdef\u001b[39;00m \u001b[38;5;21mfrom_dict\u001b[39m(\n\u001b[1;32m    354\u001b[0m     posterior\u001b[38;5;241m=\u001b[39m\u001b[38;5;28;01mNone\u001b[39;00m,\n\u001b[1;32m    355\u001b[0m     \u001b[38;5;241m*\u001b[39m,\n\u001b[0;32m   (...)\u001b[0m\n\u001b[1;32m    378\u001b[0m     \u001b[38;5;241m*\u001b[39m\u001b[38;5;241m*\u001b[39mkwargs,\n\u001b[1;32m    379\u001b[0m ):\n\u001b[1;32m    380\u001b[0m     \u001b[38;5;124;03m\"\"\"Convert Dictionary data into an InferenceData object.\u001b[39;00m\n\u001b[1;32m    381\u001b[0m \n\u001b[1;32m    382\u001b[0m \u001b[38;5;124;03m    For a usage example read the\u001b[39;00m\n\u001b[0;32m   (...)\u001b[0m\n\u001b[1;32m    433\u001b[0m \u001b[38;5;124;03m    InferenceData\u001b[39;00m\n\u001b[1;32m    434\u001b[0m \u001b[38;5;124;03m    \"\"\"\u001b[39;00m\n\u001b[1;32m    435\u001b[0m     \u001b[38;5;28;01mreturn\u001b[39;00m \u001b[43mDictConverter\u001b[49m\u001b[43m(\u001b[49m\n\u001b[1;32m    436\u001b[0m \u001b[43m        \u001b[49m\u001b[43mposterior\u001b[49m\u001b[38;5;241;43m=\u001b[39;49m\u001b[43mposterior\u001b[49m\u001b[43m,\u001b[49m\n\u001b[1;32m    437\u001b[0m \u001b[43m        \u001b[49m\u001b[43mposterior_predictive\u001b[49m\u001b[38;5;241;43m=\u001b[39;49m\u001b[43mposterior_predictive\u001b[49m\u001b[43m,\u001b[49m\n\u001b[1;32m    438\u001b[0m \u001b[43m        \u001b[49m\u001b[43mpredictions\u001b[49m\u001b[38;5;241;43m=\u001b[39;49m\u001b[43mpredictions\u001b[49m\u001b[43m,\u001b[49m\n\u001b[1;32m    439\u001b[0m \u001b[43m        \u001b[49m\u001b[43msample_stats\u001b[49m\u001b[38;5;241;43m=\u001b[39;49m\u001b[43msample_stats\u001b[49m\u001b[43m,\u001b[49m\n\u001b[1;32m    440\u001b[0m \u001b[43m        \u001b[49m\u001b[43mlog_likelihood\u001b[49m\u001b[38;5;241;43m=\u001b[39;49m\u001b[43mlog_likelihood\u001b[49m\u001b[43m,\u001b[49m\n\u001b[1;32m    441\u001b[0m \u001b[43m        \u001b[49m\u001b[43mprior\u001b[49m\u001b[38;5;241;43m=\u001b[39;49m\u001b[43mprior\u001b[49m\u001b[43m,\u001b[49m\n\u001b[1;32m    442\u001b[0m \u001b[43m        \u001b[49m\u001b[43mprior_predictive\u001b[49m\u001b[38;5;241;43m=\u001b[39;49m\u001b[43mprior_predictive\u001b[49m\u001b[43m,\u001b[49m\n\u001b[1;32m    443\u001b[0m \u001b[43m        \u001b[49m\u001b[43msample_stats_prior\u001b[49m\u001b[38;5;241;43m=\u001b[39;49m\u001b[43msample_stats_prior\u001b[49m\u001b[43m,\u001b[49m\n\u001b[1;32m    444\u001b[0m \u001b[43m        \u001b[49m\u001b[43mobserved_data\u001b[49m\u001b[38;5;241;43m=\u001b[39;49m\u001b[43mobserved_data\u001b[49m\u001b[43m,\u001b[49m\n\u001b[1;32m    445\u001b[0m \u001b[43m        \u001b[49m\u001b[43mconstant_data\u001b[49m\u001b[38;5;241;43m=\u001b[39;49m\u001b[43mconstant_data\u001b[49m\u001b[43m,\u001b[49m\n\u001b[1;32m    446\u001b[0m \u001b[43m        \u001b[49m\u001b[43mpredictions_constant_data\u001b[49m\u001b[38;5;241;43m=\u001b[39;49m\u001b[43mpredictions_constant_data\u001b[49m\u001b[43m,\u001b[49m\n\u001b[1;32m    447\u001b[0m \u001b[43m        \u001b[49m\u001b[43mwarmup_posterior\u001b[49m\u001b[38;5;241;43m=\u001b[39;49m\u001b[43mwarmup_posterior\u001b[49m\u001b[43m,\u001b[49m\n\u001b[1;32m    448\u001b[0m \u001b[43m        \u001b[49m\u001b[43mwarmup_posterior_predictive\u001b[49m\u001b[38;5;241;43m=\u001b[39;49m\u001b[43mwarmup_posterior_predictive\u001b[49m\u001b[43m,\u001b[49m\n\u001b[1;32m    449\u001b[0m \u001b[43m        \u001b[49m\u001b[43mwarmup_predictions\u001b[49m\u001b[38;5;241;43m=\u001b[39;49m\u001b[43mwarmup_predictions\u001b[49m\u001b[43m,\u001b[49m\n\u001b[1;32m    450\u001b[0m \u001b[43m        \u001b[49m\u001b[43mwarmup_log_likelihood\u001b[49m\u001b[38;5;241;43m=\u001b[39;49m\u001b[43mwarmup_log_likelihood\u001b[49m\u001b[43m,\u001b[49m\n\u001b[1;32m    451\u001b[0m \u001b[43m        \u001b[49m\u001b[43mwarmup_sample_stats\u001b[49m\u001b[38;5;241;43m=\u001b[39;49m\u001b[43mwarmup_sample_stats\u001b[49m\u001b[43m,\u001b[49m\n\u001b[1;32m    452\u001b[0m \u001b[43m        \u001b[49m\u001b[43msave_warmup\u001b[49m\u001b[38;5;241;43m=\u001b[39;49m\u001b[43msave_warmup\u001b[49m\u001b[43m,\u001b[49m\n\u001b[1;32m    453\u001b[0m \u001b[43m        \u001b[49m\u001b[43mindex_origin\u001b[49m\u001b[38;5;241;43m=\u001b[39;49m\u001b[43mindex_origin\u001b[49m\u001b[43m,\u001b[49m\n\u001b[1;32m    454\u001b[0m \u001b[43m        \u001b[49m\u001b[43mcoords\u001b[49m\u001b[38;5;241;43m=\u001b[39;49m\u001b[43mcoords\u001b[49m\u001b[43m,\u001b[49m\n\u001b[1;32m    455\u001b[0m \u001b[43m        \u001b[49m\u001b[43mdims\u001b[49m\u001b[38;5;241;43m=\u001b[39;49m\u001b[43mdims\u001b[49m\u001b[43m,\u001b[49m\n\u001b[1;32m    456\u001b[0m \u001b[43m        \u001b[49m\u001b[43mpred_dims\u001b[49m\u001b[38;5;241;43m=\u001b[39;49m\u001b[43mpred_dims\u001b[49m\u001b[43m,\u001b[49m\n\u001b[1;32m    457\u001b[0m \u001b[43m        \u001b[49m\u001b[43mpred_coords\u001b[49m\u001b[38;5;241;43m=\u001b[39;49m\u001b[43mpred_coords\u001b[49m\u001b[43m,\u001b[49m\n\u001b[1;32m    458\u001b[0m \u001b[43m        \u001b[49m\u001b[43mattrs\u001b[49m\u001b[38;5;241;43m=\u001b[39;49m\u001b[43mattrs\u001b[49m\u001b[43m,\u001b[49m\n\u001b[1;32m    459\u001b[0m \u001b[43m        \u001b[49m\u001b[38;5;241;43m*\u001b[39;49m\u001b[38;5;241;43m*\u001b[39;49m\u001b[43mkwargs\u001b[49m\u001b[43m,\u001b[49m\n\u001b[0;32m--> 460\u001b[0m \u001b[43m    \u001b[49m\u001b[43m)\u001b[49m\u001b[38;5;241;43m.\u001b[39;49m\u001b[43mto_inference_data\u001b[49m\u001b[43m(\u001b[49m\u001b[43m)\u001b[49m\n",
      "File \u001b[0;32m~/projects/eqio/env/lib/python3.10/site-packages/arviz/data/io_dict.py:342\u001b[0m, in \u001b[0;36mDictConverter.to_inference_data\u001b[0;34m(self)\u001b[0m\n\u001b[1;32m    327\u001b[0m \u001b[38;5;28;01mdef\u001b[39;00m \u001b[38;5;21mto_inference_data\u001b[39m(\u001b[38;5;28mself\u001b[39m):\n\u001b[1;32m    328\u001b[0m     \u001b[38;5;124;03m\"\"\"Convert all available data to an InferenceData object.\u001b[39;00m\n\u001b[1;32m    329\u001b[0m \n\u001b[1;32m    330\u001b[0m \u001b[38;5;124;03m    Note that if groups can not be created, then the InferenceData\u001b[39;00m\n\u001b[1;32m    331\u001b[0m \u001b[38;5;124;03m    will not have those groups.\u001b[39;00m\n\u001b[1;32m    332\u001b[0m \u001b[38;5;124;03m    \"\"\"\u001b[39;00m\n\u001b[1;32m    333\u001b[0m     \u001b[38;5;28;01mreturn\u001b[39;00m InferenceData(\n\u001b[1;32m    334\u001b[0m         \u001b[38;5;241m*\u001b[39m\u001b[38;5;241m*\u001b[39m{\n\u001b[1;32m    335\u001b[0m             \u001b[38;5;124m\"\u001b[39m\u001b[38;5;124mposterior\u001b[39m\u001b[38;5;124m\"\u001b[39m: \u001b[38;5;28mself\u001b[39m\u001b[38;5;241m.\u001b[39mposterior_to_xarray(),\n\u001b[1;32m    336\u001b[0m             \u001b[38;5;124m\"\u001b[39m\u001b[38;5;124msample_stats\u001b[39m\u001b[38;5;124m\"\u001b[39m: \u001b[38;5;28mself\u001b[39m\u001b[38;5;241m.\u001b[39msample_stats_to_xarray(),\n\u001b[1;32m    337\u001b[0m             \u001b[38;5;124m\"\u001b[39m\u001b[38;5;124mlog_likelihood\u001b[39m\u001b[38;5;124m\"\u001b[39m: \u001b[38;5;28mself\u001b[39m\u001b[38;5;241m.\u001b[39mlog_likelihood_to_xarray(),\n\u001b[1;32m    338\u001b[0m             \u001b[38;5;124m\"\u001b[39m\u001b[38;5;124mposterior_predictive\u001b[39m\u001b[38;5;124m\"\u001b[39m: \u001b[38;5;28mself\u001b[39m\u001b[38;5;241m.\u001b[39mposterior_predictive_to_xarray(),\n\u001b[1;32m    339\u001b[0m             \u001b[38;5;124m\"\u001b[39m\u001b[38;5;124mpredictions\u001b[39m\u001b[38;5;124m\"\u001b[39m: \u001b[38;5;28mself\u001b[39m\u001b[38;5;241m.\u001b[39mpredictions_to_xarray(),\n\u001b[1;32m    340\u001b[0m             \u001b[38;5;124m\"\u001b[39m\u001b[38;5;124mprior\u001b[39m\u001b[38;5;124m\"\u001b[39m: \u001b[38;5;28mself\u001b[39m\u001b[38;5;241m.\u001b[39mprior_to_xarray(),\n\u001b[1;32m    341\u001b[0m             \u001b[38;5;124m\"\u001b[39m\u001b[38;5;124msample_stats_prior\u001b[39m\u001b[38;5;124m\"\u001b[39m: \u001b[38;5;28mself\u001b[39m\u001b[38;5;241m.\u001b[39msample_stats_prior_to_xarray(),\n\u001b[0;32m--> 342\u001b[0m             \u001b[38;5;124m\"\u001b[39m\u001b[38;5;124mprior_predictive\u001b[39m\u001b[38;5;124m\"\u001b[39m: \u001b[38;5;28;43mself\u001b[39;49m\u001b[38;5;241;43m.\u001b[39;49m\u001b[43mprior_predictive_to_xarray\u001b[49m\u001b[43m(\u001b[49m\u001b[43m)\u001b[49m,\n\u001b[1;32m    343\u001b[0m             \u001b[38;5;124m\"\u001b[39m\u001b[38;5;124mobserved_data\u001b[39m\u001b[38;5;124m\"\u001b[39m: \u001b[38;5;28mself\u001b[39m\u001b[38;5;241m.\u001b[39mobserved_data_to_xarray(),\n\u001b[1;32m    344\u001b[0m             \u001b[38;5;124m\"\u001b[39m\u001b[38;5;124mconstant_data\u001b[39m\u001b[38;5;124m\"\u001b[39m: \u001b[38;5;28mself\u001b[39m\u001b[38;5;241m.\u001b[39mconstant_data_to_xarray(),\n\u001b[1;32m    345\u001b[0m             \u001b[38;5;124m\"\u001b[39m\u001b[38;5;124mpredictions_constant_data\u001b[39m\u001b[38;5;124m\"\u001b[39m: \u001b[38;5;28mself\u001b[39m\u001b[38;5;241m.\u001b[39mpredictions_constant_data_to_xarray(),\n\u001b[1;32m    346\u001b[0m             \u001b[38;5;124m\"\u001b[39m\u001b[38;5;124msave_warmup\u001b[39m\u001b[38;5;124m\"\u001b[39m: \u001b[38;5;28mself\u001b[39m\u001b[38;5;241m.\u001b[39msave_warmup,\n\u001b[1;32m    347\u001b[0m             \u001b[38;5;124m\"\u001b[39m\u001b[38;5;124mattrs\u001b[39m\u001b[38;5;124m\"\u001b[39m: \u001b[38;5;28mself\u001b[39m\u001b[38;5;241m.\u001b[39mattrs,\n\u001b[1;32m    348\u001b[0m         }\n\u001b[1;32m    349\u001b[0m     )\n",
      "File \u001b[0;32m~/projects/eqio/env/lib/python3.10/site-packages/arviz/data/base.py:65\u001b[0m, in \u001b[0;36mrequires.__call__.<locals>.wrapped\u001b[0;34m(cls)\u001b[0m\n\u001b[1;32m     63\u001b[0m     \u001b[38;5;28;01mif\u001b[39;00m \u001b[38;5;28mall\u001b[39m((\u001b[38;5;28mgetattr\u001b[39m(\u001b[38;5;28mcls\u001b[39m, prop_i) \u001b[38;5;129;01mis\u001b[39;00m \u001b[38;5;28;01mNone\u001b[39;00m \u001b[38;5;28;01mfor\u001b[39;00m prop_i \u001b[38;5;129;01min\u001b[39;00m prop)):\n\u001b[1;32m     64\u001b[0m         \u001b[38;5;28;01mreturn\u001b[39;00m \u001b[38;5;28;01mNone\u001b[39;00m\n\u001b[0;32m---> 65\u001b[0m \u001b[38;5;28;01mreturn\u001b[39;00m \u001b[43mfunc\u001b[49m\u001b[43m(\u001b[49m\u001b[38;5;28;43mcls\u001b[39;49m\u001b[43m)\u001b[49m\n",
      "File \u001b[0;32m~/projects/eqio/env/lib/python3.10/site-packages/arviz/data/io_dict.py:285\u001b[0m, in \u001b[0;36mDictConverter.prior_predictive_to_xarray\u001b[0;34m(self)\u001b[0m\n\u001b[1;32m    283\u001b[0m     \u001b[38;5;28;01mraise\u001b[39;00m \u001b[38;5;167;01mTypeError\u001b[39;00m(\u001b[38;5;124m\"\u001b[39m\u001b[38;5;124mDictConverter.prior_predictive is not a dictionary\u001b[39m\u001b[38;5;124m\"\u001b[39m)\n\u001b[1;32m    284\u001b[0m prior_predictive_attrs \u001b[38;5;241m=\u001b[39m \u001b[38;5;28mself\u001b[39m\u001b[38;5;241m.\u001b[39m_kwargs\u001b[38;5;241m.\u001b[39mget(\u001b[38;5;124m\"\u001b[39m\u001b[38;5;124mprior_predictive_attrs\u001b[39m\u001b[38;5;124m\"\u001b[39m)\n\u001b[0;32m--> 285\u001b[0m \u001b[38;5;28;01mreturn\u001b[39;00m \u001b[43mdict_to_dataset\u001b[49m\u001b[43m(\u001b[49m\n\u001b[1;32m    286\u001b[0m \u001b[43m    \u001b[49m\u001b[43mdata\u001b[49m\u001b[43m,\u001b[49m\n\u001b[1;32m    287\u001b[0m \u001b[43m    \u001b[49m\u001b[43mlibrary\u001b[49m\u001b[38;5;241;43m=\u001b[39;49m\u001b[38;5;28;43;01mNone\u001b[39;49;00m\u001b[43m,\u001b[49m\n\u001b[1;32m    288\u001b[0m \u001b[43m    \u001b[49m\u001b[43mcoords\u001b[49m\u001b[38;5;241;43m=\u001b[39;49m\u001b[38;5;28;43mself\u001b[39;49m\u001b[38;5;241;43m.\u001b[39;49m\u001b[43mcoords\u001b[49m\u001b[43m,\u001b[49m\n\u001b[1;32m    289\u001b[0m \u001b[43m    \u001b[49m\u001b[43mdims\u001b[49m\u001b[38;5;241;43m=\u001b[39;49m\u001b[38;5;28;43mself\u001b[39;49m\u001b[38;5;241;43m.\u001b[39;49m\u001b[43mdims\u001b[49m\u001b[43m,\u001b[49m\n\u001b[1;32m    290\u001b[0m \u001b[43m    \u001b[49m\u001b[43mattrs\u001b[49m\u001b[38;5;241;43m=\u001b[39;49m\u001b[43mprior_predictive_attrs\u001b[49m\u001b[43m,\u001b[49m\n\u001b[1;32m    291\u001b[0m \u001b[43m    \u001b[49m\u001b[43mindex_origin\u001b[49m\u001b[38;5;241;43m=\u001b[39;49m\u001b[38;5;28;43mself\u001b[39;49m\u001b[38;5;241;43m.\u001b[39;49m\u001b[43mindex_origin\u001b[49m\u001b[43m,\u001b[49m\n\u001b[1;32m    292\u001b[0m \u001b[43m\u001b[49m\u001b[43m)\u001b[49m\n",
      "File \u001b[0;32m~/projects/eqio/env/lib/python3.10/site-packages/arviz/data/base.py:306\u001b[0m, in \u001b[0;36mdict_to_dataset\u001b[0;34m(data, attrs, library, coords, dims, default_dims, index_origin, skip_event_dims)\u001b[0m\n\u001b[1;32m    303\u001b[0m \u001b[38;5;28;01mif\u001b[39;00m dims \u001b[38;5;129;01mis\u001b[39;00m \u001b[38;5;28;01mNone\u001b[39;00m:\n\u001b[1;32m    304\u001b[0m     dims \u001b[38;5;241m=\u001b[39m {}\n\u001b[0;32m--> 306\u001b[0m data_vars \u001b[38;5;241m=\u001b[39m {\n\u001b[1;32m    307\u001b[0m     key: numpy_to_data_array(\n\u001b[1;32m    308\u001b[0m         values,\n\u001b[1;32m    309\u001b[0m         var_name\u001b[38;5;241m=\u001b[39mkey,\n\u001b[1;32m    310\u001b[0m         coords\u001b[38;5;241m=\u001b[39mcoords,\n\u001b[1;32m    311\u001b[0m         dims\u001b[38;5;241m=\u001b[39mdims\u001b[38;5;241m.\u001b[39mget(key),\n\u001b[1;32m    312\u001b[0m         default_dims\u001b[38;5;241m=\u001b[39mdefault_dims,\n\u001b[1;32m    313\u001b[0m         index_origin\u001b[38;5;241m=\u001b[39mindex_origin,\n\u001b[1;32m    314\u001b[0m         skip_event_dims\u001b[38;5;241m=\u001b[39mskip_event_dims,\n\u001b[1;32m    315\u001b[0m     )\n\u001b[1;32m    316\u001b[0m     \u001b[38;5;28;01mfor\u001b[39;00m key, values \u001b[38;5;129;01min\u001b[39;00m data\u001b[38;5;241m.\u001b[39mitems()\n\u001b[1;32m    317\u001b[0m }\n\u001b[1;32m    318\u001b[0m \u001b[38;5;28;01mreturn\u001b[39;00m xr\u001b[38;5;241m.\u001b[39mDataset(data_vars\u001b[38;5;241m=\u001b[39mdata_vars, attrs\u001b[38;5;241m=\u001b[39mmake_attrs(attrs\u001b[38;5;241m=\u001b[39mattrs, library\u001b[38;5;241m=\u001b[39mlibrary))\n",
      "File \u001b[0;32m~/projects/eqio/env/lib/python3.10/site-packages/arviz/data/base.py:307\u001b[0m, in \u001b[0;36m<dictcomp>\u001b[0;34m(.0)\u001b[0m\n\u001b[1;32m    303\u001b[0m \u001b[38;5;28;01mif\u001b[39;00m dims \u001b[38;5;129;01mis\u001b[39;00m \u001b[38;5;28;01mNone\u001b[39;00m:\n\u001b[1;32m    304\u001b[0m     dims \u001b[38;5;241m=\u001b[39m {}\n\u001b[1;32m    306\u001b[0m data_vars \u001b[38;5;241m=\u001b[39m {\n\u001b[0;32m--> 307\u001b[0m     key: \u001b[43mnumpy_to_data_array\u001b[49m\u001b[43m(\u001b[49m\n\u001b[1;32m    308\u001b[0m \u001b[43m        \u001b[49m\u001b[43mvalues\u001b[49m\u001b[43m,\u001b[49m\n\u001b[1;32m    309\u001b[0m \u001b[43m        \u001b[49m\u001b[43mvar_name\u001b[49m\u001b[38;5;241;43m=\u001b[39;49m\u001b[43mkey\u001b[49m\u001b[43m,\u001b[49m\n\u001b[1;32m    310\u001b[0m \u001b[43m        \u001b[49m\u001b[43mcoords\u001b[49m\u001b[38;5;241;43m=\u001b[39;49m\u001b[43mcoords\u001b[49m\u001b[43m,\u001b[49m\n\u001b[1;32m    311\u001b[0m \u001b[43m        \u001b[49m\u001b[43mdims\u001b[49m\u001b[38;5;241;43m=\u001b[39;49m\u001b[43mdims\u001b[49m\u001b[38;5;241;43m.\u001b[39;49m\u001b[43mget\u001b[49m\u001b[43m(\u001b[49m\u001b[43mkey\u001b[49m\u001b[43m)\u001b[49m\u001b[43m,\u001b[49m\n\u001b[1;32m    312\u001b[0m \u001b[43m        \u001b[49m\u001b[43mdefault_dims\u001b[49m\u001b[38;5;241;43m=\u001b[39;49m\u001b[43mdefault_dims\u001b[49m\u001b[43m,\u001b[49m\n\u001b[1;32m    313\u001b[0m \u001b[43m        \u001b[49m\u001b[43mindex_origin\u001b[49m\u001b[38;5;241;43m=\u001b[39;49m\u001b[43mindex_origin\u001b[49m\u001b[43m,\u001b[49m\n\u001b[1;32m    314\u001b[0m \u001b[43m        \u001b[49m\u001b[43mskip_event_dims\u001b[49m\u001b[38;5;241;43m=\u001b[39;49m\u001b[43mskip_event_dims\u001b[49m\u001b[43m,\u001b[49m\n\u001b[1;32m    315\u001b[0m \u001b[43m    \u001b[49m\u001b[43m)\u001b[49m\n\u001b[1;32m    316\u001b[0m     \u001b[38;5;28;01mfor\u001b[39;00m key, values \u001b[38;5;129;01min\u001b[39;00m data\u001b[38;5;241m.\u001b[39mitems()\n\u001b[1;32m    317\u001b[0m }\n\u001b[1;32m    318\u001b[0m \u001b[38;5;28;01mreturn\u001b[39;00m xr\u001b[38;5;241m.\u001b[39mDataset(data_vars\u001b[38;5;241m=\u001b[39mdata_vars, attrs\u001b[38;5;241m=\u001b[39mmake_attrs(attrs\u001b[38;5;241m=\u001b[39mattrs, library\u001b[38;5;241m=\u001b[39mlibrary))\n",
      "File \u001b[0;32m~/projects/eqio/env/lib/python3.10/site-packages/arviz/data/base.py:255\u001b[0m, in \u001b[0;36mnumpy_to_data_array\u001b[0;34m(ary, var_name, coords, dims, default_dims, index_origin, skip_event_dims)\u001b[0m\n\u001b[1;32m    253\u001b[0m \u001b[38;5;66;03m# filter coords based on the dims\u001b[39;00m\n\u001b[1;32m    254\u001b[0m coords \u001b[38;5;241m=\u001b[39m {key: xr\u001b[38;5;241m.\u001b[39mIndexVariable((key,), data\u001b[38;5;241m=\u001b[39mnp\u001b[38;5;241m.\u001b[39masarray(coords[key])) \u001b[38;5;28;01mfor\u001b[39;00m key \u001b[38;5;129;01min\u001b[39;00m dims}\n\u001b[0;32m--> 255\u001b[0m \u001b[38;5;28;01mreturn\u001b[39;00m \u001b[43mxr\u001b[49m\u001b[38;5;241;43m.\u001b[39;49m\u001b[43mDataArray\u001b[49m\u001b[43m(\u001b[49m\u001b[43mary\u001b[49m\u001b[43m,\u001b[49m\u001b[43m \u001b[49m\u001b[43mcoords\u001b[49m\u001b[38;5;241;43m=\u001b[39;49m\u001b[43mcoords\u001b[49m\u001b[43m,\u001b[49m\u001b[43m \u001b[49m\u001b[43mdims\u001b[49m\u001b[38;5;241;43m=\u001b[39;49m\u001b[43mdims\u001b[49m\u001b[43m)\u001b[49m\n",
      "File \u001b[0;32m~/projects/eqio/env/lib/python3.10/site-packages/xarray/core/dataarray.py:415\u001b[0m, in \u001b[0;36mDataArray.__init__\u001b[0;34m(self, data, coords, dims, name, attrs, indexes, fastpath)\u001b[0m\n\u001b[1;32m    413\u001b[0m data \u001b[38;5;241m=\u001b[39m _check_data_shape(data, coords, dims)\n\u001b[1;32m    414\u001b[0m data \u001b[38;5;241m=\u001b[39m as_compatible_data(data)\n\u001b[0;32m--> 415\u001b[0m coords, dims \u001b[38;5;241m=\u001b[39m \u001b[43m_infer_coords_and_dims\u001b[49m\u001b[43m(\u001b[49m\u001b[43mdata\u001b[49m\u001b[38;5;241;43m.\u001b[39;49m\u001b[43mshape\u001b[49m\u001b[43m,\u001b[49m\u001b[43m \u001b[49m\u001b[43mcoords\u001b[49m\u001b[43m,\u001b[49m\u001b[43m \u001b[49m\u001b[43mdims\u001b[49m\u001b[43m)\u001b[49m\n\u001b[1;32m    416\u001b[0m variable \u001b[38;5;241m=\u001b[39m Variable(dims, data, attrs, fastpath\u001b[38;5;241m=\u001b[39m\u001b[38;5;28;01mTrue\u001b[39;00m)\n\u001b[1;32m    417\u001b[0m indexes, coords \u001b[38;5;241m=\u001b[39m _create_indexes_from_coords(coords)\n",
      "File \u001b[0;32m~/projects/eqio/env/lib/python3.10/site-packages/xarray/core/dataarray.py:163\u001b[0m, in \u001b[0;36m_infer_coords_and_dims\u001b[0;34m(shape, coords, dims)\u001b[0m\n\u001b[1;32m    161\u001b[0m \u001b[38;5;28;01mfor\u001b[39;00m d, s \u001b[38;5;129;01min\u001b[39;00m \u001b[38;5;28mzip\u001b[39m(v\u001b[38;5;241m.\u001b[39mdims, v\u001b[38;5;241m.\u001b[39mshape):\n\u001b[1;32m    162\u001b[0m     \u001b[38;5;28;01mif\u001b[39;00m s \u001b[38;5;241m!=\u001b[39m sizes[d]:\n\u001b[0;32m--> 163\u001b[0m         \u001b[38;5;28;01mraise\u001b[39;00m \u001b[38;5;167;01mValueError\u001b[39;00m(\n\u001b[1;32m    164\u001b[0m             \u001b[38;5;124mf\u001b[39m\u001b[38;5;124m\"\u001b[39m\u001b[38;5;124mconflicting sizes for dimension \u001b[39m\u001b[38;5;132;01m{\u001b[39;00md\u001b[38;5;132;01m!r}\u001b[39;00m\u001b[38;5;124m: \u001b[39m\u001b[38;5;124m\"\u001b[39m\n\u001b[1;32m    165\u001b[0m             \u001b[38;5;124mf\u001b[39m\u001b[38;5;124m\"\u001b[39m\u001b[38;5;124mlength \u001b[39m\u001b[38;5;132;01m{\u001b[39;00msizes[d]\u001b[38;5;132;01m}\u001b[39;00m\u001b[38;5;124m on the data but length \u001b[39m\u001b[38;5;132;01m{\u001b[39;00ms\u001b[38;5;132;01m}\u001b[39;00m\u001b[38;5;124m on \u001b[39m\u001b[38;5;124m\"\u001b[39m\n\u001b[1;32m    166\u001b[0m             \u001b[38;5;124mf\u001b[39m\u001b[38;5;124m\"\u001b[39m\u001b[38;5;124mcoordinate \u001b[39m\u001b[38;5;132;01m{\u001b[39;00mk\u001b[38;5;132;01m!r}\u001b[39;00m\u001b[38;5;124m\"\u001b[39m\n\u001b[1;32m    167\u001b[0m         )\n\u001b[1;32m    169\u001b[0m \u001b[38;5;28;01mif\u001b[39;00m k \u001b[38;5;129;01min\u001b[39;00m sizes \u001b[38;5;129;01mand\u001b[39;00m v\u001b[38;5;241m.\u001b[39mshape \u001b[38;5;241m!=\u001b[39m (sizes[k],):\n\u001b[1;32m    170\u001b[0m     \u001b[38;5;28;01mraise\u001b[39;00m \u001b[38;5;167;01mValueError\u001b[39;00m(\n\u001b[1;32m    171\u001b[0m         \u001b[38;5;124mf\u001b[39m\u001b[38;5;124m\"\u001b[39m\u001b[38;5;124mcoordinate \u001b[39m\u001b[38;5;132;01m{\u001b[39;00mk\u001b[38;5;132;01m!r}\u001b[39;00m\u001b[38;5;124m is a DataArray dimension, but \u001b[39m\u001b[38;5;124m\"\u001b[39m\n\u001b[1;32m    172\u001b[0m         \u001b[38;5;124mf\u001b[39m\u001b[38;5;124m\"\u001b[39m\u001b[38;5;124mit has shape \u001b[39m\u001b[38;5;132;01m{\u001b[39;00mv\u001b[38;5;241m.\u001b[39mshape\u001b[38;5;132;01m!r}\u001b[39;00m\u001b[38;5;124m rather than expected shape \u001b[39m\u001b[38;5;132;01m{\u001b[39;00msizes[k]\u001b[38;5;132;01m!r}\u001b[39;00m\u001b[38;5;124m \u001b[39m\u001b[38;5;124m\"\u001b[39m\n\u001b[1;32m    173\u001b[0m         \u001b[38;5;124m\"\u001b[39m\u001b[38;5;124mmatching the dimension size\u001b[39m\u001b[38;5;124m\"\u001b[39m\n\u001b[1;32m    174\u001b[0m     )\n",
      "\u001b[0;31mValueError\u001b[0m: conflicting sizes for dimension 'observation': length 5 on the data but length 1 on coordinate 'observation'"
     ]
    }
   ],
   "source": [
    "prior_trace = az.from_dict(\n",
    "    observed_data={\"observations\": observations[0]},\n",
    "    prior_predictive={\"observations\": prior_predictive[tf.newaxis, ...]},\n",
    "    coords={\"observation\": np.arange(1)},\n",
    "    dims={\"observations\": [\"observation\"]},\n",
    ")\n",
    "print(prior_trace.prior_predictive)"
   ]
  },
  {
   "cell_type": "code",
   "execution_count": 112,
   "id": "5e414056-23f7-4409-9099-82b6e31ba836",
   "metadata": {},
   "outputs": [
    {
     "name": "stderr",
     "output_type": "stream",
     "text": [
      "/home/gc1610/projects/eqio/env/lib/python3.10/site-packages/arviz/stats/density_utils.py:487: UserWarning: Your data appears to have a single value or no finite values\n",
      "  warnings.warn(\"Your data appears to have a single value or no finite values\")\n"
     ]
    },
    {
     "data": {
      "image/png": "[encoded data removed]",
      "text/plain": [
       "<Figure size 640x480 with 1 Axes>"
      ]
     },
     "metadata": {},
     "output_type": "display_data"
    }
   ],
   "source": [
    "ax = az.plot_ppc(prior_trace, group=\"prior\", num_pp_samples=500)"
   ]
  },
  {
   "cell_type": "code",
   "execution_count": null,
   "id": "252fd507-7dbd-4823-9c75-e10d1e20bbaa",
   "metadata": {},
   "outputs": [],
   "source": [
    "#raise Error()\n",
    "cols = 4\n",
    "rows = (len(prior) // cols + 1)\n",
    "prior_keys = list(prior.keys())\n",
    "plt.tight_layout()\n",
    "fig, axes = plt.subplots(rows, cols, figsize=(cols * rows + 5, 5))\n",
    "for c in range(cols):\n",
    "    for r in range(rows):\n",
    "        if cols * r + c < len(prior_keys):\n",
    "            ax = axes[r][c]\n",
    "            k = prior_keys[cols * r + c]\n",
    "            ax.hist(prior[k].numpy().flatten(), bins=100)\n",
    "            if k in bounds_dict.keys():\n",
    "                ax.vlines(bounds_dict[k], 0, ax.get_ylim()[1], color='orange')\n",
    "            if k in default_dict.keys():\n",
    "                ax.vlines(default_dict[k], 0, ax.get_ylim()[1], color='green')\n",
    "            elif k == 'eir':\n",
    "                ax.vlines(EIR_sample, 0, ax.get_ylim()[1], color='orange')\n",
    "            elif k == 'prev':\n",
    "                ax.vlines(prev_sample * pop_sample, 0, ax.get_ylim()[1], color='orange')\n",
    "            ax.set_title(k)\n",
    "        else:\n",
    "            fig.delaxes(axes[r][c])"
   ]
  },
  {
   "cell_type": "code",
   "execution_count": 151,
   "id": "1fbd6922-81e4-403c-b4f1-a9924e98f90c",
   "metadata": {},
   "outputs": [
    {
     "data": {
      "text/plain": [
       "<tf.Tensor: shape=(), dtype=float32, numpy=-17.096436>"
      ]
     },
     "execution_count": 151,
     "metadata": {},
     "output_type": "execute_result"
    }
   ],
   "source": [
    "log_prob(*initial_state)"
   ]
  },
  {
   "cell_type": "code",
   "execution_count": 181,
   "id": "d1998f5a-fbd5-4aac-8491-bb00ded0dab0",
   "metadata": {},
   "outputs": [
    {
     "data": {
      "text/plain": [
       "[<tf.Tensor: shape=(10,), dtype=float32, numpy=\n",
       " array([6.0034566, 1.527858 , 2.225566 , 6.640756 , 1.6261125, 1.2443883,\n",
       "        4.6340046, 4.22404  , 2.534739 , 3.8214633], dtype=float32)>,\n",
       " <tf.Tensor: shape=(10,), dtype=float32, numpy=\n",
       " array([ 0.90787923,  1.3492109 , 20.42423   ,  2.4662066 ,  3.6480134 ,\n",
       "         2.947032  ,  1.0223855 ,  2.534997  ,  2.1545763 ,  6.1564636 ],\n",
       "       dtype=float32)>,\n",
       " <tf.Tensor: shape=(10,), dtype=float32, numpy=\n",
       " array([0.65245384, 0.9321608 , 0.86194646, 0.85794175, 0.8977487 ,\n",
       "        0.95067304, 0.745322  , 0.97456396, 0.83549225, 0.9654285 ],\n",
       "       dtype=float32)>,\n",
       " <tf.Tensor: shape=(10,), dtype=float32, numpy=\n",
       " array([0.17823161, 0.11703215, 0.16113652, 0.02999024, 0.05352183,\n",
       "        0.02116787, 0.16164465, 0.03285222, 0.33298093, 0.08568339],\n",
       "       dtype=float32)>,\n",
       " <tf.Tensor: shape=(10,), dtype=float32, numpy=\n",
       " array([31.804573, 68.303795, 47.47288 , 81.08533 , 65.594055, 28.388256,\n",
       "        50.1617  , 16.71387 , 28.35285 , 61.017075], dtype=float32)>,\n",
       " <tf.Tensor: shape=(10,), dtype=float32, numpy=\n",
       " array([22.173626, 21.658676, 22.20622 , 21.131565, 20.406342, 21.039358,\n",
       "        22.008303, 21.30921 , 20.86721 , 22.24519 ], dtype=float32)>]"
      ]
     },
     "execution_count": 181,
     "metadata": {},
     "output_type": "execute_result"
    }
   ],
   "source": [
    "initial_state"
   ]
  },
  {
   "cell_type": "code",
   "execution_count": 153,
   "id": "9cf6bee7-b6b2-43b4-a423-3e8197308e9b",
   "metadata": {},
   "outputs": [
    {
     "data": {
      "text/plain": [
       "(<tfp.bijectors.Softplus 'softplus' batch_shape=[] forward_min_event_ndims=0 inverse_min_event_ndims=0 dtype_x=? dtype_y=?>,\n",
       " <tfp.bijectors.Exp 'exp' batch_shape=[] forward_min_event_ndims=0 inverse_min_event_ndims=0 dtype_x=? dtype_y=?>,\n",
       " <tfp.bijectors.Sigmoid 'sigmoid' batch_shape=[] forward_min_event_ndims=0 inverse_min_event_ndims=0 dtype_x=? dtype_y=?>,\n",
       " <tfp.bijectors.Sigmoid 'sigmoid' batch_shape=[] forward_min_event_ndims=0 inverse_min_event_ndims=0 dtype_x=? dtype_y=?>,\n",
       " <tfp.bijectors.Softplus 'softplus' batch_shape=[] forward_min_event_ndims=0 inverse_min_event_ndims=0 dtype_x=? dtype_y=?>,\n",
       " <tfp.bijectors.Sigmoid 'sigmoid' batch_shape=[] forward_min_event_ndims=0 inverse_min_event_ndims=0 dtype_x=? dtype_y=?>)"
      ]
     },
     "execution_count": 153,
     "metadata": {},
     "output_type": "execute_result"
    }
   ],
   "source": [
    "pinned_joint_dist.experimental_default_event_space_bijector().bijectors"
   ]
  },
  {
   "cell_type": "code",
   "execution_count": 218,
   "id": "fbc89259-192a-4ccd-aa72-448a0d53c16e",
   "metadata": {},
   "outputs": [
    {
     "name": "stdout",
     "output_type": "stream",
     "text": [
      "(1,)\n",
      "(1,)\n",
      "()\n"
     ]
    },
    {
     "data": {
      "text/plain": [
       "(OrderedDict([('kb',\n",
       "               <tfp.distributions.Gamma 'Gamma' batch_shape=[] event_shape=[] dtype=float32>),\n",
       "              ('ub',\n",
       "               <tfp.distributions.LogNormal 'LogNormal' batch_shape=[] event_shape=[] dtype=float32>),\n",
       "              ('b0',\n",
       "               <tfp.distributions.Beta 'Beta' batch_shape=[] event_shape=[] dtype=float32>),\n",
       "              ('b1',\n",
       "               <tfp.distributions.Beta 'Beta' batch_shape=[] event_shape=[] dtype=float32>),\n",
       "              ('IB0',\n",
       "               <tfp.distributions.Gamma 'Gamma' batch_shape=[] event_shape=[] dtype=float32>),\n",
       "              ('EIR',\n",
       "               <tfp.distributions.TruncatedNormal 'TruncatedNormal' batch_shape=[] event_shape=[] dtype=float32>),\n",
       "              ('prev',\n",
       "               <tfp.distributions.Independent 'IndependentBinomial_1' batch_shape=[] event_shape=[1] dtype=float32>)]),\n",
       " OrderedDict([('kb', <tf.Tensor: shape=(), dtype=float32, numpy=2.3918333>),\n",
       "              ('ub', <tf.Tensor: shape=(), dtype=float32, numpy=11.701151>),\n",
       "              ('b0', <tf.Tensor: shape=(), dtype=float32, numpy=0.92382866>),\n",
       "              ('b1', <tf.Tensor: shape=(), dtype=float32, numpy=0.023865642>),\n",
       "              ('IB0', <tf.Tensor: shape=(), dtype=float32, numpy=27.67207>),\n",
       "              ('EIR', <tf.Tensor: shape=(), dtype=float32, numpy=22.143492>),\n",
       "              ('prev',\n",
       "               <tf.Tensor: shape=(1,), dtype=float32, numpy=array([522.], dtype=float32)>)]))"
      ]
     },
     "execution_count": 218,
     "metadata": {},
     "output_type": "execute_result"
    }
   ],
   "source": [
    "joint_dist.sample_distributions()#['prev'].log_prob(observed_prev)"
   ]
  },
  {
   "cell_type": "code",
   "execution_count": 220,
   "id": "3a816faa-0807-4913-bc9b-43c97c2e3d07",
   "metadata": {},
   "outputs": [
    {
     "data": {
      "text/plain": [
       "<tf.Tensor: shape=(10,), dtype=float32, numpy=\n",
       "array([-231.9674 , -229.18657, -233.9213 , -230.5714 , -229.5496 ,\n",
       "       -228.62581, -230.2847 , -228.70924, -230.57799, -230.19783],\n",
       "      dtype=float32)>"
      ]
     },
     "execution_count": 220,
     "metadata": {},
     "output_type": "execute_result"
    }
   ],
   "source": [
    "joint_dist.log_prob(*initial_state, observed_prev)"
   ]
  },
  {
   "cell_type": "code",
   "execution_count": 174,
   "id": "05e6dcc0-fbf2-4a00-990e-02ad721eeba6",
   "metadata": {},
   "outputs": [
    {
     "data": {
      "text/plain": [
       "<tf.Tensor: shape=(1, 1), dtype=float32, numpy=array([[629.97546]], dtype=float32)>"
      ]
     },
     "execution_count": 174,
     "metadata": {},
     "output_type": "execute_result"
    }
   ],
   "source": [
    "observed_prev"
   ]
  },
  {
   "cell_type": "code",
   "execution_count": 156,
   "id": "58b45fb0-0a28-4741-a102-271fa385e202",
   "metadata": {},
   "outputs": [
    {
     "data": {
      "text/plain": [
       "<tfp.distributions.Independent 'IndependentBinomial_1' batch_shape=[] event_shape=[1] dtype=float32>"
      ]
     },
     "execution_count": 156,
     "metadata": {},
     "output_type": "execute_result"
    }
   ],
   "source": [
    "prob_prev(*initial_state)"
   ]
  },
  {
   "cell_type": "code",
   "execution_count": 144,
   "id": "d6b58651-54e9-4ef6-9d35-5f4a81270633",
   "metadata": {},
   "outputs": [
    {
     "data": {
      "text/plain": [
       "<tf.Tensor: shape=(10,), dtype=float32, numpy=\n",
       "array([0.58377945, 0.51936364, 0.6073819 , 0.56684035, 0.5699595 ,\n",
       "       0.57048476, 0.5017153 , 0.5693561 , 0.59679306, 0.5773019 ],\n",
       "      dtype=float32)>"
      ]
     },
     "execution_count": 144,
     "metadata": {},
     "output_type": "execute_result"
    }
   ],
   "source": [
    "model_prev(*initial_state)"
   ]
  },
  {
   "cell_type": "code",
   "execution_count": 219,
   "id": "39de8fda-a24b-4f46-9b91-24127d125706",
   "metadata": {},
   "outputs": [
    {
     "data": {
      "text/plain": [
       "OrderedDict([('kb',\n",
       "              <tf.Tensor: shape=(10,), dtype=float32, numpy=\n",
       "              array([6.0034566, 1.527858 , 2.225566 , 6.640756 , 1.6261125, 1.2443883,\n",
       "                     4.6340046, 4.22404  , 2.534739 , 3.8214633], dtype=float32)>),\n",
       "             ('ub',\n",
       "              <tf.Tensor: shape=(10,), dtype=float32, numpy=\n",
       "              array([ 0.90787923,  1.3492109 , 20.42423   ,  2.4662066 ,  3.6480134 ,\n",
       "                      2.947032  ,  1.0223855 ,  2.534997  ,  2.1545763 ,  6.1564636 ],\n",
       "                    dtype=float32)>),\n",
       "             ('b0',\n",
       "              <tf.Tensor: shape=(10,), dtype=float32, numpy=\n",
       "              array([0.65245384, 0.9321608 , 0.86194646, 0.85794175, 0.8977487 ,\n",
       "                     0.95067304, 0.745322  , 0.97456396, 0.83549225, 0.9654285 ],\n",
       "                    dtype=float32)>),\n",
       "             ('b1',\n",
       "              <tf.Tensor: shape=(10,), dtype=float32, numpy=\n",
       "              array([0.17823161, 0.11703215, 0.16113652, 0.02999024, 0.05352183,\n",
       "                     0.02116787, 0.16164465, 0.03285222, 0.33298093, 0.08568339],\n",
       "                    dtype=float32)>),\n",
       "             ('IB0',\n",
       "              <tf.Tensor: shape=(10,), dtype=float32, numpy=\n",
       "              array([31.804573, 68.303795, 47.47288 , 81.08533 , 65.594055, 28.388256,\n",
       "                     50.1617  , 16.71387 , 28.35285 , 61.017075], dtype=float32)>),\n",
       "             ('EIR',\n",
       "              <tf.Tensor: shape=(10,), dtype=float32, numpy=\n",
       "              array([22.173626, 21.658676, 22.20622 , 21.131565, 20.406342, 21.039358,\n",
       "                     22.008303, 21.30921 , 20.86721 , 22.24519 ], dtype=float32)>),\n",
       "             ('prev',\n",
       "              <tf.Tensor: shape=(10,), dtype=float32, numpy=\n",
       "              array([523., 583., 591., 596., 566., 535., 565., 414., 580., 600.],\n",
       "                    dtype=float32)>)])"
      ]
     },
     "execution_count": 219,
     "metadata": {},
     "output_type": "execute_result"
    }
   ],
   "source": [
    "joint_dist.sample(value=dict(zip(parameter_names, initial_state)))"
   ]
  },
  {
   "cell_type": "code",
   "execution_count": 222,
   "id": "5e59a0f2-3ac5-4fc5-9b6b-18d89a0778fb",
   "metadata": {},
   "outputs": [],
   "source": [
    "%%time\n",
    "\n",
    "# Initialize the HMC transition kernel.\n",
    "tf.config.experimental.enable_tensor_float_32_execution(False)\n",
    "num_results = 100 #int(1e3)\n",
    "num_burnin_steps = 100 #int(1e3)\n",
    "\n",
    "num_chains = 10\n",
    "\n",
    "observed_prev = tf.constant(observations[0], shape=(1, 1), dtype=tf.float32)\n",
    "pinned_joint_dist = joint_dist.experimental_pin(prev = observed_prev)\n",
    "initial_state_dict = pinned_joint_dist.sample_unpinned(num_chains)\n",
    "initial_state = list(initial_state_dict.values())\n",
    "\n",
    "initial_step_size = [\n",
    "    tf.constant(1e-3, shape=[num_chains] + [1] * (len(x.shape) - 1))\n",
    "    for x in initial_state\n",
    "]\n",
    "\n",
    "def log_prob(*state):\n",
    "    return pinned_joint_dist.unnormalized_log_prob(state)\n",
    "\n",
    "mcmc = tfp.mcmc.TransformedTransitionKernel(\n",
    "    tfp.mcmc.SimpleStepSizeAdaptation(\n",
    "        inner_kernel = tfp.mcmc.HamiltonianMonteCarlo(\n",
    "            target_log_prob_fn=log_prob,\n",
    "            num_leapfrog_steps=50,\n",
    "            step_size=initial_step_size\n",
    "        ),\n",
    "        num_adaptation_steps=int(num_burnin_steps * 0.8)\n",
    "    ),\n",
    "    pinned_joint_dist.experimental_default_event_space_bijector().bijectors\n",
    ")\n",
    "\n",
    "def run_chain():\n",
    "    return tfp.mcmc.sample_chain(\n",
    "      num_results=num_results,\n",
    "      num_burnin_steps=num_burnin_steps,\n",
    "      current_state=initial_state,\n",
    "      parallel_iterations=num_chains,\n",
    "      kernel=mcmc,\n",
    "      trace_fn=lambda _, pkr: pkr.inner_results.inner_results.is_accepted\n",
    "    )\n",
    "\n",
    "samples, acceptance = run_chain()"
   ]
  },
  {
   "cell_type": "code",
   "execution_count": 223,
   "id": "831f23cd-5186-4059-8e75-74b8fb77ccfc",
   "metadata": {},
   "outputs": [
    {
     "data": {
      "text/plain": [
       "0.0"
      ]
     },
     "execution_count": 223,
     "metadata": {},
     "output_type": "execute_result"
    }
   ],
   "source": [
    "acceptance.numpy().mean()"
   ]
  },
  {
   "cell_type": "code",
   "execution_count": 224,
   "id": "44df2f92-57cf-4285-8d91-27bf787a2beb",
   "metadata": {},
   "outputs": [],
   "source": [
    "parameter_names = pinned_joint_dist._flat_resolve_names()"
   ]
  },
  {
   "cell_type": "code",
   "execution_count": 231,
   "id": "0d8463a0-2d97-4937-88b0-6cbc4349867d",
   "metadata": {},
   "outputs": [],
   "source": [
    "posterior_predictive = tf.concat([\n",
    "    list(joint_dist.sample(value=dict(zip(parameter_names, [s[:,chain,...] for s in samples]))).values())[-1][tf.newaxis, ..., tf.newaxis]\n",
    "    for chain in range(num_chains)\n",
    "], 0)"
   ]
  },
  {
   "cell_type": "code",
   "execution_count": 233,
   "id": "c4af9c20-0b3e-4bbc-9658-a88f83924bf0",
   "metadata": {},
   "outputs": [
    {
     "name": "stdout",
     "output_type": "stream",
     "text": [
      "Inference data with groups:\n",
      "\t> posterior\n",
      "\t> posterior_predictive\n",
      "\t> prior\n",
      "\t> prior_predictive\n",
      "\t> observed_data\n"
     ]
    }
   ],
   "source": [
    "trace = az.from_dict(\n",
    "    prior={k: v[tf.newaxis, ...] for k, v in zip(parameter_names, prior_samples)},\n",
    "    posterior={\n",
    "        k: np.swapaxes(v, 0, 1) for k, v in zip(parameter_names, samples)\n",
    "    },\n",
    "    prior_predictive={\"observations\": prior_predictive[tf.newaxis, ...]},\n",
    "    posterior_predictive={\"observations\": posterior_predictive},\n",
    "    coords={\"observation\": np.arange(1), \"param\": np.arange(len(parameter_names))},\n",
    "    observed_data={\"observations\": observations[0]},\n",
    "    dims={\"observations\": [\"observation\"], \"coefficients\": [\"param\"]},\n",
    ")\n",
    "\n",
    "print(trace)"
   ]
  },
  {
   "cell_type": "code",
   "execution_count": 234,
   "id": "7a2d39b1-7529-4a6b-84ef-29855ca7555a",
   "metadata": {},
   "outputs": [
    {
     "name": "stdout",
     "output_type": "stream",
     "text": [
      "       mean  hdi_3%  hdi_97%         r_hat\n",
      "kb    2.795   1.058    5.105  6.370274e+15\n",
      "ub    2.667   0.558    9.219  8.279665e+15\n",
      "b0    0.810   0.606    0.992  6.370274e+15\n",
      "b1    0.109   0.009    0.259  6.370274e+15\n",
      "IB0  46.376  22.719   69.870  6.370274e+15\n",
      "EIR  24.742  20.616   27.484  6.370274e+15\n"
     ]
    }
   ],
   "source": [
    "print(az.summary(trace).filter(items=[\"mean\", \"hdi_3%\", \"hdi_97%\", \"ess_mean\", \"r_hat\"]))"
   ]
  },
  {
   "cell_type": "code",
   "execution_count": 235,
   "id": "db4af11b-85d0-404f-8a50-d8c8166e6e0c",
   "metadata": {},
   "outputs": [
    {
     "name": "stderr",
     "output_type": "stream",
     "text": [
      "/home/gc1610/projects/eqio/env/lib/python3.10/site-packages/arviz/stats/density_utils.py:487: UserWarning: Your data appears to have a single value or no finite values\n",
      "  warnings.warn(\"Your data appears to have a single value or no finite values\")\n"
     ]
    },
    {
     "data": {
      "image/png": "[encoded data removed]",
      "text/plain": [
       "<Figure size 640x480 with 1 Axes>"
      ]
     },
     "metadata": {},
     "output_type": "display_data"
    }
   ],
   "source": [
    "ax = az.plot_ppc(trace, group=\"posterior\", num_pp_samples=500)"
   ]
  },
  {
   "cell_type": "code",
   "execution_count": 241,
   "id": "4ce2a067-f156-47ce-a757-56d56da494df",
   "metadata": {},
   "outputs": [
    {
     "data": {
      "text/plain": [
       "['kb', 'ub', 'b0', 'b1', 'IB0', 'EIR']"
      ]
     },
     "execution_count": 241,
     "metadata": {},
     "output_type": "execute_result"
    }
   ],
   "source": [
    "parameter_names"
   ]
  },
  {
   "cell_type": "code",
   "execution_count": 246,
   "id": "5041d5a6-5472-472d-ab87-e690e9f34e1f",
   "metadata": {},
   "outputs": [
    {
     "data": {
      "text/plain": [
       "[('kb',\n",
       "  <tf.Tensor: shape=(), dtype=float32, numpy=5.7408967>,\n",
       "  <tf.Tensor: shape=(10,), dtype=float32, numpy=\n",
       "  array([1.0584987, 3.2440286, 1.7579482, 1.7050233, 2.8352141, 4.557296 ,\n",
       "         3.053308 , 2.9152944, 5.104883 , 1.7152678], dtype=float32)>),\n",
       " ('ub',\n",
       "  <tf.Tensor: shape=(), dtype=float32, numpy=3.4558659>,\n",
       "  <tf.Tensor: shape=(10,), dtype=float32, numpy=\n",
       "  array([1.6182425, 1.1977469, 2.1457686, 1.3075433, 2.5109022, 9.218931 ,\n",
       "         4.372541 , 1.9168154, 0.5581054, 1.821997 ], dtype=float32)>),\n",
       " ('b0',\n",
       "  <tf.Tensor: shape=(), dtype=float32, numpy=0.92058265>,\n",
       "  <tf.Tensor: shape=(10,), dtype=float32, numpy=\n",
       "  array([0.90367633, 0.8074016 , 0.9876364 , 0.60787666, 0.75683224,\n",
       "         0.99164385, 0.8057847 , 0.96953446, 0.6063369 , 0.6667123 ],\n",
       "        dtype=float32)>),\n",
       " ('b1',\n",
       "  <tf.Tensor: shape=(), dtype=float32, numpy=0.044932567>,\n",
       "  <tf.Tensor: shape=(10,), dtype=float32, numpy=\n",
       "  array([0.09889337, 0.2572157 , 0.00917674, 0.02586895, 0.11893581,\n",
       "         0.25912118, 0.06817243, 0.09516143, 0.04629467, 0.10928329],\n",
       "        dtype=float32)>),\n",
       " ('IB0',\n",
       "  <tf.Tensor: shape=(), dtype=float32, numpy=70.26637>,\n",
       "  <tf.Tensor: shape=(10,), dtype=float32, numpy=\n",
       "  array([69.87046 , 54.60536 , 34.577217, 22.718603, 34.653023, 40.41108 ,\n",
       "         66.151474, 45.649944, 42.20523 , 52.915203], dtype=float32)>),\n",
       " ('EIR',\n",
       "  21.0,\n",
       "  <tf.Tensor: shape=(10,), dtype=float32, numpy=\n",
       "  array([24.816359, 24.58181 , 25.0864  , 20.61552 , 27.156517, 23.387154,\n",
       "         24.966286, 25.603544, 23.719038, 27.483883], dtype=float32)>)]"
      ]
     },
     "execution_count": 246,
     "metadata": {},
     "output_type": "execute_result"
    }
   ],
   "source": [
    "list(zip(parameter_names, (kb[0], ub[0], b0[0], b1[0], IB0[0], EIR), [s[0] for s in samples]))"
   ]
  },
  {
   "cell_type": "code",
   "execution_count": 243,
   "id": "06e9cda5-8a26-4256-83a6-6bd647b37871",
   "metadata": {},
   "outputs": [
    {
     "data": {
      "text/plain": [
       "[<tf.Tensor: shape=(10,), dtype=float32, numpy=\n",
       " array([1.0584987, 3.2440286, 1.7579482, 1.7050233, 2.8352141, 4.557296 ,\n",
       "        3.053308 , 2.9152944, 5.104883 , 1.7152678], dtype=float32)>,\n",
       " <tf.Tensor: shape=(10,), dtype=float32, numpy=\n",
       " array([1.6182425, 1.1977469, 2.1457686, 1.3075433, 2.5109022, 9.218931 ,\n",
       "        4.372541 , 1.9168154, 0.5581054, 1.821997 ], dtype=float32)>,\n",
       " <tf.Tensor: shape=(10,), dtype=float32, numpy=\n",
       " array([0.90367633, 0.8074016 , 0.9876364 , 0.60787666, 0.75683224,\n",
       "        0.99164385, 0.8057847 , 0.96953446, 0.6063369 , 0.6667123 ],\n",
       "       dtype=float32)>,\n",
       " <tf.Tensor: shape=(10,), dtype=float32, numpy=\n",
       " array([0.09889337, 0.2572157 , 0.00917674, 0.02586895, 0.11893581,\n",
       "        0.25912118, 0.06817243, 0.09516143, 0.04629467, 0.10928329],\n",
       "       dtype=float32)>,\n",
       " <tf.Tensor: shape=(10,), dtype=float32, numpy=\n",
       " array([69.87046 , 54.60536 , 34.577217, 22.718603, 34.653023, 40.41108 ,\n",
       "        66.151474, 45.649944, 42.20523 , 52.915203], dtype=float32)>,\n",
       " <tf.Tensor: shape=(10,), dtype=float32, numpy=\n",
       " array([24.816359, 24.58181 , 25.0864  , 20.61552 , 27.156517, 23.387154,\n",
       "        24.966286, 25.603544, 23.719038, 27.483883], dtype=float32)>]"
      ]
     },
     "execution_count": 243,
     "metadata": {},
     "output_type": "execute_result"
    }
   ],
   "source": [
    "[s[0] for s in samples]"
   ]
  },
  {
   "cell_type": "code",
   "execution_count": 236,
   "id": "d39a5003-6576-453b-b4d7-bb271915e9e5",
   "metadata": {},
   "outputs": [
    {
     "data": {
      "image/png": "[encoded data removed]",
      "text/plain": [
       "<Figure size 600x1300 with 1 Axes>"
      ]
     },
     "metadata": {},
     "output_type": "display_data"
    }
   ],
   "source": [
    "axs = az.plot_forest(trace, var_names=['kb', 'ub', 'b0', 'b1', 'IB0'])"
   ]
  },
  {
   "cell_type": "code",
   "execution_count": 237,
   "id": "85497d11-bb75-4956-b301-7bfabc63cda1",
   "metadata": {},
   "outputs": [
    {
     "name": "stderr",
     "output_type": "stream",
     "text": [
      "/home/gc1610/projects/eqio/env/lib/python3.10/site-packages/arviz/stats/density_utils.py:487: UserWarning: Your data appears to have a single value or no finite values\n",
      "  warnings.warn(\"Your data appears to have a single value or no finite values\")\n",
      "/home/gc1610/projects/eqio/env/lib/python3.10/site-packages/arviz/stats/density_utils.py:487: UserWarning: Your data appears to have a single value or no finite values\n",
      "  warnings.warn(\"Your data appears to have a single value or no finite values\")\n",
      "/home/gc1610/projects/eqio/env/lib/python3.10/site-packages/arviz/stats/density_utils.py:487: UserWarning: Your data appears to have a single value or no finite values\n",
      "  warnings.warn(\"Your data appears to have a single value or no finite values\")\n",
      "/home/gc1610/projects/eqio/env/lib/python3.10/site-packages/arviz/stats/density_utils.py:487: UserWarning: Your data appears to have a single value or no finite values\n",
      "  warnings.warn(\"Your data appears to have a single value or no finite values\")\n",
      "/home/gc1610/projects/eqio/env/lib/python3.10/site-packages/arviz/stats/density_utils.py:487: UserWarning: Your data appears to have a single value or no finite values\n",
      "  warnings.warn(\"Your data appears to have a single value or no finite values\")\n"
     ]
    },
    {
     "data": {
      "image/png": "[encoded data removed]",
      "text/plain": [
       "<Figure size 1200x1000 with 10 Axes>"
      ]
     },
     "metadata": {},
     "output_type": "display_data"
    }
   ],
   "source": [
    "axs = az.plot_trace(trace, var_names=['kb', 'ub', 'b0', 'b1', 'IB0'])"
   ]
  },
  {
   "cell_type": "code",
   "execution_count": null,
   "id": "3277a521-7edd-4e0e-b15f-cdd40c3699f5",
   "metadata": {},
   "outputs": [],
   "source": [
    "posterior = dict(zip(initial_state_dict.keys(), samples))"
   ]
  },
  {
   "cell_type": "code",
   "execution_count": null,
   "id": "3b292838-8622-4e4a-bfd9-1c961e96ba37",
   "metadata": {},
   "outputs": [],
   "source": [
    "cols = 4\n",
    "rows = (len(posterior) // cols + 1)\n",
    "posterior_keys = list(posterior.keys())\n",
    "bounds_dict = { n: (l, u) for n, l, u in bounds.itertuples(index=False) }\n",
    "plt.tight_layout()\n",
    "fig, axes = plt.subplots(rows, cols, figsize=(cols * rows + 5, 5))\n",
    "for c in range(cols):\n",
    "    for r in range(rows):\n",
    "        if cols * r + c < len(posterior_keys):\n",
    "            ax = axes[r][c]\n",
    "            k = posterior_keys[cols * r + c]\n",
    "            ax.hist(posterior[k].numpy().flatten(), bins=100)\n",
    "            if k in bounds_dict.keys():\n",
    "                ax.vlines(bounds_dict[k], 0, ax.get_ylim()[1], color='orange')\n",
    "            elif k == 'eir':\n",
    "                ax.vlines(EIR_sample, 0, ax.get_ylim()[1], color='orange')\n",
    "            if k in default_dict.keys():\n",
    "                ax.vlines(default_dict[k], 0, ax.get_ylim()[1], color='green')\n",
    "            ax.set_title(k)\n",
    "        else:\n",
    "            fig.delaxes(axes[r][c])"
   ]
  },
  {
   "cell_type": "code",
   "execution_count": null,
   "id": "c8f03ba2-817a-44e7-b32f-c9feb8ac4e15",
   "metadata": {},
   "outputs": [],
   "source": [
    "variable = 0\n",
    "cols = 4\n",
    "rows = (num_chains // cols + 1)\n",
    "plt.tight_layout()\n",
    "fig, axes = plt.subplots(rows, cols, figsize=(cols * rows + 15, 15))\n",
    "for c in range(cols):\n",
    "    for r in range(rows):\n",
    "        if len(axes.shape) == 1:\n",
    "            ax = axes[c]\n",
    "        else:\n",
    "            ax = axes[r][c]\n",
    "        i = cols * r + c\n",
    "        if i < num_chains:\n",
    "            ax.plot(samples[variable][:, i:i + 1], color='red')\n",
    "        else:\n",
    "            fig.delaxes(ax)"
   ]
  },
  {
   "cell_type": "code",
   "execution_count": null,
   "id": "b57652da-2a3b-4546-89d7-0bd6384f56bf",
   "metadata": {},
   "outputs": [],
   "source": [
    "plt.hist(tfp.mcmc.potential_scale_reduction(samples), bins=20)"
   ]
  },
  {
   "cell_type": "code",
   "execution_count": null,
   "id": "6e1ab307-6464-419d-9da4-d38335be608c",
   "metadata": {},
   "outputs": [],
   "source": [
    "tfp.mcmc.potential_scale_reduction(samples)"
   ]
  },
  {
   "cell_type": "code",
   "execution_count": null,
   "id": "26bb74b5-1685-4770-9b73-46be6c7a3bc5",
   "metadata": {},
   "outputs": [],
   "source": [
    "def single_prev(params, eir):\n",
    "    states = eq.human_equilibrium(eir, ft = 0., p=params, age=ages)\n",
    "    return sum(states.rx2['states'].rx(ro.IntVector(range(4,11)),'pos_M')) / sum(states.rx2['states'].rx(ro.IntVector(range(4,11)),'prop'))\n",
    "\n",
    "def model_prev_r(kb, ub, b0, b1, IB0, eir):\n",
    "    params = [kb, ub, b0, b1, IB0, eir]\n",
    "    if len(kb.shape) == 0:\n",
    "        return 0\n",
    "        params = [tf.expand_dims(p, axis=0) for p in params]\n",
    "        eir = tf.expand_dims(eir, axis=0)\n",
    "    batch_size = params[0].shape[0]\n",
    "    sites = eir.shape[1]\n",
    "    prev = np.zeros((batch_size, sites), dtype=np.float32)\n",
    "    for b in range(batch_size):\n",
    "        for n, p in zip(['kb', 'ub', 'b0', 'b1', 'IB0'], params):\n",
    "            batch_params = copy.deepcopy(r_default_params)\n",
    "            batch_params.rx2[n] = ro.FloatVector([p[b].numpy()])\n",
    "        for e_i, e in enumerate(eir[b, :]):\n",
    "            prev[b, e_i] = single_prev(batch_params, ro.FloatVector([e.numpy()]))\n",
    "    return prev\n",
    "\n",
    "def prob_prev_r(kb, ub, b0, b1, IB0, eir):\n",
    "    prev_pred = model_prev_r(kb, ub, b0, b1, IB0, eir)\n",
    "    return tfd.Independent(\n",
    "        tfd.Binomial(total_count=pop_sample_tf[tf.newaxis, :], probs=prev_pred),\n",
    "        reinterpreted_batch_ndims=1\n",
    "    )"
   ]
  },
  {
   "cell_type": "code",
   "execution_count": null,
   "id": "bb2938e3-882f-4287-9082-08bd69a82c40",
   "metadata": {},
   "outputs": [],
   "source": [
    "EIR[]"
   ]
  },
  {
   "cell_type": "code",
   "execution_count": null,
   "id": "07ce83ab-b5f5-4b58-8b5a-0b73fc085ee5",
   "metadata": {},
   "outputs": [],
   "source": [
    "p = model_prev_r(kb, ub, b0, b1, IB0, EIR)"
   ]
  },
  {
   "cell_type": "code",
   "execution_count": null,
   "id": "37e769f5-84a7-43c6-8a49-4407c0f8f009",
   "metadata": {},
   "outputs": [],
   "source": [
    "p"
   ]
  },
  {
   "cell_type": "code",
   "execution_count": null,
   "id": "61109640-8cce-42f2-9908-baf17dbc1716",
   "metadata": {},
   "outputs": [],
   "source": [
    "ub"
   ]
  },
  {
   "cell_type": "code",
   "execution_count": null,
   "id": "36404922-bbd5-40ca-a8fe-c669d7eece5e",
   "metadata": {},
   "outputs": [],
   "source": [
    "joint_dist_r = tfp.distributions.JointDistributionNamed(\n",
    "    OrderedDict(\n",
    "        kb = tfd.Gamma(4., 1., validate_args=True),\n",
    "        ub = tfd.LogNormal(1., 1., validate_args=True),\n",
    "        b0 = tfd.Beta(7., 1., validate_args=True),\n",
    "        b1 = tfd.Beta(1., 7., validate_args=True),\n",
    "        IB0 = tfd.Gamma(5., .1, validate_args=True),\n",
    "        EIR = tfd.Independent(tfd.TruncatedNormal(loc=EIR_guesses, scale=np.full(sample_size, EIR_sigma, dtype=np.float32), low=0, high=100), reinterpreted_batch_ndims=1),\n",
    "        prev = lambda kb, ub, b0, b1, IB0, EIR : prob_prev_r(kb, ub, b0, b1, IB0, EIR)\n",
    "    )\n",
    ")"
   ]
  },
  {
   "cell_type": "code",
   "execution_count": null,
   "id": "c93ee8e8-8eea-4919-91e6-cf47d20e18cc",
   "metadata": {},
   "outputs": [],
   "source": [
    "*prior_samples, prior_predictive = joint_dist_r.sample(1000).values()"
   ]
  },
  {
   "cell_type": "code",
   "execution_count": null,
   "id": "92eaf924-52de-471e-ad7b-23c0ee19ac1b",
   "metadata": {},
   "outputs": [],
   "source": [
    "prior_trace_r = az.from_dict(\n",
    "    observed_data={\"observations\": pop_sample * prev_sample},\n",
    "    prior_predictive={\"observations\": prior_predictive[tf.newaxis, ...]},\n",
    "    coords={\"observation\": np.arange(sample_size)},\n",
    "    dims={\"observations\": [\"observation\"]},\n",
    ")\n",
    "print(prior_trace.prior_predictive)"
   ]
  },
  {
   "cell_type": "code",
   "execution_count": null,
   "id": "c363f1ba-746c-439d-9017-384168b86fac",
   "metadata": {},
   "outputs": [],
   "source": [
    "ax = az.plot_ppc(prior_trace_r, group=\"prior\", num_pp_samples=500)"
   ]
  },
  {
   "cell_type": "code",
   "execution_count": null,
   "id": "d4d3a6a6",
   "metadata": {},
   "outputs": [],
   "source": [
    "%%time\n",
    "# Initialize the HMC transition kernel.\n",
    "tf.config.experimental.enable_tensor_float_32_execution(False)\n",
    "num_results = 100 #int(1e3)\n",
    "num_burnin_steps = 100 #int(1e3)\n",
    "\n",
    "num_chains = 10\n",
    "\n",
    "pinned_joint_dist_r = joint_dist_r.experimental_pin(prev = observed_prev)\n",
    "initial_state_dict = pinned_joint_dist_r.sample_unpinned(num_chains)\n",
    "initial_state = list(initial_state_dict.values())\n",
    "\n",
    "initial_step_size = [\n",
    "    tf.constant(1e-3, shape=[num_chains] + [1] * (len(x.shape) - 1))\n",
    "    for x in initial_state\n",
    "]\n",
    "\n",
    "def log_prob_r(*state):\n",
    "    return pinned_joint_dist_r.unnormalized_log_prob(state)\n",
    "\n",
    "mcmc = tfp.mcmc.TransformedTransitionKernel(\n",
    "    tfp.mcmc.SimpleStepSizeAdaptation(\n",
    "        inner_kernel = tfp.mcmc.HamiltonianMonteCarlo(\n",
    "            target_log_prob_fn=log_prob_r,\n",
    "            num_leapfrog_steps=50,\n",
    "            step_size=initial_step_size\n",
    "        ),\n",
    "        num_adaptation_steps=int(num_burnin_steps * 0.8)\n",
    "    ),\n",
    "    pinned_joint_dist_r.experimental_default_event_space_bijector().bijectors\n",
    ")\n",
    "\n",
    "def run_chain():\n",
    "    return tfp.mcmc.sample_chain(\n",
    "      num_results=num_results,\n",
    "      num_burnin_steps=num_burnin_steps,\n",
    "      current_state=initial_state,\n",
    "      parallel_iterations=num_chains,\n",
    "      kernel=mcmc,\n",
    "      trace_fn=lambda _, pkr: pkr.inner_results.inner_results.is_accepted\n",
    "    )\n",
    "\n",
    "samples, acceptance = run_chain()"
   ]
  },
  {
   "cell_type": "code",
   "execution_count": null,
   "id": "e2a5eba4-edf0-49f2-bd9b-200fbc748837",
   "metadata": {},
   "outputs": [],
   "source": [
    "samples"
   ]
  },
  {
   "cell_type": "code",
   "execution_count": null,
   "id": "bcfd5475-0d0a-40fe-a4b3-2e2ef675af65",
   "metadata": {},
   "outputs": [],
   "source": []
  }
 ],
 "metadata": {
  "kernelspec": {
   "display_name": "Python 3 (ipykernel)",
   "language": "python",
   "name": "python3"
  },
  "language_info": {
   "codemirror_mode": {
    "name": "ipython",
    "version": 3
   },
   "file_extension": ".py",
   "mimetype": "text/x-python",
   "name": "python",
   "nbconvert_exporter": "python",
   "pygments_lexer": "ipython3",
   "version": "3.10.7"
  }
 },
 "nbformat": 4,
 "nbformat_minor": 5
}
