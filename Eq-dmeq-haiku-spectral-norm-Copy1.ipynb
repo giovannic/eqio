{
 "cells": [
  {
   "cell_type": "code",
   "execution_count": 1,
   "id": "fb5a4cb6-09fc-4672-9f63-f5d3146df018",
   "metadata": {},
   "outputs": [],
   "source": [
    "cpu_count = 100\n",
    "import os\n",
    "os.environ['XLA_FLAGS'] = f'--xla_force_host_platform_device_count={cpu_count}'\n",
    "import pandas as pd\n",
    "import numpy as np\n",
    "from sklearn.model_selection import train_test_split\n",
    "import matplotlib.pyplot as plt\n",
    "seed = 42\n",
    "import dmeq"
   ]
  },
  {
   "cell_type": "code",
   "execution_count": 2,
   "id": "4c8b8692-7f02-4137-b4a2-f3b50807a6c7",
   "metadata": {},
   "outputs": [],
   "source": [
    "import jax.numpy as jnp\n",
    "from jax import pmap, vmap, jit, random, value_and_grad"
   ]
  },
  {
   "cell_type": "code",
   "execution_count": 3,
   "id": "89776a47-7f6b-40fb-83f7-a44a77adfb75",
   "metadata": {},
   "outputs": [
    {
     "name": "stderr",
     "output_type": "stream",
     "text": [
      "No GPU/TPU found, falling back to CPU. (Set TF_CPP_MIN_LOG_LEVEL=0 and rerun for more info.)\n"
     ]
    }
   ],
   "source": [
    "key = random.PRNGKey(seed)"
   ]
  },
  {
   "cell_type": "code",
   "execution_count": 4,
   "id": "45075c51-456a-4dfb-a351-4fbc7b646163",
   "metadata": {},
   "outputs": [],
   "source": [
    "import haiku as hk\n",
    "import optax"
   ]
  },
  {
   "cell_type": "code",
   "execution_count": 5,
   "id": "c83782b0-c26c-45db-82f5-c11079901f50",
   "metadata": {},
   "outputs": [],
   "source": [
    "from scipy.stats.qmc import LatinHypercube"
   ]
  },
  {
   "cell_type": "code",
   "execution_count": 6,
   "id": "6c49b4f3-5601-4e3a-b28b-354d08842cba",
   "metadata": {},
   "outputs": [],
   "source": [
    "n_samples = int(1e3)\n",
    "\n",
    "bounds = pd.DataFrame.from_records([\n",
    "    ('EIR', 0, 100),\n",
    "    ('eta', 1/(40 * 365), 1/(20 * 365)),\n",
    "    ('Q0', 0, 1),\n",
    "    ('s2', 1, 3),\n",
    "    ('rU', 1/1000, 1/30),\n",
    "    ('cD', 0, 1),\n",
    "    ('g_inf', 0.01, 10),\n",
    "    ('cU', 0, 1),\n",
    "    ('kb', 0.01, 10),\n",
    "    ('ub', 1, 10),\n",
    "    ('uc', 1, 10),\n",
    "    ('ud', 1, 10),\n",
    "    ('kc', .01, 10),\n",
    "    ('b0', .01, .99),\n",
    "    ('b1', .01, .99),\n",
    "    ('IB0', 1, 100),\n",
    "    ('IC0', 1, 100),\n",
    "    ('ID0', 1, 100),\n",
    "    ('tau', 1, 20),\n",
    "    ('phi0', 0, 1),\n",
    "    ('phi1', 0, 1),\n",
    "    ('mu', 0, 1),\n",
    "    ('f', 0, 1),\n",
    "    ('fd0', 0, 1),\n",
    "    ('ad0', 20 * 365, 40 * 365),\n",
    "    ('gd', 1, 10),\n",
    "    ('PM', 0, 1),\n",
    "    ('dm', 0, 1000)\n",
    "], columns=['name', 'lower', 'upper'])\n",
    "\n",
    "sampler = LatinHypercube(d=len(bounds), seed=42)\n",
    "\n",
    "samples = sampler.random(n_samples)\n",
    "\n",
    "samples = samples * (bounds.upper - bounds.lower).to_numpy() + bounds.lower.to_numpy()"
   ]
  },
  {
   "cell_type": "code",
   "execution_count": 7,
   "id": "4ddc916f-fda3-40e8-9cbc-e9da83698655",
   "metadata": {},
   "outputs": [],
   "source": [
    "jsamples = jnp.array(samples)\n",
    "batched_samples = jnp.reshape(\n",
    "    jsamples,\n",
    "    (cpu_count, int(jsamples.shape[0] / cpu_count)) + jsamples.shape[1:]\n",
    ")"
   ]
  },
  {
   "cell_type": "code",
   "execution_count": 8,
   "id": "d19aa0b1-e3e3-406e-a585-d6acef913e4f",
   "metadata": {},
   "outputs": [],
   "source": [
    "param_keys = list(bounds['name'])\n",
    "p = dmeq.default_parameters()\n",
    "\n",
    "@jit\n",
    "def run_eq(params):\n",
    "    local_p = p.copy()\n",
    "    for i in range(len(param_keys)):\n",
    "        local_p[param_keys[i]] = params[i]\n",
    "    return dmeq.solve(local_p, dtype=jnp.float64)\n",
    "\n",
    "runner = pmap(vmap(run_eq, in_axes=0), in_axes=0)\n",
    "\n",
    "results = runner(batched_samples)\n",
    "results = jnp.reshape(results, (jsamples.shape[0], -1))"
   ]
  },
  {
   "cell_type": "code",
   "execution_count": 9,
   "id": "2e5053b3-18b2-4510-b4d2-89806ebed628",
   "metadata": {},
   "outputs": [],
   "source": [
    "rand_index = random.permutation(key, n_samples, independent=True)\n",
    "cut = int(n_samples * 0.8)\n",
    "idx_train, idx_test = rand_index[:cut], rand_index[cut:] "
   ]
  },
  {
   "cell_type": "code",
   "execution_count": 10,
   "id": "7c8b636e-b706-4ec0-ae8d-32f0fd1d6efe",
   "metadata": {},
   "outputs": [],
   "source": [
    "result_ranges = [\n",
    "    (0, 100), # prev\n",
    "    (100, 200), # inc\n",
    "    (200, 300) # prop\n",
    "]\n",
    "\n",
    "result_stats = [\n",
    "    (\n",
    "        jnp.mean(results[idx_train,lower:upper], axis=None),\n",
    "        jnp.std(results[idx_train,lower:upper], axis=None)\n",
    "    )\n",
    "    for lower, upper in result_ranges\n",
    "]\n",
    "\n",
    "standard_results = jnp.concatenate([\n",
    "    (results[:,result_ranges[i][0]:result_ranges[i][1]] - result_stats[i][0]) / result_stats[i][1]\n",
    "    for i in range(len(result_ranges))\n",
    "], axis=1)"
   ]
  },
  {
   "cell_type": "code",
   "execution_count": 11,
   "id": "1362cdd3-72e9-4b21-971c-a7b21994b80f",
   "metadata": {},
   "outputs": [],
   "source": [
    "sample_mean, sample_std = jnp.mean(samples[idx_train], axis=0), jnp.std(samples[idx_train], axis=0)\n",
    "standard_samples = (samples - sample_mean) / sample_std"
   ]
  },
  {
   "cell_type": "code",
   "execution_count": 12,
   "id": "c5d27010-531a-4df5-9c0f-9c39b8b54b84",
   "metadata": {},
   "outputs": [],
   "source": [
    "X_train = standard_samples[idx_train]\n",
    "y_train = standard_results[idx_train]\n",
    "X_test = standard_samples[idx_test]\n",
    "y_test = standard_results[idx_test]"
   ]
  },
  {
   "cell_type": "code",
   "execution_count": 13,
   "id": "f8ed45e2-079d-4252-a494-faabe793a91a",
   "metadata": {},
   "outputs": [],
   "source": [
    "def _model(x):\n",
    "    return hk.nets.MLP(\n",
    "        output_sizes = [288] * 3 + [y_train.shape[1]],\n",
    "        w_init = hk.initializers.Orthogonal(),\n",
    "    )(x)\n",
    "\n",
    "model = hk.without_apply_rng(hk.transform(_model))"
   ]
  },
  {
   "cell_type": "code",
   "execution_count": 58,
   "id": "cfb61b6f-48f4-4b50-bb9c-c718927c4103",
   "metadata": {},
   "outputs": [],
   "source": [
    "params = model.init(rng=key, x=X_train)"
   ]
  },
  {
   "cell_type": "code",
   "execution_count": 15,
   "id": "98ed089f-3ae7-4b11-9fac-6231372a3a5a",
   "metadata": {},
   "outputs": [],
   "source": [
    "def _spectral_normaliser(x):\n",
    "    return hk.SNParamsTree(ignore_regex='^.*b$')(x)\n",
    "\n",
    "spectral_normaliser = hk.without_apply_rng(hk.transform_with_state(_spectral_normaliser))"
   ]
  },
  {
   "cell_type": "code",
   "execution_count": 16,
   "id": "fe57969f-11eb-472c-8893-6641e51f31ae",
   "metadata": {},
   "outputs": [],
   "source": [
    "key, key_i = random.split(key)\n",
    "sn_params, sn_state = spectral_normaliser.init(rng=key_i, x=params)"
   ]
  },
  {
   "cell_type": "code",
   "execution_count": 59,
   "id": "73f380f4-017c-497e-ac74-de0fe0947eb3",
   "metadata": {},
   "outputs": [],
   "source": [
    "from jax.nn import softplus\n",
    "\n",
    "@jit\n",
    "def log_cosh(params, x_batched, y_batched):\n",
    "    # Define a numerically stable log cosh for a single pair (x,y)\n",
    "    def error(x, y):\n",
    "        pred = model.apply(params, x)\n",
    "        diff = y - pred\n",
    "        return jnp.mean(diff + softplus(-2 * diff) - jnp.log(2.))\n",
    "    # Vectorize the previous to compute the average of the loss on all samples.\n",
    "    return jnp.mean(vmap(error)(x_batched, y_batched), axis=0)\n",
    "\n",
    "def orthogonal_regulariser(params, weight=0.001):\n",
    "    return jnp.sum(jnp.array([\n",
    "        jnp.sum(jnp.abs(jnp.matmul(p['w'], p['w'].T) - jnp.eye(p['w'].shape[0])))\n",
    "        for p in params.values()\n",
    "    ])) * weight\n",
    "\n",
    "@jit\n",
    "def regularised_loss(params, x_batched, y_batched):\n",
    "    return log_cosh(params, x_batched, y_batched) + orthogonal_regulariser(params, 1e-3)"
   ]
  },
  {
   "cell_type": "code",
   "execution_count": 60,
   "id": "98c99df1-fe14-4a92-a331-a59b6c6b3b5c",
   "metadata": {},
   "outputs": [],
   "source": [
    "tx = optax.adam(learning_rate=.001)\n",
    "opt_state = tx.init(params)\n",
    "loss_grad_fn = value_and_grad(regularised_loss)"
   ]
  },
  {
   "cell_type": "code",
   "execution_count": 46,
   "id": "c6b64d39-41a0-4223-bd34-2afa6b528744",
   "metadata": {},
   "outputs": [],
   "source": [
    "batch_size = 100\n",
    "n_batches = X_train.shape[0] // batch_size\n",
    "X_train_batched = jnp.reshape(\n",
    "    X_train,\n",
    "    (n_batches, batch_size) + X_train.shape[1:]\n",
    ")\n",
    "y_train_batched = jnp.reshape(\n",
    "    y_train,\n",
    "    (n_batches, batch_size) + y_train.shape[1:]\n",
    ")"
   ]
  },
  {
   "cell_type": "code",
   "execution_count": 61,
   "id": "87175d90-5392-4d51-a826-160d7961c8fb",
   "metadata": {},
   "outputs": [
    {
     "name": "stdout",
     "output_type": "stream",
     "text": [
      "Loss step 0:  0.5075107460417552\n",
      "Loss step 10:  0.24589735881389577\n",
      "Loss step 20:  0.194157730518158\n",
      "Loss step 30:  0.17637174740863612\n",
      "Loss step 40:  0.16852262020124406\n",
      "Loss step 50:  0.16342430998517563\n",
      "Loss step 60:  0.1599079728165051\n",
      "Loss step 70:  0.15711382952647546\n",
      "Loss step 80:  0.15519048144575784\n",
      "Loss step 90:  0.1532814116282498\n",
      "Loss step 100:  0.15197892803903845\n",
      "Loss step 110:  0.15098941010381658\n",
      "Loss step 120:  0.1499785538997378\n",
      "Loss step 130:  0.14890376536112354\n",
      "Loss step 140:  0.14828198275766988\n",
      "Loss step 150:  0.1473523487640581\n",
      "Loss step 160:  0.1467021146794205\n",
      "Loss step 170:  0.14557857485400816\n",
      "Loss step 180:  0.1448437237676377\n",
      "Loss step 190:  0.14351499124236836\n",
      "Loss step 200:  0.1415024117542062\n",
      "Loss step 210:  0.1395826643535781\n",
      "Loss step 220:  0.13766322067878883\n",
      "Loss step 230:  0.13536249254632746\n",
      "Loss step 240:  0.13351015323260906\n",
      "Loss step 250:  0.1329044271356562\n",
      "Loss step 260:  0.13104639472012766\n",
      "Loss step 270:  0.13038789903306905\n",
      "Loss step 280:  0.12967718852630308\n",
      "Loss step 290:  0.1288372418173765\n",
      "Loss step 300:  0.12867529922589963\n",
      "Loss step 310:  0.12807163006807376\n",
      "Loss step 320:  0.12808769046611979\n",
      "Loss step 330:  0.1277167962029575\n",
      "Loss step 340:  0.12748109837220795\n",
      "Loss step 350:  0.12726511915860622\n",
      "Loss step 360:  0.12697099550885907\n",
      "Loss step 370:  0.1269197149427083\n",
      "Loss step 380:  0.12687314726449417\n",
      "Loss step 390:  0.12675896566195485\n",
      "Loss step 400:  0.1267304954931785\n",
      "Loss step 410:  0.12649960086471582\n",
      "Loss step 420:  0.12668128342128548\n",
      "Loss step 430:  0.12653420253877415\n",
      "Loss step 440:  0.126284756769586\n",
      "Loss step 450:  0.12600993611195124\n",
      "Loss step 460:  0.12593018090061378\n",
      "Loss step 470:  0.12609599497176874\n",
      "Loss step 480:  0.12579263659466824\n",
      "Loss step 490:  0.12590957559883367\n",
      "CPU times: user 18min 31s, sys: 1min 45s, total: 20min 17s\n",
      "Wall time: 2min 18s\n"
     ]
    }
   ],
   "source": [
    "%%time\n",
    "epochs = 500\n",
    "\n",
    "for i in range(epochs):\n",
    "    key, key_i = random.split(key)\n",
    "    for b in random.permutation(key_i, n_batches, independent=True):\n",
    "        loss_val, grads = loss_grad_fn(params, X_train_batched[b], y_train_batched[b])\n",
    "        updates, opt_state = tx.update(grads, opt_state)\n",
    "        #params, sn_state = spectral_normaliser.apply(sn_params, sn_state, params)\n",
    "        params = optax.apply_updates(params, updates)\n",
    "    if i % 10 == 0:\n",
    "        print('Loss step {}: '.format(i), regularised_loss(params, X_train, y_train))"
   ]
  },
  {
   "cell_type": "code",
   "execution_count": 62,
   "id": "30a03e1f-e0fe-46b9-a4ca-2978097cffbf",
   "metadata": {},
   "outputs": [
    {
     "data": {
      "text/plain": [
       "[('mlp/~/linear_0', Array(1.8551548, dtype=float64)),\n",
       " ('mlp/~/linear_1', Array(1.00533968, dtype=float64)),\n",
       " ('mlp/~/linear_2', Array(1.00491025, dtype=float64)),\n",
       " ('mlp/~/linear_3', Array(3.33625419, dtype=float64))]"
      ]
     },
     "execution_count": 62,
     "metadata": {},
     "output_type": "execute_result"
    }
   ],
   "source": [
    "[(n, jnp.linalg.norm(p['w'], 2)) for n, p in params.items()]"
   ]
  },
  {
   "cell_type": "code",
   "execution_count": 63,
   "id": "092e447d-b61d-45e8-9272-b83ccb084007",
   "metadata": {},
   "outputs": [],
   "source": [
    "batch_predict = vmap(jit(lambda y: model.apply(params, y)))\n",
    "y_hat = batch_predict(X_test)"
   ]
  },
  {
   "cell_type": "code",
   "execution_count": 64,
   "id": "d1537255-9e39-43c1-828f-5692a4ee130c",
   "metadata": {},
   "outputs": [],
   "source": [
    "def inverse_standardise(x):\n",
    "    return jnp.concatenate([\n",
    "        x[:,result_ranges[i][0]:result_ranges[i][1]] * result_stats[i][1] + result_stats[i][0]\n",
    "        for i in range(len(result_ranges))\n",
    "    ], axis=1)"
   ]
  },
  {
   "cell_type": "code",
   "execution_count": 65,
   "id": "76a0bcd8-e491-42f3-852b-57c834dc9df3",
   "metadata": {},
   "outputs": [],
   "source": [
    "def prev_2_10(y):\n",
    "    return jnp.sum(y[:,2:10], axis=1) / jnp.sum(y[:,202:210], axis=1)\n",
    "\n",
    "def inc_0_5(y):\n",
    "    return jnp.sum(y[:,100:105], axis=1) / jnp.sum(y[:,200:205], axis=1)"
   ]
  },
  {
   "cell_type": "code",
   "execution_count": 66,
   "id": "8675b600-b552-4557-931a-a4c55fb543b6",
   "metadata": {},
   "outputs": [
    {
     "data": {
      "text/plain": [
       "Text(0, 0.5, 'true prev_2_10')"
      ]
     },
     "execution_count": 66,
     "metadata": {},
     "output_type": "execute_result"
    },
    {
     "data": {
      "image/png": "[encoded data removed]",
      "text/plain": [
       "<Figure size 640x480 with 1 Axes>"
      ]
     },
     "metadata": {},
     "output_type": "display_data"
    }
   ],
   "source": [
    "plt.scatter(prev_2_10(inverse_standardise(y_hat)), prev_2_10(inverse_standardise(y_test)), s=0.1)\n",
    "plt.plot(np.linspace(0, 0.8), np.linspace(0, 0.8), linestyle=':', color='orange')\n",
    "plt.xlabel('pred prev_2_10')\n",
    "plt.ylabel('true prev_2_10')"
   ]
  },
  {
   "cell_type": "code",
   "execution_count": 67,
   "id": "535926bf-c6e8-4712-a94a-998f297b4be0",
   "metadata": {},
   "outputs": [
    {
     "data": {
      "text/plain": [
       "Text(0, 0.5, 'true inc_0_5')"
      ]
     },
     "execution_count": 67,
     "metadata": {},
     "output_type": "execute_result"
    },
    {
     "data": {
      "image/png": "[encoded data removed]",
      "text/plain": [
       "<Figure size 640x480 with 1 Axes>"
      ]
     },
     "metadata": {},
     "output_type": "display_data"
    }
   ],
   "source": [
    "plt.scatter(inc_0_5(inverse_standardise(y_hat)), inc_0_5(inverse_standardise(y_test)), s=0.1)\n",
    "plt.plot(np.linspace(0, 0.05), np.linspace(0, 0.05), linestyle=':', color='orange')\n",
    "plt.xlabel('pred inc_0_5')\n",
    "plt.ylabel('true inc_0_5')"
   ]
  },
  {
   "cell_type": "code",
   "execution_count": 31,
   "id": "d6b6c3ce-20d5-404e-9d65-148837cca896",
   "metadata": {},
   "outputs": [],
   "source": [
    "import pickle\n",
    "from dataclasses import dataclass\n",
    "from typing import Any, Sequence\n",
    "from jaxtyping import PyTree, Float, Array"
   ]
  },
  {
   "cell_type": "code",
   "execution_count": 68,
   "id": "2aec5de9-4fdc-4472-8f06-5a2f4674a302",
   "metadata": {},
   "outputs": [],
   "source": [
    "@dataclass\n",
    "class Surrogate():\n",
    "    model: Any\n",
    "    params: PyTree\n",
    "    param_keys: Sequence[str]\n",
    "    param_stats: Sequence[Float[Array, 'input_dim']]\n",
    "    output_ranges: Sequence[Sequence[int]]\n",
    "    output_stats: Sequence[Sequence[Float[Array, 'output_dim']]]\n",
    "    \n",
    "    def run(self, p):\n",
    "        input_array = jnp.array([p[k] for k in self.param_keys])\n",
    "        standardised_input = (input_array - self.param_stats[0]) / self.param_stats[1]\n",
    "        output = self.model.apply(self.params, standardised_input)\n",
    "        standardised_result = jnp.concatenate([\n",
    "            output[self.output_ranges[i][0]:self.output_ranges[i][1]] *\n",
    "                self.output_stats[i][1] + self.output_stats[i][0]\n",
    "            for i in range(len(self.output_ranges))\n",
    "        ])\n",
    "        return jnp.reshape(\n",
    "            standardised_result,\n",
    "            (\n",
    "                len(self.output_ranges),\n",
    "                (self.output_ranges[0][1] - self.output_ranges[0][0])\n",
    "            )\n",
    "        )"
   ]
  },
  {
   "cell_type": "code",
   "execution_count": 69,
   "id": "181d935e-99da-4a09-b00e-30c2b7f13eb4",
   "metadata": {},
   "outputs": [],
   "source": [
    "s = Surrogate(\n",
    "    model=model,\n",
    "    params=params,\n",
    "    param_keys=bounds['name'],\n",
    "    param_stats=(sample_mean, sample_std),\n",
    "    output_ranges=result_ranges,\n",
    "    output_stats=result_stats\n",
    ")"
   ]
  },
  {
   "cell_type": "code",
   "execution_count": 70,
   "id": "693a7ceb-1147-41b9-9939-119f921c4210",
   "metadata": {},
   "outputs": [
    {
     "ename": "AttributeError",
     "evalue": "Can't pickle local object 'without_state.<locals>.init_fn'",
     "output_type": "error",
     "traceback": [
      "\u001b[0;31m---------------------------------------------------------------------------\u001b[0m",
      "\u001b[0;31mAttributeError\u001b[0m                            Traceback (most recent call last)",
      "Cell \u001b[0;32mIn [70], line 2\u001b[0m\n\u001b[1;32m      1\u001b[0m \u001b[38;5;28;01mwith\u001b[39;00m \u001b[38;5;28mopen\u001b[39m(\u001b[38;5;124m'\u001b[39m\u001b[38;5;124meq_surrogate\u001b[39m\u001b[38;5;124m'\u001b[39m, \u001b[38;5;124m'\u001b[39m\u001b[38;5;124mwb\u001b[39m\u001b[38;5;124m'\u001b[39m) \u001b[38;5;28;01mas\u001b[39;00m f:\n\u001b[0;32m----> 2\u001b[0m     pickle\u001b[38;5;241m.\u001b[39mdump(s, f)\n",
      "\u001b[0;31mAttributeError\u001b[0m: Can't pickle local object 'without_state.<locals>.init_fn'"
     ]
    }
   ],
   "source": [
    "with open('eq_surrogate', 'wb') as f:\n",
    "    pickle.dump(s, f)"
   ]
  },
  {
   "cell_type": "code",
   "execution_count": 35,
   "id": "87a3bb09-8071-4488-9796-3afb6b75401a",
   "metadata": {},
   "outputs": [],
   "source": [
    "import dmeq"
   ]
  },
  {
   "cell_type": "code",
   "execution_count": 36,
   "id": "5ee00329-a54d-43ab-8ccb-0a7287ee4e4e",
   "metadata": {},
   "outputs": [],
   "source": [
    "def prev_stats(params, eir, eta, impl):\n",
    "    p = dmeq.default_parameters()\n",
    "    (\n",
    "        p['kb'],\n",
    "        # p['ub'],\n",
    "        p['b0'],\n",
    "        # p['IB0'],\n",
    "        # p['kc'],\n",
    "        # p['uc'],\n",
    "        # p['IC0'],\n",
    "        # p['phi0'],\n",
    "        # p['phi1'],\n",
    "        # p['PM'],\n",
    "        # p['dm'],\n",
    "        # p['kd'],\n",
    "        # p['ud'],\n",
    "        # p['d1'],\n",
    "        # p['ID0'],\n",
    "        # p['fd0'],\n",
    "        # p['gd'],\n",
    "        # p['ad0'],\n",
    "        # p['rU'],\n",
    "        # p['cD'],\n",
    "        # p['cU'],\n",
    "        # p['g_inf']\n",
    "    )= params\n",
    "    p['EIR'] = eir\n",
    "    p['eta'] = eta\n",
    "    solution = impl(p)\n",
    "    return jnp.array([\n",
    "        solution[0, 3:10].sum() / solution[2, 3:10].sum(), # Prev 2 - 10\n",
    "        solution[0, 10:].sum() / solution[2, 10:].sum(), # Prev 10+\n",
    "        solution[1, :5].sum() / solution[2, :5].sum(), # Inc 0 - 5\n",
    "        solution[1, 5:15].sum() / solution[2, 5:15].sum(), # Inc 5 - 15\n",
    "        solution[1, 15:].sum() / solution[2, 15:].sum() # Inc 15+\n",
    "    ])"
   ]
  },
  {
   "cell_type": "code",
   "execution_count": 37,
   "id": "5859839b-ca77-4716-a5f8-decf208064ce",
   "metadata": {},
   "outputs": [],
   "source": [
    "population = 100_000\n",
    "EIRs = jnp.array([0.05, 3.9, 15., 20., 100., 150., 418.])\n",
    "etas = 1. / (random.normal(key, shape=EIRs.shape, dtype=jnp.float64) * 2 * 365 + 20*365)\n",
    "def prev(b0, kb, impl):\n",
    "    return prev_stats([b0, kb], EIRs[0], etas[0], impl)[0]"
   ]
  },
  {
   "cell_type": "code",
   "execution_count": 71,
   "id": "7d59f102-76cd-4c8a-a8a8-b0e727db933c",
   "metadata": {},
   "outputs": [],
   "source": [
    "n = 50\n",
    "b0 = jnp.linspace(0, 1, num=n)\n",
    "kb = jnp.linspace(0, 5, num=n)\n",
    "b0, kb = jnp.meshgrid(b0, kb)\n",
    "surr_prev_space, surr_prev_grad = vmap(\n",
    "    vmap(\n",
    "        value_and_grad(prev),\n",
    "        in_axes=(0, 0, None),\n",
    "        out_axes=0\n",
    "    ),\n",
    "    in_axes=(1, 1, None),\n",
    "    out_axes=1\n",
    ")(b0, kb, s.run)"
   ]
  },
  {
   "cell_type": "code",
   "execution_count": 41,
   "id": "22302dc9-f22d-4ad1-a5c4-7b68543b31f8",
   "metadata": {},
   "outputs": [],
   "source": [
    "from matplotlib import cm"
   ]
  },
  {
   "cell_type": "code",
   "execution_count": 72,
   "id": "725e3cd9-0222-4c0b-83ac-5c6bac0bcb9b",
   "metadata": {},
   "outputs": [
    {
     "data": {
      "image/png": "[encoded data removed]",
      "text/plain": [
       "<Figure size 640x480 with 1 Axes>"
      ]
     },
     "metadata": {},
     "output_type": "display_data"
    }
   ],
   "source": [
    "fig, ax = plt.subplots(subplot_kw={\"projection\": \"3d\"})\n",
    "\n",
    "surf = ax.plot_surface(b0, kb, surr_prev_grad, cmap=cm.coolwarm,\n",
    "                       linewidth=0, antialiased=False)"
   ]
  },
  {
   "cell_type": "code",
   "execution_count": null,
   "id": "21d60fd8-7f4f-4537-91c3-c438f0b8bc7a",
   "metadata": {},
   "outputs": [],
   "source": []
  }
 ],
 "metadata": {
  "kernelspec": {
   "display_name": "Python 3 (ipykernel)",
   "language": "python",
   "name": "python3"
  },
  "language_info": {
   "codemirror_mode": {
    "name": "ipython",
    "version": 3
   },
   "file_extension": ".py",
   "mimetype": "text/x-python",
   "name": "python",
   "nbconvert_exporter": "python",
   "pygments_lexer": "ipython3",
   "version": "3.10.7"
  }
 },
 "nbformat": 4,
 "nbformat_minor": 5
}
