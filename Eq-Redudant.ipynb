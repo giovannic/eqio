{
 "cells": [
  {
   "cell_type": "code",
   "execution_count": 51,
   "id": "fb5a4cb6-09fc-4672-9f63-f5d3146df018",
   "metadata": {},
   "outputs": [],
   "source": [
    "import pandas as pd\n",
    "import numpy as np\n",
    "from sklearn.model_selection import train_test_split\n",
    "from sklearn.preprocessing import StandardScaler\n",
    "import matplotlib.pyplot as plt\n",
    "seed = 42"
   ]
  },
  {
   "cell_type": "code",
   "execution_count": 129,
   "id": "53e391da-9aa3-41e0-950c-2691e3a5be95",
   "metadata": {},
   "outputs": [],
   "source": [
    "samples = pd.concat([\n",
    "    pd.read_csv(f'./outputs/all_extra/realisations_{i+1}.csv')\n",
    "    for i in range(100)\n",
    "])"
   ]
  },
  {
   "cell_type": "code",
   "execution_count": 143,
   "id": "b2ebf578-51da-4e0b-9cb0-0e1da19499b4",
   "metadata": {},
   "outputs": [
    {
     "name": "stderr",
     "output_type": "stream",
     "text": [
      "/tmp/ipykernel_96939/209111588.py:11: FutureWarning: In a future version of pandas all arguments of DataFrame.drop except for the argument 'labels' will be keyword-only.\n",
      "  features = samples.drop(output_columns, 1)\n"
     ]
    }
   ],
   "source": [
    "output_variables = ['pos_M',\n",
    "    'prop',\n",
    "    'ICA',\n",
    "    'ICM',\n",
    "    'ID',\n",
    "    'IB',\n",
    "    'inc'\n",
    "]\n",
    "output_columns = [c for c in samples.columns if any([c.startswith(v + '_') for v in output_variables])]\n",
    "outputs = samples[output_columns]\n",
    "features = samples.drop(output_columns, 1)\n",
    "n_features = len(features.columns)\n",
    "n_outputs = len(outputs.columns)"
   ]
  },
  {
   "cell_type": "code",
   "execution_count": 144,
   "id": "2e5053b3-18b2-4510-b4d2-89806ebed628",
   "metadata": {},
   "outputs": [],
   "source": [
    "idx_train, idx_test = train_test_split(\n",
    "    np.arange(len(outputs)),\n",
    "    test_size=0.2,\n",
    "    random_state=seed\n",
    ")"
   ]
  },
  {
   "cell_type": "code",
   "execution_count": 145,
   "id": "c5d27010-531a-4df5-9c0f-9c39b8b54b84",
   "metadata": {},
   "outputs": [],
   "source": [
    "X_train = features.iloc[idx_train]\n",
    "y_train = outputs.iloc[idx_train]\n",
    "X_test = features.iloc[idx_test]\n",
    "y_test = outputs.iloc[idx_test]\n",
    "\n",
    "scaler = StandardScaler()\n",
    "X_train = scaler.fit_transform(X_train)\n",
    "X_test = scaler.transform(X_test)"
   ]
  },
  {
   "cell_type": "code",
   "execution_count": 146,
   "id": "a51f421c-7618-4b47-8479-a28d00af0d5d",
   "metadata": {},
   "outputs": [],
   "source": [
    "import tensorflow as tf\n",
    "from tensorflow.keras import Sequential, layers"
   ]
  },
  {
   "cell_type": "code",
   "execution_count": 147,
   "id": "80b65f08-2ed2-4996-879c-96d13b497510",
   "metadata": {},
   "outputs": [],
   "source": [
    "def create_model(\n",
    "    optimiser='adam',\n",
    "    n_hidden=[n_features, 100, 100],\n",
    "    dropouts=[0, .1, .1],\n",
    "    loss='mse',\n",
    "    hidden_activation='relu',\n",
    "    hidden_initialiser='he_normal',\n",
    "    output_activation='linear',\n",
    "    output_initialiser='glorot_normal'\n",
    "):\n",
    "    model = Sequential()\n",
    "    model.add(layers.Input(shape=(n_features,), dtype='float32'))\n",
    "    for i in range(len(n_hidden)):\n",
    "        model.add(layers.Dense(\n",
    "            n_hidden[i],\n",
    "            activation=hidden_activation,\n",
    "            kernel_initializer=hidden_initialiser)\n",
    "        )\n",
    "        if (dropouts[i] > 0):\n",
    "            model.add(layers.Dropout(dropouts[i]))\n",
    "    model.add(layers.Dense(n_outputs, activation=output_activation, kernel_initializer=output_initialiser))\n",
    "    model.compile(loss=loss, optimizer=optimiser, metrics='mse')\n",
    "    return model"
   ]
  },
  {
   "cell_type": "code",
   "execution_count": 154,
   "id": "dbd51a5f-8295-42a9-af25-4e647f7be908",
   "metadata": {},
   "outputs": [
    {
     "name": "stdout",
     "output_type": "stream",
     "text": [
      "Epoch 1/100\n",
      "800/800 [==============================] - 2s 2ms/step - loss: 39342.4336 - mse: 39342.4336\n",
      "Epoch 2/100\n",
      "800/800 [==============================] - 2s 2ms/step - loss: 16570.0039 - mse: 16570.0039\n",
      "Epoch 3/100\n",
      "800/800 [==============================] - 2s 2ms/step - loss: 8383.9160 - mse: 8383.9160\n",
      "Epoch 4/100\n",
      "800/800 [==============================] - 2s 2ms/step - loss: 7166.6377 - mse: 7166.6377\n",
      "Epoch 5/100\n",
      "800/800 [==============================] - 2s 2ms/step - loss: 6461.4702 - mse: 6461.4702\n",
      "Epoch 6/100\n",
      "800/800 [==============================] - 2s 2ms/step - loss: 5920.6504 - mse: 5920.6504\n",
      "Epoch 7/100\n",
      "800/800 [==============================] - 2s 2ms/step - loss: 5459.8457 - mse: 5459.8457\n",
      "Epoch 8/100\n",
      "800/800 [==============================] - 2s 2ms/step - loss: 5074.6997 - mse: 5074.6997\n",
      "Epoch 9/100\n",
      "800/800 [==============================] - 2s 2ms/step - loss: 4767.4355 - mse: 4767.4355\n",
      "Epoch 10/100\n",
      "800/800 [==============================] - 2s 2ms/step - loss: 4496.3027 - mse: 4496.3027\n",
      "Epoch 11/100\n",
      "800/800 [==============================] - 2s 2ms/step - loss: 4224.1553 - mse: 4224.1553\n",
      "Epoch 12/100\n",
      "800/800 [==============================] - 2s 2ms/step - loss: 4015.8044 - mse: 4015.8044\n",
      "Epoch 13/100\n",
      "800/800 [==============================] - 2s 2ms/step - loss: 3789.0164 - mse: 3789.0164\n",
      "Epoch 14/100\n",
      "800/800 [==============================] - 2s 2ms/step - loss: 3619.7007 - mse: 3619.7007\n",
      "Epoch 15/100\n",
      "800/800 [==============================] - 2s 2ms/step - loss: 3478.1960 - mse: 3478.1960\n",
      "Epoch 16/100\n",
      "800/800 [==============================] - 2s 2ms/step - loss: 3351.2498 - mse: 3351.2498\n",
      "Epoch 17/100\n",
      "800/800 [==============================] - 2s 2ms/step - loss: 3243.2859 - mse: 3243.2859\n",
      "Epoch 18/100\n",
      "800/800 [==============================] - 2s 2ms/step - loss: 3183.7332 - mse: 3183.7332\n",
      "Epoch 19/100\n",
      "800/800 [==============================] - 2s 2ms/step - loss: 3088.0212 - mse: 3088.0212\n",
      "Epoch 20/100\n",
      "800/800 [==============================] - 2s 2ms/step - loss: 3020.1794 - mse: 3020.1794\n",
      "Epoch 21/100\n",
      "800/800 [==============================] - 2s 2ms/step - loss: 2942.7107 - mse: 2942.7107\n",
      "Epoch 22/100\n",
      "800/800 [==============================] - 2s 2ms/step - loss: 2857.3928 - mse: 2857.3928\n",
      "Epoch 23/100\n",
      "800/800 [==============================] - 2s 2ms/step - loss: 2769.2937 - mse: 2769.2937\n",
      "Epoch 24/100\n",
      "800/800 [==============================] - 2s 2ms/step - loss: 2648.7964 - mse: 2648.7964\n",
      "Epoch 25/100\n",
      "800/800 [==============================] - 2s 2ms/step - loss: 2442.0806 - mse: 2442.0806\n",
      "Epoch 26/100\n",
      "800/800 [==============================] - 2s 2ms/step - loss: 2199.2144 - mse: 2199.2144\n",
      "Epoch 27/100\n",
      "800/800 [==============================] - 2s 2ms/step - loss: 1914.8584 - mse: 1914.8584\n",
      "Epoch 28/100\n",
      "800/800 [==============================] - 2s 2ms/step - loss: 1706.8632 - mse: 1706.8632\n",
      "Epoch 29/100\n",
      "800/800 [==============================] - 2s 2ms/step - loss: 1578.7441 - mse: 1578.7441\n",
      "Epoch 30/100\n",
      "800/800 [==============================] - 2s 2ms/step - loss: 1491.1416 - mse: 1491.1417\n",
      "Epoch 31/100\n",
      "800/800 [==============================] - 2s 2ms/step - loss: 1443.0063 - mse: 1443.0063\n",
      "Epoch 32/100\n",
      "800/800 [==============================] - 2s 2ms/step - loss: 1405.3759 - mse: 1405.3759\n",
      "Epoch 33/100\n",
      "800/800 [==============================] - 2s 2ms/step - loss: 1360.7188 - mse: 1360.7188\n",
      "Epoch 34/100\n",
      "800/800 [==============================] - 2s 2ms/step - loss: 1328.9858 - mse: 1328.9858\n",
      "Epoch 35/100\n",
      "800/800 [==============================] - 2s 2ms/step - loss: 1312.9122 - mse: 1312.9124\n",
      "Epoch 36/100\n",
      "800/800 [==============================] - 2s 2ms/step - loss: 1273.2607 - mse: 1273.2607\n",
      "Epoch 37/100\n",
      "800/800 [==============================] - 2s 2ms/step - loss: 1251.3234 - mse: 1251.3234\n",
      "Epoch 38/100\n",
      "800/800 [==============================] - 2s 2ms/step - loss: 1218.2676 - mse: 1218.2676\n",
      "Epoch 39/100\n",
      "800/800 [==============================] - 2s 2ms/step - loss: 1201.8204 - mse: 1201.8204\n",
      "Epoch 40/100\n",
      "800/800 [==============================] - 2s 2ms/step - loss: 1165.1342 - mse: 1165.1342\n",
      "Epoch 41/100\n",
      "800/800 [==============================] - 2s 2ms/step - loss: 1149.4803 - mse: 1149.4803\n",
      "Epoch 42/100\n",
      "800/800 [==============================] - 2s 2ms/step - loss: 1123.8527 - mse: 1123.8527\n",
      "Epoch 43/100\n",
      "800/800 [==============================] - 2s 2ms/step - loss: 1093.5546 - mse: 1093.5546\n",
      "Epoch 44/100\n",
      "800/800 [==============================] - 2s 2ms/step - loss: 1073.9314 - mse: 1073.9314\n",
      "Epoch 45/100\n",
      "800/800 [==============================] - 2s 2ms/step - loss: 1039.4510 - mse: 1039.4510\n",
      "Epoch 46/100\n",
      "800/800 [==============================] - 2s 2ms/step - loss: 1031.6213 - mse: 1031.6213\n",
      "Epoch 47/100\n",
      "800/800 [==============================] - 2s 2ms/step - loss: 1004.4403 - mse: 1004.4403\n",
      "Epoch 48/100\n",
      "800/800 [==============================] - 2s 2ms/step - loss: 980.2711 - mse: 980.2711\n",
      "Epoch 49/100\n",
      "800/800 [==============================] - 2s 2ms/step - loss: 963.9727 - mse: 963.9727\n",
      "Epoch 50/100\n",
      "800/800 [==============================] - 2s 2ms/step - loss: 956.6759 - mse: 956.6759\n",
      "Epoch 51/100\n",
      "800/800 [==============================] - 2s 2ms/step - loss: 933.7378 - mse: 933.7378\n",
      "Epoch 52/100\n",
      "800/800 [==============================] - 2s 2ms/step - loss: 917.8424 - mse: 917.8424\n",
      "Epoch 53/100\n",
      "800/800 [==============================] - 2s 2ms/step - loss: 914.3437 - mse: 914.3437\n",
      "Epoch 54/100\n",
      "800/800 [==============================] - 2s 2ms/step - loss: 907.3623 - mse: 907.3623\n",
      "Epoch 55/100\n",
      "800/800 [==============================] - 2s 2ms/step - loss: 893.5723 - mse: 893.5723\n",
      "Epoch 56/100\n",
      "800/800 [==============================] - 2s 2ms/step - loss: 880.7362 - mse: 880.7363\n",
      "Epoch 57/100\n",
      "800/800 [==============================] - 2s 2ms/step - loss: 878.0814 - mse: 878.0814\n",
      "Epoch 58/100\n",
      "800/800 [==============================] - 2s 2ms/step - loss: 870.2299 - mse: 870.2299\n",
      "Epoch 59/100\n",
      "800/800 [==============================] - 2s 2ms/step - loss: 859.7487 - mse: 859.7488\n",
      "Epoch 60/100\n",
      "800/800 [==============================] - 2s 2ms/step - loss: 863.3798 - mse: 863.3798\n",
      "Epoch 61/100\n",
      "800/800 [==============================] - 2s 2ms/step - loss: 850.3709 - mse: 850.3709\n",
      "Epoch 62/100\n",
      "800/800 [==============================] - 2s 2ms/step - loss: 844.8154 - mse: 844.8154\n",
      "Epoch 63/100\n",
      "800/800 [==============================] - 2s 2ms/step - loss: 844.1544 - mse: 844.1544\n",
      "Epoch 64/100\n",
      "800/800 [==============================] - 2s 2ms/step - loss: 829.0760 - mse: 829.0760\n",
      "Epoch 65/100\n",
      "800/800 [==============================] - 2s 2ms/step - loss: 827.2698 - mse: 827.2698\n",
      "Epoch 66/100\n",
      "800/800 [==============================] - 2s 2ms/step - loss: 829.3554 - mse: 829.3554\n",
      "Epoch 67/100\n",
      "800/800 [==============================] - 2s 2ms/step - loss: 816.3215 - mse: 816.3215\n",
      "Epoch 68/100\n",
      "800/800 [==============================] - 2s 2ms/step - loss: 814.8000 - mse: 814.8000\n",
      "Epoch 69/100\n",
      "800/800 [==============================] - 2s 2ms/step - loss: 808.0878 - mse: 808.0878\n",
      "Epoch 70/100\n",
      "800/800 [==============================] - 2s 2ms/step - loss: 804.5884 - mse: 804.5884\n",
      "Epoch 71/100\n",
      "800/800 [==============================] - 2s 2ms/step - loss: 802.8242 - mse: 802.8242\n",
      "Epoch 72/100\n",
      "800/800 [==============================] - 2s 2ms/step - loss: 804.0165 - mse: 804.0165\n",
      "Epoch 73/100\n",
      "800/800 [==============================] - 2s 2ms/step - loss: 798.3630 - mse: 798.3630\n",
      "Epoch 74/100\n",
      "800/800 [==============================] - 2s 2ms/step - loss: 786.7113 - mse: 786.7113\n",
      "Epoch 75/100\n",
      "800/800 [==============================] - 2s 2ms/step - loss: 789.4971 - mse: 789.4971\n",
      "Epoch 76/100\n",
      "800/800 [==============================] - 2s 2ms/step - loss: 782.2028 - mse: 782.2028\n",
      "Epoch 77/100\n",
      "800/800 [==============================] - 2s 2ms/step - loss: 778.7749 - mse: 778.7749\n",
      "Epoch 78/100\n",
      "800/800 [==============================] - 2s 2ms/step - loss: 775.6337 - mse: 775.6337\n",
      "Epoch 79/100\n",
      "800/800 [==============================] - 2s 2ms/step - loss: 774.1283 - mse: 774.1283\n",
      "Epoch 80/100\n",
      "800/800 [==============================] - 2s 2ms/step - loss: 765.8984 - mse: 765.8984\n",
      "Epoch 81/100\n",
      "800/800 [==============================] - 2s 2ms/step - loss: 763.3325 - mse: 763.3325\n",
      "Epoch 82/100\n",
      "800/800 [==============================] - 2s 2ms/step - loss: 768.0227 - mse: 768.0227\n",
      "Epoch 83/100\n",
      "800/800 [==============================] - 2s 2ms/step - loss: 762.4366 - mse: 762.4366\n",
      "Epoch 84/100\n",
      "800/800 [==============================] - 2s 2ms/step - loss: 755.4027 - mse: 755.4027\n",
      "Epoch 85/100\n",
      "800/800 [==============================] - 2s 2ms/step - loss: 754.6046 - mse: 754.6046\n",
      "Epoch 86/100\n",
      "800/800 [==============================] - 2s 2ms/step - loss: 752.7697 - mse: 752.7697\n",
      "Epoch 87/100\n",
      "800/800 [==============================] - 2s 2ms/step - loss: 744.8430 - mse: 744.8429\n",
      "Epoch 88/100\n",
      "800/800 [==============================] - 2s 2ms/step - loss: 752.8986 - mse: 752.8986\n",
      "Epoch 89/100\n",
      "800/800 [==============================] - 2s 2ms/step - loss: 745.2272 - mse: 745.2272\n",
      "Epoch 90/100\n",
      "800/800 [==============================] - 2s 2ms/step - loss: 741.9439 - mse: 741.9439\n",
      "Epoch 91/100\n",
      "800/800 [==============================] - 2s 2ms/step - loss: 740.3353 - mse: 740.3353\n",
      "Epoch 92/100\n",
      "800/800 [==============================] - 2s 2ms/step - loss: 733.4985 - mse: 733.4985\n",
      "Epoch 93/100\n",
      "800/800 [==============================] - 2s 2ms/step - loss: 732.6143 - mse: 732.6143\n",
      "Epoch 94/100\n",
      "800/800 [==============================] - 2s 2ms/step - loss: 722.5179 - mse: 722.5179\n",
      "Epoch 95/100\n",
      "800/800 [==============================] - 2s 2ms/step - loss: 721.4130 - mse: 721.4130\n",
      "Epoch 96/100\n",
      "800/800 [==============================] - 2s 2ms/step - loss: 722.3492 - mse: 722.3492\n",
      "Epoch 97/100\n",
      "800/800 [==============================] - 2s 2ms/step - loss: 717.8051 - mse: 717.8051\n",
      "Epoch 98/100\n",
      "800/800 [==============================] - 2s 2ms/step - loss: 709.3489 - mse: 709.3489\n",
      "Epoch 99/100\n",
      "800/800 [==============================] - 2s 2ms/step - loss: 711.5712 - mse: 711.5712\n",
      "Epoch 100/100\n",
      "800/800 [==============================] - 2s 2ms/step - loss: 706.4335 - mse: 706.4335\n"
     ]
    },
    {
     "data": {
      "text/plain": [
       "<keras.callbacks.History at 0x7f21af7ed9f0>"
      ]
     },
     "execution_count": 154,
     "metadata": {},
     "output_type": "execute_result"
    }
   ],
   "source": [
    "model = create_model()\n",
    "model.fit(X_train, y_train, batch_size=100, epochs=100)"
   ]
  },
  {
   "cell_type": "code",
   "execution_count": 155,
   "id": "092e447d-b61d-45e8-9272-b83ccb084007",
   "metadata": {},
   "outputs": [
    {
     "name": "stdout",
     "output_type": "stream",
     "text": [
      "625/625 [==============================] - 1s 1ms/step\n"
     ]
    }
   ],
   "source": [
    "y_hat = model.predict(X_test)"
   ]
  },
  {
   "cell_type": "code",
   "execution_count": 156,
   "id": "c15ae039-1336-404e-a5ab-97d9ee4dfbe1",
   "metadata": {},
   "outputs": [],
   "source": [
    "def prev(y):\n",
    "    pos = y[:, np.where([c.startswith('pos_M') for c in outputs.columns])[0]]\n",
    "    prop = y[:, np.where([c.startswith('prop') for c in outputs.columns])[0]]\n",
    "    return np.average(pos, weights=prop, axis=1)"
   ]
  },
  {
   "cell_type": "code",
   "execution_count": 157,
   "id": "8675b600-b552-4557-931a-a4c55fb543b6",
   "metadata": {},
   "outputs": [
    {
     "data": {
      "text/plain": [
       "Text(0, 0.5, 'true')"
      ]
     },
     "execution_count": 157,
     "metadata": {},
     "output_type": "execute_result"
    },
    {
     "data": {
      "image/png": "[encoded data removed]",
      "text/plain": [
       "<Figure size 640x480 with 1 Axes>"
      ]
     },
     "metadata": {},
     "output_type": "display_data"
    }
   ],
   "source": [
    "plt.scatter(prev(y_hat), prev(y_test.to_numpy()), s=0.1)\n",
    "plt.plot(np.linspace(0, 0.02), np.linspace(0, 0.02), linestyle=':', color='orange')\n",
    "plt.xlabel('pred')\n",
    "plt.ylabel('true')"
   ]
  },
  {
   "cell_type": "code",
   "execution_count": 152,
   "id": "07575a1c-731d-4acf-ae44-1483f9ea6a51",
   "metadata": {},
   "outputs": [
    {
     "data": {
      "text/plain": [
       "Index(['pos_M_0', 'pos_M_1', 'pos_M_2', 'pos_M_3', 'pos_M_4', 'pos_M_5',\n",
       "       'pos_M_6', 'pos_M_7', 'pos_M_8', 'pos_M_9',\n",
       "       ...\n",
       "       'inc_91', 'inc_92', 'inc_93', 'inc_94', 'inc_95', 'inc_96', 'inc_97',\n",
       "       'inc_98', 'inc_99', 'inc_100'],\n",
       "      dtype='object', length=707)"
      ]
     },
     "execution_count": 152,
     "metadata": {},
     "output_type": "execute_result"
    }
   ],
   "source": [
    "outputs.columns"
   ]
  },
  {
   "cell_type": "code",
   "execution_count": null,
   "id": "7ac52825-43b2-40af-9ef2-2ed00078b76c",
   "metadata": {},
   "outputs": [],
   "source": []
  }
 ],
 "metadata": {
  "kernelspec": {
   "display_name": "Python 3 (ipykernel)",
   "language": "python",
   "name": "python3"
  },
  "language_info": {
   "codemirror_mode": {
    "name": "ipython",
    "version": 3
   },
   "file_extension": ".py",
   "mimetype": "text/x-python",
   "name": "python",
   "nbconvert_exporter": "python",
   "pygments_lexer": "ipython3",
   "version": "3.10.7"
  }
 },
 "nbformat": 4,
 "nbformat_minor": 5
}
